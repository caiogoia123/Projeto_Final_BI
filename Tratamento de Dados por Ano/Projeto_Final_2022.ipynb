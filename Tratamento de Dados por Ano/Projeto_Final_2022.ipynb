{
  "nbformat": 4,
  "nbformat_minor": 0,
  "metadata": {
    "colab": {
      "provenance": []
    },
    "kernelspec": {
      "name": "python3",
      "display_name": "Python 3"
    },
    "language_info": {
      "name": "python"
    }
  },
  "cells": [
    {
      "cell_type": "code",
      "execution_count": 1,
      "metadata": {
        "id": "D2vz2nplL-c2"
      },
      "outputs": [],
      "source": [
        "import pandas as pd\n",
        "import numpy as np"
      ]
    },
    {
      "cell_type": "code",
      "source": [
        "df = pd.read_csv('DO22OPEN.csv', sep=';')"
      ],
      "metadata": {
        "colab": {
          "base_uri": "https://localhost:8080/"
        },
        "id": "VPOYrS5fMDbA",
        "outputId": "1285f8e7-8ec8-4e2c-cebc-c0f5aa0aff64"
      },
      "execution_count": 2,
      "outputs": [
        {
          "output_type": "stream",
          "name": "stderr",
          "text": [
            "/tmp/ipython-input-124028148.py:1: DtypeWarning: Columns (66) have mixed types. Specify dtype option on import or set low_memory=False.\n",
            "  df = pd.read_csv('DO22OPEN.csv', sep=';')\n"
          ]
        }
      ]
    },
    {
      "cell_type": "markdown",
      "source": [
        "# Tratando datas"
      ],
      "metadata": {
        "id": "bFzcwe5H9OLM"
      }
    },
    {
      "cell_type": "code",
      "source": [
        "# Transformar em string\n",
        "df['DTOBITO'] = df['DTOBITO'].astype(str)\n",
        "\n",
        "# Completar com zeros à esquerda até ter 8 dígitos\n",
        "df['DTOBITO'] = df['DTOBITO'].str.zfill(8)\n",
        "\n",
        "# Converter para datetime\n",
        "df['DTOBITO'] = pd.to_datetime(df['DTOBITO'], format='%d%m%Y', errors='coerce')\n",
        "\n",
        "# Conferir\n",
        "print(df[['DTOBITO']].head())\n",
        "print(df['DTOBITO'].dtypes)"
      ],
      "metadata": {
        "id": "pcRPLHSHNidi",
        "colab": {
          "base_uri": "https://localhost:8080/"
        },
        "outputId": "b8e16ec7-4ca1-4604-a44b-8828cf7817d4"
      },
      "execution_count": 3,
      "outputs": [
        {
          "output_type": "stream",
          "name": "stdout",
          "text": [
            "     DTOBITO\n",
            "0 2022-04-21\n",
            "1 2022-04-22\n",
            "2 2022-04-22\n",
            "3 2022-04-23\n",
            "4 2022-04-20\n",
            "datetime64[ns]\n"
          ]
        }
      ]
    },
    {
      "cell_type": "code",
      "source": [
        "# Transformar em string\n",
        "df['DTRECORIGA'] = df['DTRECORIGA'].astype(str)\n",
        "\n",
        "# Completar com zeros à esquerda até ter 8 dígitos\n",
        "df['DTRECORIGA'] = df['DTRECORIGA'].str.zfill(8)\n",
        "\n",
        "# Converter para datetime\n",
        "df['DTRECORIGA'] = pd.to_datetime(df['DTRECORIGA'], format='%d%m%Y', errors='coerce')\n",
        "\n",
        "# Conferir\n",
        "print(df[['DTRECORIGA']].head())\n",
        "print(df['DTRECORIGA'].dtypes)"
      ],
      "metadata": {
        "id": "4GD3rmunNkPC",
        "colab": {
          "base_uri": "https://localhost:8080/"
        },
        "outputId": "2f76958d-2c59-422b-f91f-edc0d2107a62"
      },
      "execution_count": 4,
      "outputs": [
        {
          "output_type": "stream",
          "name": "stdout",
          "text": [
            "  DTRECORIGA\n",
            "0 2022-05-04\n",
            "1 2022-05-04\n",
            "2 2022-05-04\n",
            "3 2022-05-04\n",
            "4 2022-05-04\n",
            "datetime64[ns]\n"
          ]
        }
      ]
    },
    {
      "cell_type": "code",
      "source": [
        "# Substituir valores nulos por 22000101\n",
        "df['DTNASC'] = df['DTNASC'].fillna(1012200)\n",
        "\n",
        "# Se quiser converter para inteiro (opcional)\n",
        "df['DTNASC'] = df['DTNASC'].astype(int)\n",
        "\n",
        "# Se quiser como string (opcional)\n",
        "df['DTNASC'] = df['DTNASC'].astype(str)\n",
        "\n",
        "# Completar com zeros à esquerda até ter 8 dígitos\n",
        "df['DTNASC'] = df['DTNASC'].str.zfill(8)\n",
        "\n",
        "# Converter para datetime\n",
        "df['DTNASC'] = pd.to_datetime(df['DTNASC'], format='%d%m%Y', errors='coerce')\n",
        "\n",
        "# Conferir\n",
        "print(df[['DTNASC']].head())\n",
        "print(df['DTNASC'].dtypes)"
      ],
      "metadata": {
        "id": "SLGCIrVMNlXw",
        "colab": {
          "base_uri": "https://localhost:8080/"
        },
        "outputId": "4f7b7786-48f7-401e-b6c6-7d4101b589c1"
      },
      "execution_count": 5,
      "outputs": [
        {
          "output_type": "stream",
          "name": "stdout",
          "text": [
            "      DTNASC\n",
            "0 1922-04-29\n",
            "1 1948-07-05\n",
            "2 1952-10-10\n",
            "3 1938-06-25\n",
            "4 1956-10-18\n",
            "datetime64[ns]\n"
          ]
        }
      ]
    },
    {
      "cell_type": "code",
      "source": [
        "# Substituir valores nulos por 22000101\n",
        "df['DTATESTADO'] = df['DTATESTADO'].fillna(1012200)\n",
        "\n",
        "# Se quiser converter para inteiro (opcional)\n",
        "df['DTATESTADO'] = df['DTATESTADO'].astype(int)\n",
        "\n",
        "# Se quiser como string (opcional)\n",
        "df['DTATESTADO'] = df['DTATESTADO'].astype(str)\n",
        "\n",
        "# Completar com zeros à esquerda até ter 8 dígitos\n",
        "df['DTATESTADO'] = df['DTATESTADO'].str.zfill(8)\n",
        "\n",
        "# Converter para datetime\n",
        "df['DTATESTADO'] = pd.to_datetime(df['DTATESTADO'], format='%d%m%Y', errors='coerce')\n",
        "\n",
        "# Conferir\n",
        "print(df[['DTATESTADO']].head())\n",
        "print(df['DTATESTADO'].dtypes)"
      ],
      "metadata": {
        "id": "YJLFvMTlNm7k",
        "colab": {
          "base_uri": "https://localhost:8080/"
        },
        "outputId": "234f9117-1d83-4113-e04a-d6fadcb14103"
      },
      "execution_count": 6,
      "outputs": [
        {
          "output_type": "stream",
          "name": "stdout",
          "text": [
            "  DTATESTADO\n",
            "0 2022-04-22\n",
            "1 2022-04-23\n",
            "2 2022-04-23\n",
            "3 2022-04-23\n",
            "4 2022-04-20\n",
            "datetime64[ns]\n"
          ]
        }
      ]
    },
    {
      "cell_type": "code",
      "source": [
        "# Substituir valores nulos por 22000101\n",
        "df['DTINVESTIG'] = df['DTINVESTIG'].fillna(1012200)\n",
        "\n",
        "# Se quiser converter para inteiro (opcional)\n",
        "df['DTINVESTIG'] = df['DTINVESTIG'].astype(int)\n",
        "\n",
        "# Se quiser como string (opcional)\n",
        "df['DTINVESTIG'] = df['DTINVESTIG'].astype(str)\n",
        "\n",
        "# Completar com zeros à esquerda até ter 8 dígitos\n",
        "df['DTINVESTIG'] = df['DTINVESTIG'].str.zfill(8)\n",
        "\n",
        "# Converter para datetime\n",
        "df['DTINVESTIG'] = pd.to_datetime(df['DTINVESTIG'], format='%d%m%Y', errors='coerce')\n",
        "\n",
        "# Conferir\n",
        "print(df[['DTINVESTIG']].head())\n",
        "print(df['DTINVESTIG'].dtypes)"
      ],
      "metadata": {
        "id": "BPVZxZv8NpLv",
        "colab": {
          "base_uri": "https://localhost:8080/"
        },
        "outputId": "5deaecd0-4fa6-4441-f3f2-ea7caf266520"
      },
      "execution_count": 7,
      "outputs": [
        {
          "output_type": "stream",
          "name": "stdout",
          "text": [
            "  DTINVESTIG\n",
            "0 2022-05-02\n",
            "1 2022-05-02\n",
            "2 2022-05-02\n",
            "3 2022-05-02\n",
            "4 2200-01-01\n",
            "datetime64[ns]\n"
          ]
        }
      ]
    },
    {
      "cell_type": "code",
      "source": [
        "var =  'DTCADASTRO'\n",
        " # Substituir valores nulos por 22000101\n",
        "df[var] = df[var].fillna(1012200)\n",
        "\n",
        "# Se quiser converter para inteiro (opcional)\n",
        "df[var] = df[var].astype(int)\n",
        "\n",
        "# Se quiser como string (opcional)\n",
        "df[var] = df[var].astype(str)\n",
        "\n",
        "# Completar com zeros à esquerda até ter 8 dígitos\n",
        "df[var] = df[var].str.zfill(8)\n",
        "\n",
        "# Converter para datetime\n",
        "df[var] = pd.to_datetime(df[var], format='%d%m%Y', errors='coerce')\n",
        "\n",
        "# Conferir\n",
        "print(df[[var]].head())\n",
        "print(df[var].dtypes)"
      ],
      "metadata": {
        "id": "pY7jZe_aNq7A",
        "colab": {
          "base_uri": "https://localhost:8080/"
        },
        "outputId": "3824ec07-ad15-469c-8dab-5ae9c8b8d037"
      },
      "execution_count": 8,
      "outputs": [
        {
          "output_type": "stream",
          "name": "stdout",
          "text": [
            "  DTCADASTRO\n",
            "0 2022-04-29\n",
            "1 2022-04-29\n",
            "2 2022-04-29\n",
            "3 2022-04-29\n",
            "4 2022-04-29\n",
            "datetime64[ns]\n"
          ]
        }
      ]
    },
    {
      "cell_type": "code",
      "source": [
        "var =  'DTRECEBIM'\n",
        " # Substituir valores nulos por 22000101\n",
        "df[var] = df[var].fillna(1012200)\n",
        "\n",
        "# Se quiser converter para inteiro (opcional)\n",
        "df[var] = df[var].astype(int)\n",
        "\n",
        "# Se quiser como string (opcional)\n",
        "df[var] = df[var].astype(str)\n",
        "\n",
        "# Completar com zeros à esquerda até ter 8 dígitos\n",
        "df[var] = df[var].str.zfill(8)\n",
        "\n",
        "# Converter para datetime\n",
        "df[var] = pd.to_datetime(df[var], format='%d%m%Y', errors='coerce')\n",
        "\n",
        "# Conferir\n",
        "print(df[[var]].head())\n",
        "print(df[var].dtypes)"
      ],
      "metadata": {
        "id": "Sm6atRYHNsLM",
        "colab": {
          "base_uri": "https://localhost:8080/"
        },
        "outputId": "7407ff7e-5cf1-464d-c040-e6029be9414b"
      },
      "execution_count": 9,
      "outputs": [
        {
          "output_type": "stream",
          "name": "stdout",
          "text": [
            "   DTRECEBIM\n",
            "0 2022-05-04\n",
            "1 2022-05-04\n",
            "2 2022-05-04\n",
            "3 2022-05-04\n",
            "4 2022-05-04\n",
            "datetime64[ns]\n"
          ]
        }
      ]
    },
    {
      "cell_type": "code",
      "source": [
        "var =  'DTCADINV'\n",
        " # Substituir valores nulos por 22000101\n",
        "df[var] = df[var].fillna(1012200)\n",
        "\n",
        "# Se quiser converter para inteiro (opcional)\n",
        "df[var] = df[var].astype(int)\n",
        "\n",
        "# Se quiser como string (opcional)\n",
        "df[var] = df[var].astype(str)\n",
        "\n",
        "# Completar com zeros à esquerda até ter 8 dígitos\n",
        "df[var] = df[var].str.zfill(8)\n",
        "\n",
        "# Converter para datetime\n",
        "df[var] = pd.to_datetime(df[var], format='%d%m%Y', errors='coerce')\n",
        "\n",
        "# Conferir\n",
        "print(df[[var]].head())\n",
        "print(df[var].dtypes)"
      ],
      "metadata": {
        "id": "iX9Ks27DNtV6",
        "colab": {
          "base_uri": "https://localhost:8080/"
        },
        "outputId": "796dadc5-a2fe-45f0-bf4d-cd2c03d14d9d"
      },
      "execution_count": 10,
      "outputs": [
        {
          "output_type": "stream",
          "name": "stdout",
          "text": [
            "    DTCADINV\n",
            "0 2200-01-01\n",
            "1 2200-01-01\n",
            "2 2200-01-01\n",
            "3 2200-01-01\n",
            "4 2200-01-01\n",
            "datetime64[ns]\n"
          ]
        }
      ]
    },
    {
      "cell_type": "code",
      "source": [
        "var =  'DTCONINV'\n",
        " # Substituir valores nulos por 22000101\n",
        "df[var] = df[var].fillna(1012200)\n",
        "\n",
        "# Se quiser converter para inteiro (opcional)\n",
        "df[var] = df[var].astype(int)\n",
        "\n",
        "# Se quiser como string (opcional)\n",
        "df[var] = df[var].astype(str)\n",
        "\n",
        "# Completar com zeros à esquerda até ter 8 dígitos\n",
        "df[var] = df[var].str.zfill(8)\n",
        "\n",
        "# Converter para datetime\n",
        "df[var] = pd.to_datetime(df[var], format='%d%m%Y', errors='coerce')\n",
        "\n",
        "# Conferir\n",
        "print(df[[var]].head())\n",
        "print(df[var].dtypes)"
      ],
      "metadata": {
        "id": "jigl0SUZNuhK",
        "colab": {
          "base_uri": "https://localhost:8080/"
        },
        "outputId": "ce450862-35e4-4a19-f0c9-9f644b3ceb42"
      },
      "execution_count": 11,
      "outputs": [
        {
          "output_type": "stream",
          "name": "stdout",
          "text": [
            "    DTCONINV\n",
            "0 2200-01-01\n",
            "1 2200-01-01\n",
            "2 2200-01-01\n",
            "3 2200-01-01\n",
            "4 2200-01-01\n",
            "datetime64[ns]\n"
          ]
        }
      ]
    },
    {
      "cell_type": "code",
      "source": [
        "var =  'DTCADINF'\n",
        " # Substituir valores nulos por 22000101\n",
        "df[var] = df[var].fillna(1012200)\n",
        "\n",
        "# Se quiser converter para inteiro (opcional)\n",
        "df[var] = df[var].astype(int)\n",
        "\n",
        "# Se quiser como string (opcional)\n",
        "df[var] = df[var].astype(str)\n",
        "\n",
        "# Completar com zeros à esquerda até ter 8 dígitos\n",
        "df[var] = df[var].str.zfill(8)\n",
        "\n",
        "# Converter para datetime\n",
        "df[var] = pd.to_datetime(df[var], format='%d%m%Y', errors='coerce')\n",
        "\n",
        "# Conferir\n",
        "print(df[[var]].head())\n",
        "print(df[var].dtypes)"
      ],
      "metadata": {
        "id": "zeQXGW4CNvx8",
        "colab": {
          "base_uri": "https://localhost:8080/"
        },
        "outputId": "af338767-8489-4986-dc09-ed25f1fe957b"
      },
      "execution_count": 12,
      "outputs": [
        {
          "output_type": "stream",
          "name": "stdout",
          "text": [
            "    DTCADINF\n",
            "0 2200-01-01\n",
            "1 2200-01-01\n",
            "2 2200-01-01\n",
            "3 2200-01-01\n",
            "4 2200-01-01\n",
            "datetime64[ns]\n"
          ]
        }
      ]
    },
    {
      "cell_type": "code",
      "source": [
        "var =  'DTCONCASO'\n",
        " # Substituir valores nulos por 22000101\n",
        "df[var] = df[var].fillna(1012200)\n",
        "\n",
        "# Se quiser converter para inteiro (opcional)\n",
        "df[var] = df[var].astype(int)\n",
        "\n",
        "# Se quiser como string (opcional)\n",
        "df[var] = df[var].astype(str)\n",
        "\n",
        "# Completar com zeros à esquerda até ter 8 dígitos\n",
        "df[var] = df[var].str.zfill(8)\n",
        "\n",
        "# Converter para datetime\n",
        "df[var] = pd.to_datetime(df[var], format='%d%m%Y', errors='coerce')\n",
        "\n",
        "# Conferir\n",
        "print(df[[var]].head())\n",
        "print(df[var].dtypes)"
      ],
      "metadata": {
        "id": "SS3jsgvWNxIY",
        "colab": {
          "base_uri": "https://localhost:8080/"
        },
        "outputId": "9cd11fb7-fbb2-4b71-8a8c-57b04220fbe8"
      },
      "execution_count": 13,
      "outputs": [
        {
          "output_type": "stream",
          "name": "stdout",
          "text": [
            "   DTCONCASO\n",
            "0 2200-01-01\n",
            "1 2200-01-01\n",
            "2 2200-01-01\n",
            "3 2200-01-01\n",
            "4 2200-01-01\n",
            "datetime64[ns]\n"
          ]
        }
      ]
    },
    {
      "cell_type": "code",
      "source": [
        "# Preencher valores nulos em todas as colunas restantes com -1\n",
        "df = df.fillna(-1)"
      ],
      "metadata": {
        "id": "Jt1fRVN3NyUd"
      },
      "execution_count": 14,
      "outputs": []
    },
    {
      "cell_type": "markdown",
      "source": [
        "# Ajustes de Idade e Ocupação"
      ],
      "metadata": {
        "id": "dm-t2FsIFjGL"
      }
    },
    {
      "cell_type": "code",
      "source": [
        "df['TIPOIDADE'] = np.where(df['IDADE'] < 100, 0, df['IDADE'].astype(str).str[0].astype(int))\n",
        "df['NR_IDADE'] = np.where(df['IDADE'] < 100, df['IDADE'],\n",
        "                                 df['IDADE'].astype(str).str[1:].apply(lambda x: int(x) if x else 0))\n",
        "df['OCUP'] = np.where(df['OCUP'] > 999990, 999999, df['OCUP'])"
      ],
      "metadata": {
        "id": "7d6GLQfPFlZo"
      },
      "execution_count": 15,
      "outputs": []
    },
    {
      "cell_type": "markdown",
      "source": [
        "# Criando Coluna Chave primária"
      ],
      "metadata": {
        "id": "AckW3rPC9Zks"
      }
    },
    {
      "cell_type": "code",
      "source": [
        "# Garantir que DTOBITO está no formato datetime\n",
        "df[\"DTOBITO\"] = pd.to_datetime(df[\"DTOBITO\"], errors=\"coerce\")\n",
        "\n",
        "# Pega o ano e concatena com o CONTADOR\n",
        "df[\"CD_OBITO\"] = (df[\"CONTADOR\"].astype(str) + df[\"DTOBITO\"].dt.year.astype(str)).astype(int)\n",
        "\n",
        "# Conferir\n",
        "print(df[[\"CONTADOR\", \"DTOBITO\", \"CD_OBITO\"]].head())\n"
      ],
      "metadata": {
        "colab": {
          "base_uri": "https://localhost:8080/"
        },
        "id": "kkd9Fywa9cZs",
        "outputId": "2c4000fd-eba6-4d21-bcaa-257824c45fc1"
      },
      "execution_count": 16,
      "outputs": [
        {
          "output_type": "stream",
          "name": "stdout",
          "text": [
            "   CONTADOR    DTOBITO  CD_OBITO\n",
            "0         1 2022-04-21     12022\n",
            "1         2 2022-04-22     22022\n",
            "2         3 2022-04-22     32022\n",
            "3         4 2022-04-23     42022\n",
            "4         5 2022-04-20     52022\n"
          ]
        }
      ]
    },
    {
      "cell_type": "markdown",
      "source": [
        "# Tratando CID"
      ],
      "metadata": {
        "id": "VedRB4Aj9e5K"
      }
    },
    {
      "cell_type": "code",
      "source": [
        "# 🔹 Função auxiliar: normalizar string de CID\n",
        "def normalize_series(series):\n",
        "    return (\n",
        "        series.fillna(\"-1\")\n",
        "        .astype(str)\n",
        "        .str.upper()\n",
        "        .str.replace(\"*\", \"\", regex=False)\n",
        "        .replace({\"\": \"-1\"})\n",
        "    )\n",
        "\n",
        "# === TERMINAL (LINHAA) ===\n",
        "terminal = (\n",
        "    df[\"LINHAA\"]\n",
        "    .fillna(\"-1\")\n",
        "    .astype(str)\n",
        "    .str.upper()\n",
        "    .str.replace(\"*\", \" \", regex=False)\n",
        "    .str.split()\n",
        ")\n",
        "\n",
        "df[\"TERMINAL_1\"] = terminal.str[0].fillna(\"-1\")\n",
        "df[\"TERMINAL_2\"] = terminal.str[1].fillna(\"-1\")\n",
        "\n",
        "# === ANTECEDENTES (LINHAB e LINHAC) ===\n",
        "ante_b = (\n",
        "    df[\"LINHAB\"]\n",
        "    .fillna(\"-1\")\n",
        "    .astype(str)\n",
        "    .str.upper()\n",
        "    .str.replace(\"*\", \" \", regex=False)\n",
        "    .str.split()\n",
        ")\n",
        "\n",
        "df[\"ANTECEDENTE_1\"] = ante_b.str[0].fillna(\"-1\")\n",
        "df[\"ANTECEDENTE_2\"] = ante_b.str[1].fillna(\"-1\")\n",
        "\n",
        "ante_c = (\n",
        "    df[\"LINHAC\"]\n",
        "    .fillna(\"-1\")\n",
        "    .astype(str)\n",
        "    .str.upper()\n",
        "    .str.replace(\"*\", \" \", regex=False)\n",
        "    .str.split()\n",
        ")\n",
        "\n",
        "df[\"ANTECEDENTE_3\"] = ante_c.str[0].fillna(\"-1\")\n",
        "df[\"ANTECEDENTE_4\"] = ante_c.str[1].fillna(\"-1\")\n",
        "\n",
        "# === CAUSAS BÁSICAS ===\n",
        "df[\"BASICA_1\"] = normalize_series(df[\"CAUSABAS\"])\n",
        "df[\"BASICA_2\"] = normalize_series(df[\"CAUSABAS_O\"])\n"
      ],
      "metadata": {
        "id": "I8XJkC1z9hVY"
      },
      "execution_count": 17,
      "outputs": []
    },
    {
      "cell_type": "code",
      "source": [
        "colunas_excluir = [\n",
        "    \"CB_PRE\", \"CAUSAMAT\", \"EXAME\", \"CIRURGIA\", \"SERIESCFAL\", \"SERIESCMAE\",\n",
        "    \"ESCMAEAGR1\", \"TPRESGINFO\", \"TP_ALTERA\", \"CB_ALT\", \"MORTEPARTO\",\n",
        "    \"ALTCAUSA\", \"FONTES\", \"DTCADINF\", \"DTCONCASO\", \"VERSAOSIST\", \"VERSAOSCB\",\n",
        "    \"OPOR_DO\", \"STCODIFICA\", \"CODIFICADO\", \"TPMORTEOCO\", \"COMUNSVOIM\", \"OBITOGRAV\",\n",
        "    \"OBITOPUERP\", \"FONTEINV\", \"DTINVESTIG\", \"NUDIASOBCO\", \"DTCADINV\", \"TPNIVELINV\",\n",
        "    \"IDADEMAE\", \"ESCMAE\", \"ESCMAE2010\", \"SERIESCMAE\", \"OCUPMAE\",\n",
        "    \"QTDFILVIVO\", \"QTDFILMORT\", \"GRAVIDEZ\", \"SEMAGESTAC\", \"GESTACAO\",\n",
        "    \"PARTO\", \"OBITOPARTO\", \"PESO\", \"CB_PRE\", \"CAUSAMAT\", \"ESCMAEAGR1\",\n",
        "    \"MORTEPARTO\", \"contador\", \"ORIGEM\", \"ESC\", \"FONTES\", \"NECROPSIA\", \"ACIDTRAB\",\n",
        "    \"FONTE\", \"NUMEROLOTE\", \"DTCADASTRO\", \"ATESTANTE\", \"DTRECEBIM\", \"DTRECORIGA\",\n",
        "    \"STDONOVA\", \"DIFDATA\",\"TPOBITOCOR\", \"DTCONINV\", \"ESC2010\", \"TIPOBITO\",\n",
        "    \"ESTABDESCR\", \"NUDIASOBIN\",\"NUDIASINF\", \"FONTESINF\", \"CODMUNNATU\",\n",
        "    \"ATESTADO\", \"NATURAL\", \"DTATESTADO\", \"CONTADOR\", \"LINHAA\", \"LINHAB\",\n",
        "    \"LINHAC\", \"LINHAD\", \"LINHAII\", \"CAUSABAS\", \"CAUSABAS_O\"\n",
        "\n",
        "\n",
        "]\n",
        "\n",
        "df = df.drop(columns=colunas_excluir, errors=\"ignore\")\n",
        ""
      ],
      "metadata": {
        "id": "8PJK38ca9hyH"
      },
      "execution_count": 18,
      "outputs": []
    },
    {
      "cell_type": "code",
      "source": [
        "df.info()"
      ],
      "metadata": {
        "colab": {
          "base_uri": "https://localhost:8080/"
        },
        "id": "xvjfEQOV_iFV",
        "outputId": "d9330b82-f697-477c-a18f-6a399fa18ee5"
      },
      "execution_count": 19,
      "outputs": [
        {
          "output_type": "stream",
          "name": "stdout",
          "text": [
            "<class 'pandas.core.frame.DataFrame'>\n",
            "RangeIndex: 1544266 entries, 0 to 1544265\n",
            "Data columns (total 28 columns):\n",
            " #   Column         Non-Null Count    Dtype         \n",
            "---  ------         --------------    -----         \n",
            " 0   DTOBITO        1544266 non-null  datetime64[ns]\n",
            " 1   HORAOBITO      1544266 non-null  float64       \n",
            " 2   DTNASC         1544266 non-null  object        \n",
            " 3   IDADE          1544266 non-null  int64         \n",
            " 4   SEXO           1544266 non-null  int64         \n",
            " 5   RACACOR        1544266 non-null  float64       \n",
            " 6   ESTCIV         1544266 non-null  float64       \n",
            " 7   OCUP           1544266 non-null  float64       \n",
            " 8   CODMUNRES      1544266 non-null  int64         \n",
            " 9   LOCOCOR        1544266 non-null  int64         \n",
            " 10  CODESTAB       1544266 non-null  float64       \n",
            " 11  CODMUNOCOR     1544266 non-null  int64         \n",
            " 12  ASSISTMED      1544266 non-null  float64       \n",
            " 13  CIRCOBITO      1544266 non-null  float64       \n",
            " 14  TPPOS          1544266 non-null  object        \n",
            " 15  ESCFALAGR1     1544266 non-null  float64       \n",
            " 16  STDOEPIDEM     1544266 non-null  float64       \n",
            " 17  TIPOIDADE      1544266 non-null  int64         \n",
            " 18  NR_IDADE       1544266 non-null  int64         \n",
            " 19  CD_OBITO       1544266 non-null  int64         \n",
            " 20  TERMINAL_1     1544266 non-null  object        \n",
            " 21  TERMINAL_2     1544266 non-null  object        \n",
            " 22  ANTECEDENTE_1  1544266 non-null  object        \n",
            " 23  ANTECEDENTE_2  1544266 non-null  object        \n",
            " 24  ANTECEDENTE_3  1544266 non-null  object        \n",
            " 25  ANTECEDENTE_4  1544266 non-null  object        \n",
            " 26  BASICA_1       1544266 non-null  object        \n",
            " 27  BASICA_2       1544266 non-null  object        \n",
            "dtypes: datetime64[ns](1), float64(9), int64(8), object(10)\n",
            "memory usage: 329.9+ MB\n"
          ]
        }
      ]
    },
    {
      "cell_type": "code",
      "source": [
        "df.to_csv('DO_22.csv', index=False)"
      ],
      "metadata": {
        "id": "MeyRaE2qFpsy"
      },
      "execution_count": 20,
      "outputs": []
    }
  ]
}