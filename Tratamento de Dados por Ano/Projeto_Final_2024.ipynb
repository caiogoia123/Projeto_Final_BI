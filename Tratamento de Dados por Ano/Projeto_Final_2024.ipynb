{
  "nbformat": 4,
  "nbformat_minor": 0,
  "metadata": {
    "colab": {
      "provenance": []
    },
    "kernelspec": {
      "name": "python3",
      "display_name": "Python 3"
    },
    "language_info": {
      "name": "python"
    }
  },
  "cells": [
    {
      "cell_type": "code",
      "execution_count": 1,
      "metadata": {
        "id": "D2vz2nplL-c2"
      },
      "outputs": [],
      "source": [
        "import pandas as pd\n",
        "import numpy as np"
      ]
    },
    {
      "cell_type": "code",
      "source": [
        "df = pd.read_csv('DO24OPEN.csv', sep=';')"
      ],
      "metadata": {
        "id": "VPOYrS5fMDbA",
        "colab": {
          "base_uri": "https://localhost:8080/"
        },
        "outputId": "e009634a-ca8d-4811-f1ba-92b702763b7d"
      },
      "execution_count": 2,
      "outputs": [
        {
          "output_type": "stream",
          "name": "stderr",
          "text": [
            "/tmp/ipython-input-18392690.py:1: DtypeWarning: Columns (65) have mixed types. Specify dtype option on import or set low_memory=False.\n",
            "  df = pd.read_csv('DO24OPEN.csv', sep=';')\n"
          ]
        }
      ]
    },
    {
      "cell_type": "markdown",
      "source": [
        "# Tratatando datas"
      ],
      "metadata": {
        "id": "F51PDjWY_HKp"
      }
    },
    {
      "cell_type": "code",
      "source": [
        "# Transformar em string\n",
        "df['DTOBITO'] = df['DTOBITO'].astype(str)\n",
        "\n",
        "# Completar com zeros à esquerda até ter 8 dígitos\n",
        "df['DTOBITO'] = df['DTOBITO'].str.zfill(8)\n",
        "\n",
        "# Converter para datetime\n",
        "df['DTOBITO'] = pd.to_datetime(df['DTOBITO'], format='%d%m%Y', errors='coerce')\n",
        "\n",
        "# Conferir\n",
        "print(df[['DTOBITO']].head())\n",
        "print(df['DTOBITO'].dtypes)"
      ],
      "metadata": {
        "id": "pcRPLHSHNidi",
        "colab": {
          "base_uri": "https://localhost:8080/"
        },
        "outputId": "92dd8b40-d11a-48e7-ee47-a8bff44f161a"
      },
      "execution_count": 3,
      "outputs": [
        {
          "output_type": "stream",
          "name": "stdout",
          "text": [
            "     DTOBITO\n",
            "0 2024-04-19\n",
            "1 2024-01-18\n",
            "2 2024-01-22\n",
            "3 2024-03-24\n",
            "4 2024-01-12\n",
            "datetime64[ns]\n"
          ]
        }
      ]
    },
    {
      "cell_type": "code",
      "source": [
        "# Transformar em string\n",
        "df['DTRECORIGA'] = df['DTRECORIGA'].astype(str)\n",
        "\n",
        "# Completar com zeros à esquerda até ter 8 dígitos\n",
        "df['DTRECORIGA'] = df['DTRECORIGA'].str.zfill(8)\n",
        "\n",
        "# Converter para datetime\n",
        "df['DTRECORIGA'] = pd.to_datetime(df['DTRECORIGA'], format='%d%m%Y', errors='coerce')\n",
        "\n",
        "# Conferir\n",
        "print(df[['DTRECORIGA']].head())\n",
        "print(df['DTRECORIGA'].dtypes)"
      ],
      "metadata": {
        "id": "4GD3rmunNkPC",
        "colab": {
          "base_uri": "https://localhost:8080/"
        },
        "outputId": "260d6a20-35d4-4f2c-b083-c756a79a781c"
      },
      "execution_count": 4,
      "outputs": [
        {
          "output_type": "stream",
          "name": "stdout",
          "text": [
            "  DTRECORIGA\n",
            "0 2024-05-08\n",
            "1 2024-02-06\n",
            "2 2024-02-06\n",
            "3 2024-05-08\n",
            "4 2024-02-06\n",
            "datetime64[ns]\n"
          ]
        }
      ]
    },
    {
      "cell_type": "code",
      "source": [
        "# Substituir valores nulos por 22000101\n",
        "df['DTNASC'] = df['DTNASC'].fillna(1012200)\n",
        "\n",
        "# Se quiser converter para inteiro (opcional)\n",
        "df['DTNASC'] = df['DTNASC'].astype(int)\n",
        "\n",
        "# Se quiser como string (opcional)\n",
        "df['DTNASC'] = df['DTNASC'].astype(str)\n",
        "\n",
        "# Completar com zeros à esquerda até ter 8 dígitos\n",
        "df['DTNASC'] = df['DTNASC'].str.zfill(8)\n",
        "\n",
        "# Converter para datetime\n",
        "df['DTNASC'] = pd.to_datetime(df['DTNASC'], format='%d%m%Y', errors='coerce')\n",
        "\n",
        "# Conferir\n",
        "print(df[['DTNASC']].head())\n",
        "print(df['DTNASC'].dtypes)"
      ],
      "metadata": {
        "id": "SLGCIrVMNlXw",
        "colab": {
          "base_uri": "https://localhost:8080/"
        },
        "outputId": "b6807a38-2ae3-432c-82cb-eb40ac515e11"
      },
      "execution_count": 5,
      "outputs": [
        {
          "output_type": "stream",
          "name": "stdout",
          "text": [
            "      DTNASC\n",
            "0 1964-12-24\n",
            "1 1958-04-29\n",
            "2 1939-03-23\n",
            "3 1944-06-10\n",
            "4 1950-03-08\n",
            "datetime64[ns]\n"
          ]
        }
      ]
    },
    {
      "cell_type": "code",
      "source": [
        "# Substituir valores nulos por 22000101\n",
        "df['DTATESTADO'] = df['DTATESTADO'].fillna(1012200)\n",
        "\n",
        "# Se quiser converter para inteiro (opcional)\n",
        "df['DTATESTADO'] = df['DTATESTADO'].astype(int)\n",
        "\n",
        "# Se quiser como string (opcional)\n",
        "df['DTATESTADO'] = df['DTATESTADO'].astype(str)\n",
        "\n",
        "# Completar com zeros à esquerda até ter 8 dígitos\n",
        "df['DTATESTADO'] = df['DTATESTADO'].str.zfill(8)\n",
        "\n",
        "# Converter para datetime\n",
        "df['DTATESTADO'] = pd.to_datetime(df['DTATESTADO'], format='%d%m%Y', errors='coerce')\n",
        "\n",
        "# Conferir\n",
        "print(df[['DTATESTADO']].head())\n",
        "print(df['DTATESTADO'].dtypes)"
      ],
      "metadata": {
        "id": "YJLFvMTlNm7k",
        "colab": {
          "base_uri": "https://localhost:8080/"
        },
        "outputId": "82a2a915-54fa-458f-d484-b7967f6009c5"
      },
      "execution_count": 6,
      "outputs": [
        {
          "output_type": "stream",
          "name": "stdout",
          "text": [
            "  DTATESTADO\n",
            "0 2024-04-19\n",
            "1 2024-01-18\n",
            "2 2024-01-22\n",
            "3 2024-03-25\n",
            "4 2024-01-12\n",
            "datetime64[ns]\n"
          ]
        }
      ]
    },
    {
      "cell_type": "code",
      "source": [
        "# Substituir valores nulos por 22000101\n",
        "df['DTINVESTIG'] = df['DTINVESTIG'].fillna(1012200)\n",
        "\n",
        "# Se quiser converter para inteiro (opcional)\n",
        "df['DTINVESTIG'] = df['DTINVESTIG'].astype(int)\n",
        "\n",
        "# Se quiser como string (opcional)\n",
        "df['DTINVESTIG'] = df['DTINVESTIG'].astype(str)\n",
        "\n",
        "# Completar com zeros à esquerda até ter 8 dígitos\n",
        "df['DTINVESTIG'] = df['DTINVESTIG'].str.zfill(8)\n",
        "\n",
        "# Converter para datetime\n",
        "df['DTINVESTIG'] = pd.to_datetime(df['DTINVESTIG'], format='%d%m%Y', errors='coerce')\n",
        "\n",
        "# Conferir\n",
        "print(df[['DTINVESTIG']].head())\n",
        "print(df['DTINVESTIG'].dtypes)"
      ],
      "metadata": {
        "id": "BPVZxZv8NpLv",
        "colab": {
          "base_uri": "https://localhost:8080/"
        },
        "outputId": "83277f8c-8bee-4a7a-c4a8-43927dd01e55"
      },
      "execution_count": 7,
      "outputs": [
        {
          "output_type": "stream",
          "name": "stdout",
          "text": [
            "  DTINVESTIG\n",
            "0 2200-01-01\n",
            "1 2200-01-01\n",
            "2 2200-01-01\n",
            "3 2200-01-01\n",
            "4 2200-01-01\n",
            "datetime64[ns]\n"
          ]
        }
      ]
    },
    {
      "cell_type": "code",
      "source": [
        "var =  'DTCADASTRO'\n",
        " # Substituir valores nulos por 22000101\n",
        "df[var] = df[var].fillna(1012200)\n",
        "\n",
        "# Se quiser converter para inteiro (opcional)\n",
        "df[var] = df[var].astype(int)\n",
        "\n",
        "# Se quiser como string (opcional)\n",
        "df[var] = df[var].astype(str)\n",
        "\n",
        "# Completar com zeros à esquerda até ter 8 dígitos\n",
        "df[var] = df[var].str.zfill(8)\n",
        "\n",
        "# Converter para datetime\n",
        "df[var] = pd.to_datetime(df[var], format='%d%m%Y', errors='coerce')\n",
        "\n",
        "# Conferir\n",
        "print(df[[var]].head())\n",
        "print(df[var].dtypes)"
      ],
      "metadata": {
        "id": "pY7jZe_aNq7A",
        "colab": {
          "base_uri": "https://localhost:8080/"
        },
        "outputId": "5b4c74fe-0aab-4b85-824e-000a766ac321"
      },
      "execution_count": 8,
      "outputs": [
        {
          "output_type": "stream",
          "name": "stdout",
          "text": [
            "  DTCADASTRO\n",
            "0 2024-05-03\n",
            "1 2024-02-06\n",
            "2 2024-02-06\n",
            "3 2024-04-12\n",
            "4 2024-02-05\n",
            "datetime64[ns]\n"
          ]
        }
      ]
    },
    {
      "cell_type": "code",
      "source": [
        "var =  'DTRECEBIM'\n",
        " # Substituir valores nulos por 22000101\n",
        "df[var] = df[var].fillna(1012200)\n",
        "\n",
        "# Se quiser converter para inteiro (opcional)\n",
        "df[var] = df[var].astype(int)\n",
        "\n",
        "# Se quiser como string (opcional)\n",
        "df[var] = df[var].astype(str)\n",
        "\n",
        "# Completar com zeros à esquerda até ter 8 dígitos\n",
        "df[var] = df[var].str.zfill(8)\n",
        "\n",
        "# Converter para datetime\n",
        "df[var] = pd.to_datetime(df[var], format='%d%m%Y', errors='coerce')\n",
        "\n",
        "# Conferir\n",
        "print(df[[var]].head())\n",
        "print(df[var].dtypes)"
      ],
      "metadata": {
        "id": "Sm6atRYHNsLM",
        "colab": {
          "base_uri": "https://localhost:8080/"
        },
        "outputId": "df0e4749-c260-4875-b445-03462fdbe836"
      },
      "execution_count": 9,
      "outputs": [
        {
          "output_type": "stream",
          "name": "stdout",
          "text": [
            "   DTRECEBIM\n",
            "0 2024-05-08\n",
            "1 2024-02-06\n",
            "2 2024-02-06\n",
            "3 2024-05-08\n",
            "4 2024-02-06\n",
            "datetime64[ns]\n"
          ]
        }
      ]
    },
    {
      "cell_type": "code",
      "source": [
        "var =  'DTCADINV'\n",
        " # Substituir valores nulos por 22000101\n",
        "df[var] = df[var].fillna(1012200)\n",
        "\n",
        "# Se quiser converter para inteiro (opcional)\n",
        "df[var] = df[var].astype(int)\n",
        "\n",
        "# Se quiser como string (opcional)\n",
        "df[var] = df[var].astype(str)\n",
        "\n",
        "# Completar com zeros à esquerda até ter 8 dígitos\n",
        "df[var] = df[var].str.zfill(8)\n",
        "\n",
        "# Converter para datetime\n",
        "df[var] = pd.to_datetime(df[var], format='%d%m%Y', errors='coerce')\n",
        "\n",
        "# Conferir\n",
        "print(df[[var]].head())\n",
        "print(df[var].dtypes)"
      ],
      "metadata": {
        "id": "iX9Ks27DNtV6",
        "colab": {
          "base_uri": "https://localhost:8080/"
        },
        "outputId": "18ee8d8b-cdf9-476d-a663-30dc26053862"
      },
      "execution_count": 10,
      "outputs": [
        {
          "output_type": "stream",
          "name": "stdout",
          "text": [
            "    DTCADINV\n",
            "0 2200-01-01\n",
            "1 2200-01-01\n",
            "2 2200-01-01\n",
            "3 2200-01-01\n",
            "4 2200-01-01\n",
            "datetime64[ns]\n"
          ]
        }
      ]
    },
    {
      "cell_type": "code",
      "source": [
        "var =  'DTCONINV'\n",
        " # Substituir valores nulos por 22000101\n",
        "df[var] = df[var].fillna(1012200)\n",
        "\n",
        "# Se quiser converter para inteiro (opcional)\n",
        "df[var] = df[var].astype(int)\n",
        "\n",
        "# Se quiser como string (opcional)\n",
        "df[var] = df[var].astype(str)\n",
        "\n",
        "# Completar com zeros à esquerda até ter 8 dígitos\n",
        "df[var] = df[var].str.zfill(8)\n",
        "\n",
        "# Converter para datetime\n",
        "df[var] = pd.to_datetime(df[var], format='%d%m%Y', errors='coerce')\n",
        "\n",
        "# Conferir\n",
        "print(df[[var]].head())\n",
        "print(df[var].dtypes)"
      ],
      "metadata": {
        "id": "jigl0SUZNuhK",
        "colab": {
          "base_uri": "https://localhost:8080/"
        },
        "outputId": "fd5d3fb1-88d9-409d-d9ce-e8d48904190a"
      },
      "execution_count": 11,
      "outputs": [
        {
          "output_type": "stream",
          "name": "stdout",
          "text": [
            "    DTCONINV\n",
            "0 2200-01-01\n",
            "1 2200-01-01\n",
            "2 2200-01-01\n",
            "3 2200-01-01\n",
            "4 2200-01-01\n",
            "datetime64[ns]\n"
          ]
        }
      ]
    },
    {
      "cell_type": "code",
      "source": [
        "var =  'DTCADINF'\n",
        " # Substituir valores nulos por 22000101\n",
        "df[var] = df[var].fillna(1012200)\n",
        "\n",
        "# Se quiser converter para inteiro (opcional)\n",
        "df[var] = df[var].astype(int)\n",
        "\n",
        "# Se quiser como string (opcional)\n",
        "df[var] = df[var].astype(str)\n",
        "\n",
        "# Completar com zeros à esquerda até ter 8 dígitos\n",
        "df[var] = df[var].str.zfill(8)\n",
        "\n",
        "# Converter para datetime\n",
        "df[var] = pd.to_datetime(df[var], format='%d%m%Y', errors='coerce')\n",
        "\n",
        "# Conferir\n",
        "print(df[[var]].head())\n",
        "print(df[var].dtypes)"
      ],
      "metadata": {
        "id": "zeQXGW4CNvx8",
        "colab": {
          "base_uri": "https://localhost:8080/"
        },
        "outputId": "2f5c2363-ff81-4978-ca3f-3b6b3de5a55d"
      },
      "execution_count": 12,
      "outputs": [
        {
          "output_type": "stream",
          "name": "stdout",
          "text": [
            "    DTCADINF\n",
            "0 2200-01-01\n",
            "1 2200-01-01\n",
            "2 2200-01-01\n",
            "3 2200-01-01\n",
            "4 2200-01-01\n",
            "datetime64[ns]\n"
          ]
        }
      ]
    },
    {
      "cell_type": "code",
      "source": [
        "var =  'DTCONCASO'\n",
        " # Substituir valores nulos por 22000101\n",
        "df[var] = df[var].fillna(1012200)\n",
        "\n",
        "# Se quiser converter para inteiro (opcional)\n",
        "df[var] = df[var].astype(int)\n",
        "\n",
        "# Se quiser como string (opcional)\n",
        "df[var] = df[var].astype(str)\n",
        "\n",
        "# Completar com zeros à esquerda até ter 8 dígitos\n",
        "df[var] = df[var].str.zfill(8)\n",
        "\n",
        "# Converter para datetime\n",
        "df[var] = pd.to_datetime(df[var], format='%d%m%Y', errors='coerce')\n",
        "\n",
        "# Conferir\n",
        "print(df[[var]].head())\n",
        "print(df[var].dtypes)"
      ],
      "metadata": {
        "id": "SS3jsgvWNxIY",
        "colab": {
          "base_uri": "https://localhost:8080/"
        },
        "outputId": "288d8e96-10c7-479d-828d-9e81968d7c29"
      },
      "execution_count": 13,
      "outputs": [
        {
          "output_type": "stream",
          "name": "stdout",
          "text": [
            "   DTCONCASO\n",
            "0 2200-01-01\n",
            "1 2200-01-01\n",
            "2 2200-01-01\n",
            "3 2200-01-01\n",
            "4 2200-01-01\n",
            "datetime64[ns]\n"
          ]
        }
      ]
    },
    {
      "cell_type": "code",
      "source": [
        "# Preencher valores nulos em todas as colunas restantes com -1\n",
        "df = df.fillna(-1)"
      ],
      "metadata": {
        "id": "Jt1fRVN3NyUd"
      },
      "execution_count": 14,
      "outputs": []
    },
    {
      "cell_type": "markdown",
      "source": [
        "# Ajustes de Idade e Ocupação"
      ],
      "metadata": {
        "id": "pXo_VQFWDYVo"
      }
    },
    {
      "cell_type": "code",
      "source": [
        "df['TIPOIDADE'] = np.where(df['IDADE'] < 100, 0, df['IDADE'].astype(str).str[0].astype(int))"
      ],
      "metadata": {
        "id": "rbz-O642C6mk"
      },
      "execution_count": 15,
      "outputs": []
    },
    {
      "cell_type": "code",
      "source": [
        "df['NR_IDADE'] = np.where(df['IDADE'] < 100, df['IDADE'],\n",
        "                                 df['IDADE'].astype(str).str[1:].apply(lambda x: int(x) if x else 0))"
      ],
      "metadata": {
        "id": "ztIp4iWWD3bJ"
      },
      "execution_count": 16,
      "outputs": []
    },
    {
      "cell_type": "code",
      "source": [
        "df['OCUP'] = np.where(df['OCUP'] > 999990, 999999, df['OCUP'])"
      ],
      "metadata": {
        "id": "adVWx-1cD7P3"
      },
      "execution_count": 17,
      "outputs": []
    },
    {
      "cell_type": "markdown",
      "source": [
        "# Criando Coluna Chave primária"
      ],
      "metadata": {
        "id": "pcUYLf6K_T6p"
      }
    },
    {
      "cell_type": "code",
      "source": [
        "# Garantir que DTOBITO está no formato datetime\n",
        "df[\"DTOBITO\"] = pd.to_datetime(df[\"DTOBITO\"], errors=\"coerce\")\n",
        "\n",
        "# Pega o ano e concatena com o contador\n",
        "df[\"CD_OBITO\"] = (df[\"contador\"].astype(str) + df[\"DTOBITO\"].dt.year.astype(str)).astype(int)\n",
        "\n",
        "# Conferir\n",
        "print(df[[\"contador\", \"DTOBITO\", \"CD_OBITO\"]].head())\n"
      ],
      "metadata": {
        "colab": {
          "base_uri": "https://localhost:8080/"
        },
        "id": "-_17nVYu_URc",
        "outputId": "17da398d-fa5d-4c27-d0b6-39af396fc21b"
      },
      "execution_count": 18,
      "outputs": [
        {
          "output_type": "stream",
          "name": "stdout",
          "text": [
            "   contador    DTOBITO  CD_OBITO\n",
            "0         1 2024-04-19     12024\n",
            "1         2 2024-01-18     22024\n",
            "2         3 2024-01-22     32024\n",
            "3         4 2024-03-24     42024\n",
            "4         5 2024-01-12     52024\n"
          ]
        }
      ]
    },
    {
      "cell_type": "markdown",
      "source": [
        "# Tratando CID"
      ],
      "metadata": {
        "id": "DPXpKnKN_VwX"
      }
    },
    {
      "cell_type": "code",
      "source": [
        "# 🔹 Função auxiliar: normalizar string de CID\n",
        "def normalize_series(series):\n",
        "    return (\n",
        "        series.fillna(\"-1\")\n",
        "        .astype(str)\n",
        "        .str.upper()\n",
        "        .str.replace(\"*\", \"\", regex=False)\n",
        "        .replace({\"\": \"-1\"})\n",
        "    )\n",
        "\n",
        "# === TERMINAL (LINHAA) ===\n",
        "terminal = (\n",
        "    df[\"LINHAA\"]\n",
        "    .fillna(\"-1\")\n",
        "    .astype(str)\n",
        "    .str.upper()\n",
        "    .str.replace(\"*\", \" \", regex=False)\n",
        "    .str.split()\n",
        ")\n",
        "\n",
        "df[\"TERMINAL_1\"] = terminal.str[0].fillna(\"-1\")\n",
        "df[\"TERMINAL_2\"] = terminal.str[1].fillna(\"-1\")\n",
        "\n",
        "# === ANTECEDENTES (LINHAB e LINHAC) ===\n",
        "ante_b = (\n",
        "    df[\"LINHAB\"]\n",
        "    .fillna(\"-1\")\n",
        "    .astype(str)\n",
        "    .str.upper()\n",
        "    .str.replace(\"*\", \" \", regex=False)\n",
        "    .str.split()\n",
        ")\n",
        "\n",
        "df[\"ANTECEDENTE_1\"] = ante_b.str[0].fillna(\"-1\")\n",
        "df[\"ANTECEDENTE_2\"] = ante_b.str[1].fillna(\"-1\")\n",
        "\n",
        "ante_c = (\n",
        "    df[\"LINHAC\"]\n",
        "    .fillna(\"-1\")\n",
        "    .astype(str)\n",
        "    .str.upper()\n",
        "    .str.replace(\"*\", \" \", regex=False)\n",
        "    .str.split()\n",
        ")\n",
        "\n",
        "df[\"ANTECEDENTE_3\"] = ante_c.str[0].fillna(\"-1\")\n",
        "df[\"ANTECEDENTE_4\"] = ante_c.str[1].fillna(\"-1\")\n",
        "\n",
        "# === CAUSAS BÁSICAS ===\n",
        "df[\"BASICA_1\"] = normalize_series(df[\"CAUSABAS\"])\n",
        "df[\"BASICA_2\"] = normalize_series(df[\"CAUSABAS_O\"])\n"
      ],
      "metadata": {
        "id": "RxWXzPSI_Xd0"
      },
      "execution_count": 19,
      "outputs": []
    },
    {
      "cell_type": "code",
      "source": [
        "colunas_excluir = [\n",
        "    \"CB_PRE\", \"CAUSAMAT\", \"EXAME\", \"CIRURGIA\", \"SERIESCFAL\", \"SERIESCMAE\",\n",
        "    \"ESCMAEAGR1\", \"TPRESGINFO\", \"TP_ALTERA\", \"CB_ALT\", \"MORTEPARTO\",\n",
        "    \"ALTCAUSA\", \"FONTES\", \"DTCADINF\", \"DTCONCASO\", \"VERSAOSIST\", \"VERSAOSCB\",\n",
        "    \"OPOR_DO\", \"STCODIFICA\", \"CODIFICADO\", \"TPMORTEOCO\", \"COMUNSVOIM\", \"OBITOGRAV\",\n",
        "    \"OBITOPUERP\", \"FONTEINV\", \"DTINVESTIG\", \"NUDIASOBCO\", \"DTCADINV\", \"TPNIVELINV\",\n",
        "    \"IDADEMAE\", \"ESCMAE\", \"ESCMAE2010\", \"SERIESCMAE\", \"OCUPMAE\",\n",
        "    \"QTDFILVIVO\", \"QTDFILMORT\", \"GRAVIDEZ\", \"SEMAGESTAC\", \"GESTACAO\",\n",
        "    \"PARTO\", \"OBITOPARTO\", \"PESO\", \"CB_PRE\", \"CAUSAMAT\", \"ESCMAEAGR1\",\n",
        "    \"MORTEPARTO\", \"contador\", \"ORIGEM\", \"ESC\", \"FONTES\", \"NECROPSIA\", \"ACIDTRAB\",\n",
        "    \"FONTE\", \"NUMEROLOTE\", \"DTCADASTRO\", \"ATESTANTE\", \"DTRECEBIM\", \"DTRECORIGA\",\n",
        "    \"STDONOVA\", \"DIFDATA\",\"TPOBITOCOR\", \"DTCONINV\", \"ESC2010\", \"TIPOBITO\",\n",
        "    \"ESTABDESCR\", \"NUDIASOBIN\",\"NUDIASINF\", \"FONTESINF\", \"CODMUNNATU\",\n",
        "    \"ATESTADO\", \"NATURAL\", \"DTATESTADO\", \"CONTADOR\", \"LINHAA\", \"LINHAB\",\n",
        "    \"LINHAC\", \"LINHAD\", \"LINHAII\", \"CAUSABAS\", \"CAUSABAS_O\"\n",
        "\n",
        "\n",
        "]\n",
        "\n",
        "df = df.drop(columns=colunas_excluir, errors=\"ignore\")\n",
        ""
      ],
      "metadata": {
        "id": "FjpsHxbY_ZC3"
      },
      "execution_count": 20,
      "outputs": []
    },
    {
      "cell_type": "code",
      "source": [
        "df.info()"
      ],
      "metadata": {
        "colab": {
          "base_uri": "https://localhost:8080/"
        },
        "id": "X0_qvD9U_e9H",
        "outputId": "296b2eb6-8d3f-4bb8-c6eb-d27b823cd32c"
      },
      "execution_count": 21,
      "outputs": [
        {
          "output_type": "stream",
          "name": "stdout",
          "text": [
            "<class 'pandas.core.frame.DataFrame'>\n",
            "RangeIndex: 1426346 entries, 0 to 1426345\n",
            "Data columns (total 28 columns):\n",
            " #   Column         Non-Null Count    Dtype         \n",
            "---  ------         --------------    -----         \n",
            " 0   DTOBITO        1426346 non-null  datetime64[ns]\n",
            " 1   HORAOBITO      1426346 non-null  float64       \n",
            " 2   DTNASC         1426346 non-null  datetime64[ns]\n",
            " 3   IDADE          1426346 non-null  int64         \n",
            " 4   SEXO           1426346 non-null  int64         \n",
            " 5   RACACOR        1426346 non-null  float64       \n",
            " 6   ESTCIV         1426346 non-null  float64       \n",
            " 7   OCUP           1426346 non-null  float64       \n",
            " 8   CODMUNRES      1426346 non-null  int64         \n",
            " 9   LOCOCOR        1426346 non-null  int64         \n",
            " 10  CODESTAB       1426346 non-null  float64       \n",
            " 11  CODMUNOCOR     1426346 non-null  int64         \n",
            " 12  ASSISTMED      1426346 non-null  float64       \n",
            " 13  CIRCOBITO      1426346 non-null  float64       \n",
            " 14  ESCFALAGR1     1426346 non-null  float64       \n",
            " 15  STDOEPIDEM     1426346 non-null  float64       \n",
            " 16  TPPOS          1426346 non-null  object        \n",
            " 17  TIPOIDADE      1426346 non-null  int64         \n",
            " 18  NR_IDADE       1426346 non-null  int64         \n",
            " 19  CD_OBITO       1426346 non-null  int64         \n",
            " 20  TERMINAL_1     1426346 non-null  object        \n",
            " 21  TERMINAL_2     1426346 non-null  object        \n",
            " 22  ANTECEDENTE_1  1426346 non-null  object        \n",
            " 23  ANTECEDENTE_2  1426346 non-null  object        \n",
            " 24  ANTECEDENTE_3  1426346 non-null  object        \n",
            " 25  ANTECEDENTE_4  1426346 non-null  object        \n",
            " 26  BASICA_1       1426346 non-null  object        \n",
            " 27  BASICA_2       1426346 non-null  object        \n",
            "dtypes: datetime64[ns](2), float64(9), int64(8), object(9)\n",
            "memory usage: 304.7+ MB\n"
          ]
        }
      ]
    },
    {
      "cell_type": "code",
      "source": [
        "df.to_csv('DO_24.csv', index=False)"
      ],
      "metadata": {
        "id": "k2NFMzcx_bs2"
      },
      "execution_count": 23,
      "outputs": []
    },
    {
      "cell_type": "code",
      "source": [],
      "metadata": {
        "id": "z8Rdw_j1B-vb"
      },
      "execution_count": null,
      "outputs": []
    }
  ]
}