{
  "nbformat": 4,
  "nbformat_minor": 0,
  "metadata": {
    "colab": {
      "provenance": []
    },
    "kernelspec": {
      "name": "python3",
      "display_name": "Python 3"
    },
    "language_info": {
      "name": "python"
    }
  },
  "cells": [
    {
      "cell_type": "code",
      "execution_count": 1,
      "metadata": {
        "id": "7Dn8JdbYs6ch"
      },
      "outputs": [],
      "source": [
        "import pandas as pd\n",
        "import numpy as np"
      ]
    },
    {
      "cell_type": "code",
      "source": [
        "df = pd.read_csv('Mortalidade_Geral_2018.csv', sep=';')"
      ],
      "metadata": {
        "colab": {
          "base_uri": "https://localhost:8080/"
        },
        "id": "ieoMBMZ6t48w",
        "outputId": "15424a4b-9d55-4a0f-d87e-fe551dc9c8dd"
      },
      "execution_count": null,
      "outputs": [
        {
          "output_type": "stream",
          "name": "stderr",
          "text": [
            "/tmp/ipython-input-1857681910.py:1: DtypeWarning: Columns (66) have mixed types. Specify dtype option on import or set low_memory=False.\n",
            "  df = pd.read_csv('Mortalidade_Geral_2018.csv', sep=';')\n"
          ]
        }
      ]
    },
    {
      "cell_type": "markdown",
      "source": [
        "# Analisando o DF"
      ],
      "metadata": {
        "id": "STm6IGOguH9z"
      }
    },
    {
      "cell_type": "code",
      "source": [
        "df.head().T"
      ],
      "metadata": {
        "colab": {
          "base_uri": "https://localhost:8080/",
          "height": 423
        },
        "id": "hME9kL2at-cy",
        "outputId": "faad04a8-48b1-4dec-afbd-7877ccf4c30f"
      },
      "execution_count": null,
      "outputs": [
        {
          "output_type": "execute_result",
          "data": {
            "text/plain": [
              "                   0         1         2         3         4\n",
              "ORIGEM             1         1         1         1         1\n",
              "TIPOBITO           2         2         2         2         2\n",
              "DTOBITO     25042018  24052018  14022018  31072018  21092018\n",
              "HORAOBITO      315.0       NaN    1400.0    1600.0    1718.0\n",
              "NATURAL         16.0     812.0     812.0     812.0     812.0\n",
              "...              ...       ...       ...       ...       ...\n",
              "MORTEPARTO       NaN       NaN       NaN       NaN       NaN\n",
              "DTCONCASO        NaN       NaN       NaN       NaN       NaN\n",
              "FONTESINF        NaN       NaN       NaN       NaN       NaN\n",
              "ALTCAUSA         NaN       NaN       NaN       NaN       NaN\n",
              "CONTADOR          18      2120      2121      2122      2691\n",
              "\n",
              "[87 rows x 5 columns]"
            ],
            "text/html": [
              "\n",
              "  <div id=\"df-fd189542-61a5-45d7-a507-b3055b064c62\" class=\"colab-df-container\">\n",
              "    <div>\n",
              "<style scoped>\n",
              "    .dataframe tbody tr th:only-of-type {\n",
              "        vertical-align: middle;\n",
              "    }\n",
              "\n",
              "    .dataframe tbody tr th {\n",
              "        vertical-align: top;\n",
              "    }\n",
              "\n",
              "    .dataframe thead th {\n",
              "        text-align: right;\n",
              "    }\n",
              "</style>\n",
              "<table border=\"1\" class=\"dataframe\">\n",
              "  <thead>\n",
              "    <tr style=\"text-align: right;\">\n",
              "      <th></th>\n",
              "      <th>0</th>\n",
              "      <th>1</th>\n",
              "      <th>2</th>\n",
              "      <th>3</th>\n",
              "      <th>4</th>\n",
              "    </tr>\n",
              "  </thead>\n",
              "  <tbody>\n",
              "    <tr>\n",
              "      <th>ORIGEM</th>\n",
              "      <td>1</td>\n",
              "      <td>1</td>\n",
              "      <td>1</td>\n",
              "      <td>1</td>\n",
              "      <td>1</td>\n",
              "    </tr>\n",
              "    <tr>\n",
              "      <th>TIPOBITO</th>\n",
              "      <td>2</td>\n",
              "      <td>2</td>\n",
              "      <td>2</td>\n",
              "      <td>2</td>\n",
              "      <td>2</td>\n",
              "    </tr>\n",
              "    <tr>\n",
              "      <th>DTOBITO</th>\n",
              "      <td>25042018</td>\n",
              "      <td>24052018</td>\n",
              "      <td>14022018</td>\n",
              "      <td>31072018</td>\n",
              "      <td>21092018</td>\n",
              "    </tr>\n",
              "    <tr>\n",
              "      <th>HORAOBITO</th>\n",
              "      <td>315.0</td>\n",
              "      <td>NaN</td>\n",
              "      <td>1400.0</td>\n",
              "      <td>1600.0</td>\n",
              "      <td>1718.0</td>\n",
              "    </tr>\n",
              "    <tr>\n",
              "      <th>NATURAL</th>\n",
              "      <td>16.0</td>\n",
              "      <td>812.0</td>\n",
              "      <td>812.0</td>\n",
              "      <td>812.0</td>\n",
              "      <td>812.0</td>\n",
              "    </tr>\n",
              "    <tr>\n",
              "      <th>...</th>\n",
              "      <td>...</td>\n",
              "      <td>...</td>\n",
              "      <td>...</td>\n",
              "      <td>...</td>\n",
              "      <td>...</td>\n",
              "    </tr>\n",
              "    <tr>\n",
              "      <th>MORTEPARTO</th>\n",
              "      <td>NaN</td>\n",
              "      <td>NaN</td>\n",
              "      <td>NaN</td>\n",
              "      <td>NaN</td>\n",
              "      <td>NaN</td>\n",
              "    </tr>\n",
              "    <tr>\n",
              "      <th>DTCONCASO</th>\n",
              "      <td>NaN</td>\n",
              "      <td>NaN</td>\n",
              "      <td>NaN</td>\n",
              "      <td>NaN</td>\n",
              "      <td>NaN</td>\n",
              "    </tr>\n",
              "    <tr>\n",
              "      <th>FONTESINF</th>\n",
              "      <td>NaN</td>\n",
              "      <td>NaN</td>\n",
              "      <td>NaN</td>\n",
              "      <td>NaN</td>\n",
              "      <td>NaN</td>\n",
              "    </tr>\n",
              "    <tr>\n",
              "      <th>ALTCAUSA</th>\n",
              "      <td>NaN</td>\n",
              "      <td>NaN</td>\n",
              "      <td>NaN</td>\n",
              "      <td>NaN</td>\n",
              "      <td>NaN</td>\n",
              "    </tr>\n",
              "    <tr>\n",
              "      <th>CONTADOR</th>\n",
              "      <td>18</td>\n",
              "      <td>2120</td>\n",
              "      <td>2121</td>\n",
              "      <td>2122</td>\n",
              "      <td>2691</td>\n",
              "    </tr>\n",
              "  </tbody>\n",
              "</table>\n",
              "<p>87 rows × 5 columns</p>\n",
              "</div>\n",
              "    <div class=\"colab-df-buttons\">\n",
              "\n",
              "  <div class=\"colab-df-container\">\n",
              "    <button class=\"colab-df-convert\" onclick=\"convertToInteractive('df-fd189542-61a5-45d7-a507-b3055b064c62')\"\n",
              "            title=\"Convert this dataframe to an interactive table.\"\n",
              "            style=\"display:none;\">\n",
              "\n",
              "  <svg xmlns=\"http://www.w3.org/2000/svg\" height=\"24px\" viewBox=\"0 -960 960 960\">\n",
              "    <path d=\"M120-120v-720h720v720H120Zm60-500h600v-160H180v160Zm220 220h160v-160H400v160Zm0 220h160v-160H400v160ZM180-400h160v-160H180v160Zm440 0h160v-160H620v160ZM180-180h160v-160H180v160Zm440 0h160v-160H620v160Z\"/>\n",
              "  </svg>\n",
              "    </button>\n",
              "\n",
              "  <style>\n",
              "    .colab-df-container {\n",
              "      display:flex;\n",
              "      gap: 12px;\n",
              "    }\n",
              "\n",
              "    .colab-df-convert {\n",
              "      background-color: #E8F0FE;\n",
              "      border: none;\n",
              "      border-radius: 50%;\n",
              "      cursor: pointer;\n",
              "      display: none;\n",
              "      fill: #1967D2;\n",
              "      height: 32px;\n",
              "      padding: 0 0 0 0;\n",
              "      width: 32px;\n",
              "    }\n",
              "\n",
              "    .colab-df-convert:hover {\n",
              "      background-color: #E2EBFA;\n",
              "      box-shadow: 0px 1px 2px rgba(60, 64, 67, 0.3), 0px 1px 3px 1px rgba(60, 64, 67, 0.15);\n",
              "      fill: #174EA6;\n",
              "    }\n",
              "\n",
              "    .colab-df-buttons div {\n",
              "      margin-bottom: 4px;\n",
              "    }\n",
              "\n",
              "    [theme=dark] .colab-df-convert {\n",
              "      background-color: #3B4455;\n",
              "      fill: #D2E3FC;\n",
              "    }\n",
              "\n",
              "    [theme=dark] .colab-df-convert:hover {\n",
              "      background-color: #434B5C;\n",
              "      box-shadow: 0px 1px 3px 1px rgba(0, 0, 0, 0.15);\n",
              "      filter: drop-shadow(0px 1px 2px rgba(0, 0, 0, 0.3));\n",
              "      fill: #FFFFFF;\n",
              "    }\n",
              "  </style>\n",
              "\n",
              "    <script>\n",
              "      const buttonEl =\n",
              "        document.querySelector('#df-fd189542-61a5-45d7-a507-b3055b064c62 button.colab-df-convert');\n",
              "      buttonEl.style.display =\n",
              "        google.colab.kernel.accessAllowed ? 'block' : 'none';\n",
              "\n",
              "      async function convertToInteractive(key) {\n",
              "        const element = document.querySelector('#df-fd189542-61a5-45d7-a507-b3055b064c62');\n",
              "        const dataTable =\n",
              "          await google.colab.kernel.invokeFunction('convertToInteractive',\n",
              "                                                    [key], {});\n",
              "        if (!dataTable) return;\n",
              "\n",
              "        const docLinkHtml = 'Like what you see? Visit the ' +\n",
              "          '<a target=\"_blank\" href=https://colab.research.google.com/notebooks/data_table.ipynb>data table notebook</a>'\n",
              "          + ' to learn more about interactive tables.';\n",
              "        element.innerHTML = '';\n",
              "        dataTable['output_type'] = 'display_data';\n",
              "        await google.colab.output.renderOutput(dataTable, element);\n",
              "        const docLink = document.createElement('div');\n",
              "        docLink.innerHTML = docLinkHtml;\n",
              "        element.appendChild(docLink);\n",
              "      }\n",
              "    </script>\n",
              "  </div>\n",
              "\n",
              "\n",
              "    <div id=\"df-17c0683c-bae9-447b-9350-020a17c53ddb\">\n",
              "      <button class=\"colab-df-quickchart\" onclick=\"quickchart('df-17c0683c-bae9-447b-9350-020a17c53ddb')\"\n",
              "                title=\"Suggest charts\"\n",
              "                style=\"display:none;\">\n",
              "\n",
              "<svg xmlns=\"http://www.w3.org/2000/svg\" height=\"24px\"viewBox=\"0 0 24 24\"\n",
              "     width=\"24px\">\n",
              "    <g>\n",
              "        <path d=\"M19 3H5c-1.1 0-2 .9-2 2v14c0 1.1.9 2 2 2h14c1.1 0 2-.9 2-2V5c0-1.1-.9-2-2-2zM9 17H7v-7h2v7zm4 0h-2V7h2v10zm4 0h-2v-4h2v4z\"/>\n",
              "    </g>\n",
              "</svg>\n",
              "      </button>\n",
              "\n",
              "<style>\n",
              "  .colab-df-quickchart {\n",
              "      --bg-color: #E8F0FE;\n",
              "      --fill-color: #1967D2;\n",
              "      --hover-bg-color: #E2EBFA;\n",
              "      --hover-fill-color: #174EA6;\n",
              "      --disabled-fill-color: #AAA;\n",
              "      --disabled-bg-color: #DDD;\n",
              "  }\n",
              "\n",
              "  [theme=dark] .colab-df-quickchart {\n",
              "      --bg-color: #3B4455;\n",
              "      --fill-color: #D2E3FC;\n",
              "      --hover-bg-color: #434B5C;\n",
              "      --hover-fill-color: #FFFFFF;\n",
              "      --disabled-bg-color: #3B4455;\n",
              "      --disabled-fill-color: #666;\n",
              "  }\n",
              "\n",
              "  .colab-df-quickchart {\n",
              "    background-color: var(--bg-color);\n",
              "    border: none;\n",
              "    border-radius: 50%;\n",
              "    cursor: pointer;\n",
              "    display: none;\n",
              "    fill: var(--fill-color);\n",
              "    height: 32px;\n",
              "    padding: 0;\n",
              "    width: 32px;\n",
              "  }\n",
              "\n",
              "  .colab-df-quickchart:hover {\n",
              "    background-color: var(--hover-bg-color);\n",
              "    box-shadow: 0 1px 2px rgba(60, 64, 67, 0.3), 0 1px 3px 1px rgba(60, 64, 67, 0.15);\n",
              "    fill: var(--button-hover-fill-color);\n",
              "  }\n",
              "\n",
              "  .colab-df-quickchart-complete:disabled,\n",
              "  .colab-df-quickchart-complete:disabled:hover {\n",
              "    background-color: var(--disabled-bg-color);\n",
              "    fill: var(--disabled-fill-color);\n",
              "    box-shadow: none;\n",
              "  }\n",
              "\n",
              "  .colab-df-spinner {\n",
              "    border: 2px solid var(--fill-color);\n",
              "    border-color: transparent;\n",
              "    border-bottom-color: var(--fill-color);\n",
              "    animation:\n",
              "      spin 1s steps(1) infinite;\n",
              "  }\n",
              "\n",
              "  @keyframes spin {\n",
              "    0% {\n",
              "      border-color: transparent;\n",
              "      border-bottom-color: var(--fill-color);\n",
              "      border-left-color: var(--fill-color);\n",
              "    }\n",
              "    20% {\n",
              "      border-color: transparent;\n",
              "      border-left-color: var(--fill-color);\n",
              "      border-top-color: var(--fill-color);\n",
              "    }\n",
              "    30% {\n",
              "      border-color: transparent;\n",
              "      border-left-color: var(--fill-color);\n",
              "      border-top-color: var(--fill-color);\n",
              "      border-right-color: var(--fill-color);\n",
              "    }\n",
              "    40% {\n",
              "      border-color: transparent;\n",
              "      border-right-color: var(--fill-color);\n",
              "      border-top-color: var(--fill-color);\n",
              "    }\n",
              "    60% {\n",
              "      border-color: transparent;\n",
              "      border-right-color: var(--fill-color);\n",
              "    }\n",
              "    80% {\n",
              "      border-color: transparent;\n",
              "      border-right-color: var(--fill-color);\n",
              "      border-bottom-color: var(--fill-color);\n",
              "    }\n",
              "    90% {\n",
              "      border-color: transparent;\n",
              "      border-bottom-color: var(--fill-color);\n",
              "    }\n",
              "  }\n",
              "</style>\n",
              "\n",
              "      <script>\n",
              "        async function quickchart(key) {\n",
              "          const quickchartButtonEl =\n",
              "            document.querySelector('#' + key + ' button');\n",
              "          quickchartButtonEl.disabled = true;  // To prevent multiple clicks.\n",
              "          quickchartButtonEl.classList.add('colab-df-spinner');\n",
              "          try {\n",
              "            const charts = await google.colab.kernel.invokeFunction(\n",
              "                'suggestCharts', [key], {});\n",
              "          } catch (error) {\n",
              "            console.error('Error during call to suggestCharts:', error);\n",
              "          }\n",
              "          quickchartButtonEl.classList.remove('colab-df-spinner');\n",
              "          quickchartButtonEl.classList.add('colab-df-quickchart-complete');\n",
              "        }\n",
              "        (() => {\n",
              "          let quickchartButtonEl =\n",
              "            document.querySelector('#df-17c0683c-bae9-447b-9350-020a17c53ddb button');\n",
              "          quickchartButtonEl.style.display =\n",
              "            google.colab.kernel.accessAllowed ? 'block' : 'none';\n",
              "        })();\n",
              "      </script>\n",
              "    </div>\n",
              "\n",
              "    </div>\n",
              "  </div>\n"
            ],
            "application/vnd.google.colaboratory.intrinsic+json": {
              "type": "dataframe",
              "variable_name": "df"
            }
          },
          "metadata": {},
          "execution_count": 4
        }
      ]
    },
    {
      "cell_type": "code",
      "source": [
        "df.info()\n",
        "#Valores Nulos -> 01/01/2200\n",
        "#DTOBITO   1316719 non-null  int64\n",
        "#DTRECORIGA  1316719 non-null  int64\n",
        "#DTNASC      1312650 non-null  float64\n",
        "#DTATESTADO  1306593 non-null  float64\n",
        "#DTINVESTIG  211899 non-null   float64\n",
        "#DTCADASTRO  1312600 non-null  float64\n",
        "#DTRECEBIM   1316445 non-null  float64\n",
        "#DTCADINV    57903 non-null    float64\n",
        "#DTCONINV    57438 non-null    float64\n",
        "#DTCADINF    32303 non-null    float64\n",
        "#DTCONCASO   29807 non-null    float64"
      ],
      "metadata": {
        "colab": {
          "base_uri": "https://localhost:8080/"
        },
        "id": "Vtv63t-1uLPF",
        "outputId": "ee400647-0651-47d1-93a7-7ed12c676651"
      },
      "execution_count": null,
      "outputs": [
        {
          "output_type": "stream",
          "name": "stdout",
          "text": [
            "<class 'pandas.core.frame.DataFrame'>\n",
            "RangeIndex: 1316719 entries, 0 to 1316718\n",
            "Data columns (total 87 columns):\n",
            " #   Column      Non-Null Count    Dtype  \n",
            "---  ------      --------------    -----  \n",
            " 0   ORIGEM      1316719 non-null  int64  \n",
            " 1   TIPOBITO    1316719 non-null  int64  \n",
            " 2   DTOBITO     1316719 non-null  int64  \n",
            " 3   HORAOBITO   1256102 non-null  float64\n",
            " 4   NATURAL     1229630 non-null  float64\n",
            " 5   CODMUNNATU  1211441 non-null  float64\n",
            " 6   DTNASC      1312650 non-null  float64\n",
            " 7   IDADE       1316719 non-null  int64  \n",
            " 8   SEXO        1316719 non-null  int64  \n",
            " 9   RACACOR     1279487 non-null  float64\n",
            " 10  ESTCIV      1236947 non-null  float64\n",
            " 11  ESC         1199710 non-null  float64\n",
            " 12  ESC2010     1192803 non-null  float64\n",
            " 13  SERIESCFAL  283318 non-null   float64\n",
            " 14  OCUP        1094113 non-null  float64\n",
            " 15  CODMUNRES   1316719 non-null  int64  \n",
            " 16  LOCOCOR     1316719 non-null  int64  \n",
            " 17  CODESTAB    960461 non-null   float64\n",
            " 18  ESTABDESCR  0 non-null        float64\n",
            " 19  CODMUNOCOR  1316719 non-null  int64  \n",
            " 20  IDADEMAE    32601 non-null    float64\n",
            " 21  ESCMAE      32201 non-null    float64\n",
            " 22  ESCMAE2010  32065 non-null    float64\n",
            " 23  SERIESCMAE  13269 non-null    float64\n",
            " 24  OCUPMAE     28947 non-null    float64\n",
            " 25  QTDFILVIVO  32246 non-null    float64\n",
            " 26  QTDFILMORT  30990 non-null    float64\n",
            " 27  GRAVIDEZ    33399 non-null    float64\n",
            " 28  SEMAGESTAC  31382 non-null    float64\n",
            " 29  GESTACAO    31521 non-null    float64\n",
            " 30  PARTO       33220 non-null    float64\n",
            " 31  OBITOPARTO  32958 non-null    float64\n",
            " 32  PESO        32123 non-null    float64\n",
            " 33  TPMORTEOCO  81552 non-null    float64\n",
            " 34  OBITOGRAV   81947 non-null    float64\n",
            " 35  OBITOPUERP  81899 non-null    float64\n",
            " 36  ASSISTMED   914428 non-null   float64\n",
            " 37  EXAME       2172 non-null     float64\n",
            " 38  CIRURGIA    2042 non-null     float64\n",
            " 39  NECROPSIA   936186 non-null   float64\n",
            " 40  LINHAA      1278595 non-null  object \n",
            " 41  LINHAB      1020450 non-null  object \n",
            " 42  LINHAC      639060 non-null   object \n",
            " 43  LINHAD      273682 non-null   object \n",
            " 44  LINHAII     465812 non-null   object \n",
            " 45  CAUSABAS    1316719 non-null  object \n",
            " 46  CB_PRE      0 non-null        float64\n",
            " 47  COMUNSVOIM  245640 non-null   float64\n",
            " 48  DTATESTADO  1306593 non-null  float64\n",
            " 49  CIRCOBITO   150906 non-null   float64\n",
            " 50  ACIDTRAB    44930 non-null    float64\n",
            " 51  FONTE       122541 non-null   float64\n",
            " 52  NUMEROLOTE  1316626 non-null  float64\n",
            " 53  TPPOS       850444 non-null   object \n",
            " 54  DTINVESTIG  211899 non-null   float64\n",
            " 55  CAUSABAS_O  1315816 non-null  object \n",
            " 56  DTCADASTRO  1312600 non-null  float64\n",
            " 57  ATESTANTE   1196430 non-null  float64\n",
            " 58  STCODIFICA  1316421 non-null  object \n",
            " 59  CODIFICADO  1316718 non-null  object \n",
            " 60  VERSAOSIST  1316718 non-null  object \n",
            " 61  VERSAOSCB   1260522 non-null  float64\n",
            " 62  FONTEINV    217315 non-null   float64\n",
            " 63  DTRECEBIM   1316445 non-null  float64\n",
            " 64  ATESTADO    1316719 non-null  object \n",
            " 65  DTRECORIGA  1316719 non-null  int64  \n",
            " 66  CAUSAMAT    21 non-null       object \n",
            " 67  ESCMAEAGR1  32065 non-null    float64\n",
            " 68  ESCFALAGR1  1192803 non-null  float64\n",
            " 69  STDOEPIDEM  1316718 non-null  float64\n",
            " 70  STDONOVA    1316719 non-null  int64  \n",
            " 71  DIFDATA     1316719 non-null  int64  \n",
            " 72  NUDIASOBCO  57495 non-null    float64\n",
            " 73  NUDIASOBIN  0 non-null        float64\n",
            " 74  DTCADINV    57903 non-null    float64\n",
            " 75  TPOBITOCOR  57903 non-null    float64\n",
            " 76  DTCONINV    57438 non-null    float64\n",
            " 77  FONTES      32303 non-null    object \n",
            " 78  TPRESGINFO  3224 non-null     float64\n",
            " 79  TPNIVELINV  57961 non-null    object \n",
            " 80  NUDIASINF   0 non-null        float64\n",
            " 81  DTCADINF    32303 non-null    float64\n",
            " 82  MORTEPARTO  32303 non-null    float64\n",
            " 83  DTCONCASO   29807 non-null    float64\n",
            " 84  FONTESINF   0 non-null        float64\n",
            " 85  ALTCAUSA    31104 non-null    float64\n",
            " 86  CONTADOR    1316719 non-null  int64  \n",
            "dtypes: float64(60), int64(12), object(15)\n",
            "memory usage: 874.0+ MB\n"
          ]
        }
      ]
    },
    {
      "cell_type": "code",
      "source": [
        "df.isnull().sum().to_csv(\"nulos.csv\")\n"
      ],
      "metadata": {
        "id": "Nqcw9WLwuL6i"
      },
      "execution_count": null,
      "outputs": []
    },
    {
      "cell_type": "code",
      "source": [
        "# Transformar em string\n",
        "df['DTOBITO'] = df['DTOBITO'].astype(str)\n",
        "\n",
        "# Completar com zeros à esquerda até ter 8 dígitos\n",
        "df['DTOBITO'] = df['DTOBITO'].str.zfill(8)\n",
        "\n",
        "# Converter para datetime\n",
        "df['DTOBITO'] = pd.to_datetime(df['DTOBITO'], format='%d%m%Y', errors='coerce')\n",
        "\n",
        "# Conferir\n",
        "print(df[['DTOBITO']].head())\n",
        "print(df['DTOBITO'].dtypes)"
      ],
      "metadata": {
        "colab": {
          "base_uri": "https://localhost:8080/"
        },
        "id": "z1heKea1ukrw",
        "outputId": "b9e4c51b-f74d-4095-e64b-43b43756c88d"
      },
      "execution_count": null,
      "outputs": [
        {
          "output_type": "stream",
          "name": "stdout",
          "text": [
            "     DTOBITO\n",
            "0 2018-04-25\n",
            "1 2018-05-24\n",
            "2 2018-02-14\n",
            "3 2018-07-31\n",
            "4 2018-09-21\n",
            "datetime64[ns]\n"
          ]
        }
      ]
    },
    {
      "cell_type": "code",
      "source": [
        "# Transformar em string\n",
        "df['DTRECORIGA'] = df['DTRECORIGA'].astype(str)\n",
        "\n",
        "# Completar com zeros à esquerda até ter 8 dígitos\n",
        "df['DTRECORIGA'] = df['DTRECORIGA'].str.zfill(8)\n",
        "\n",
        "# Converter para datetime\n",
        "df['DTRECORIGA'] = pd.to_datetime(df['DTRECORIGA'], format='%d%m%Y', errors='coerce')\n",
        "\n",
        "# Conferir\n",
        "print(df[['DTRECORIGA']].head())\n",
        "print(df['DTRECORIGA'].dtypes)"
      ],
      "metadata": {
        "colab": {
          "base_uri": "https://localhost:8080/"
        },
        "id": "rVNKH7LCw78i",
        "outputId": "a9d90def-b653-43b2-ca05-8f4e23290939"
      },
      "execution_count": null,
      "outputs": [
        {
          "output_type": "stream",
          "name": "stdout",
          "text": [
            "  DTRECORIGA\n",
            "0 2018-05-29\n",
            "1 2019-05-21\n",
            "2 2018-02-22\n",
            "3 2019-04-09\n",
            "4 2018-09-28\n",
            "datetime64[ns]\n"
          ]
        }
      ]
    },
    {
      "cell_type": "code",
      "source": [
        "# Substituir valores nulos por 22000101\n",
        "df['DTNASC'] = df['DTNASC'].fillna(1012200)\n",
        "\n",
        "# Se quiser converter para inteiro (opcional)\n",
        "df['DTNASC'] = df['DTNASC'].astype(int)\n",
        "\n",
        "# Se quiser como string (opcional)\n",
        "df['DTNASC'] = df['DTNASC'].astype(str)\n",
        "\n",
        "# Completar com zeros à esquerda até ter 8 dígitos\n",
        "df['DTNASC'] = df['DTNASC'].str.zfill(8)\n",
        "\n",
        "# Converter para datetime\n",
        "df['DTNASC'] = pd.to_datetime(df['DTNASC'], format='%d%m%Y', errors='coerce')\n",
        "\n",
        "# Conferir\n",
        "print(df[['DTNASC']].head())\n",
        "print(df['DTNASC'].dtypes)"
      ],
      "metadata": {
        "colab": {
          "base_uri": "https://localhost:8080/"
        },
        "id": "wxzpV-zs4fPf",
        "outputId": "039ae379-7651-40eb-a5e2-6cde5bfc62bc"
      },
      "execution_count": null,
      "outputs": [
        {
          "output_type": "stream",
          "name": "stdout",
          "text": [
            "      DTNASC\n",
            "0 1965-11-03\n",
            "1 2018-05-20\n",
            "2 1925-06-02\n",
            "3 1928-08-25\n",
            "4 1941-07-04\n",
            "datetime64[ns]\n"
          ]
        }
      ]
    },
    {
      "cell_type": "code",
      "source": [
        "# Substituir valores nulos por 22000101\n",
        "df['DTATESTADO'] = df['DTATESTADO'].fillna(1012200)\n",
        "\n",
        "# Se quiser converter para inteiro (opcional)\n",
        "df['DTATESTADO'] = df['DTATESTADO'].astype(int)\n",
        "\n",
        "# Se quiser como string (opcional)\n",
        "df['DTATESTADO'] = df['DTATESTADO'].astype(str)\n",
        "\n",
        "# Completar com zeros à esquerda até ter 8 dígitos\n",
        "df['DTATESTADO'] = df['DTATESTADO'].str.zfill(8)\n",
        "\n",
        "# Converter para datetime\n",
        "df['DTATESTADO'] = pd.to_datetime(df['DTATESTADO'], format='%d%m%Y', errors='coerce')\n",
        "\n",
        "# Conferir\n",
        "print(df[['DTATESTADO']].head())\n",
        "print(df['DTATESTADO'].dtypes)"
      ],
      "metadata": {
        "colab": {
          "base_uri": "https://localhost:8080/"
        },
        "id": "jnkiHtDP9-oA",
        "outputId": "d26c608e-94fa-40a2-893d-3e266fef8a9b"
      },
      "execution_count": null,
      "outputs": [
        {
          "output_type": "stream",
          "name": "stdout",
          "text": [
            "  DTATESTADO\n",
            "0 2018-04-25\n",
            "1 2018-08-24\n",
            "2 2018-02-16\n",
            "3 2018-08-01\n",
            "4 2018-09-21\n",
            "datetime64[ns]\n"
          ]
        }
      ]
    },
    {
      "cell_type": "code",
      "source": [
        "df['DTATESTADO'].isnull().sum()"
      ],
      "metadata": {
        "colab": {
          "base_uri": "https://localhost:8080/"
        },
        "id": "LYczJ6puBgFU",
        "outputId": "b77bedf7-3a1a-4e98-fa65-67200a2ac217"
      },
      "execution_count": null,
      "outputs": [
        {
          "output_type": "execute_result",
          "data": {
            "text/plain": [
              "np.int64(0)"
            ]
          },
          "metadata": {},
          "execution_count": 11
        }
      ]
    },
    {
      "cell_type": "code",
      "source": [
        "# Substituir valores nulos por 22000101\n",
        "df['DTINVESTIG'] = df['DTINVESTIG'].fillna(1012200)\n",
        "\n",
        "# Se quiser converter para inteiro (opcional)\n",
        "df['DTINVESTIG'] = df['DTINVESTIG'].astype(int)\n",
        "\n",
        "# Se quiser como string (opcional)\n",
        "df['DTINVESTIG'] = df['DTINVESTIG'].astype(str)\n",
        "\n",
        "# Completar com zeros à esquerda até ter 8 dígitos\n",
        "df['DTINVESTIG'] = df['DTINVESTIG'].str.zfill(8)\n",
        "\n",
        "# Converter para datetime\n",
        "df['DTINVESTIG'] = pd.to_datetime(df['DTINVESTIG'], format='%d%m%Y', errors='coerce')\n",
        "\n",
        "# Conferir\n",
        "print(df[['DTINVESTIG']].head())\n",
        "print(df['DTINVESTIG'].dtypes)"
      ],
      "metadata": {
        "colab": {
          "base_uri": "https://localhost:8080/"
        },
        "id": "ZxxIuZDF_9sF",
        "outputId": "901f35a2-23dc-4086-fb60-5a92a59add79"
      },
      "execution_count": null,
      "outputs": [
        {
          "output_type": "stream",
          "name": "stdout",
          "text": [
            "  DTINVESTIG\n",
            "0 2200-01-01\n",
            "1 2200-01-01\n",
            "2 2200-01-01\n",
            "3 2200-01-01\n",
            "4 2200-01-01\n",
            "datetime64[ns]\n"
          ]
        }
      ]
    },
    {
      "cell_type": "code",
      "source": [
        "var =  'DTCADASTRO'\n",
        " # Substituir valores nulos por 22000101\n",
        "df[var] = df[var].fillna(1012200)\n",
        "\n",
        "# Se quiser converter para inteiro (opcional)\n",
        "df[var] = df[var].astype(int)\n",
        "\n",
        "# Se quiser como string (opcional)\n",
        "df[var] = df[var].astype(str)\n",
        "\n",
        "# Completar com zeros à esquerda até ter 8 dígitos\n",
        "df[var] = df[var].str.zfill(8)\n",
        "\n",
        "# Converter para datetime\n",
        "df[var] = pd.to_datetime(df[var], format='%d%m%Y', errors='coerce')\n",
        "\n",
        "# Conferir\n",
        "print(df[[var]].head())\n",
        "print(df[var].dtypes)"
      ],
      "metadata": {
        "colab": {
          "base_uri": "https://localhost:8080/"
        },
        "id": "ZWold2etDHaH",
        "outputId": "00d9e7aa-320f-40ca-81e5-744b3f8c8947"
      },
      "execution_count": null,
      "outputs": [
        {
          "output_type": "stream",
          "name": "stdout",
          "text": [
            "  DTCADASTRO\n",
            "0 2018-05-25\n",
            "1 2019-05-21\n",
            "2 2018-02-22\n",
            "3 2019-04-09\n",
            "4 2018-09-26\n",
            "datetime64[ns]\n"
          ]
        }
      ]
    },
    {
      "cell_type": "code",
      "source": [
        "var =  'DTRECEBIM'\n",
        " # Substituir valores nulos por 22000101\n",
        "df[var] = df[var].fillna(1012200)\n",
        "\n",
        "# Se quiser converter para inteiro (opcional)\n",
        "df[var] = df[var].astype(int)\n",
        "\n",
        "# Se quiser como string (opcional)\n",
        "df[var] = df[var].astype(str)\n",
        "\n",
        "# Completar com zeros à esquerda até ter 8 dígitos\n",
        "df[var] = df[var].str.zfill(8)\n",
        "\n",
        "# Converter para datetime\n",
        "df[var] = pd.to_datetime(df[var], format='%d%m%Y', errors='coerce')\n",
        "\n",
        "# Conferir\n",
        "print(df[[var]].head())\n",
        "print(df[var].dtypes)"
      ],
      "metadata": {
        "colab": {
          "base_uri": "https://localhost:8080/"
        },
        "id": "YgVeh02lDp0Y",
        "outputId": "f3cbd398-b1ef-4c54-ed2f-bae7a38eb1ab"
      },
      "execution_count": null,
      "outputs": [
        {
          "output_type": "stream",
          "name": "stdout",
          "text": [
            "   DTRECEBIM\n",
            "0 2019-06-27\n",
            "1 2200-01-01\n",
            "2 2200-01-01\n",
            "3 2200-01-01\n",
            "4 2018-09-28\n",
            "datetime64[ns]\n"
          ]
        }
      ]
    },
    {
      "cell_type": "code",
      "source": [
        "var =  'DTCADINV'\n",
        " # Substituir valores nulos por 22000101\n",
        "df[var] = df[var].fillna(1012200)\n",
        "\n",
        "# Se quiser converter para inteiro (opcional)\n",
        "df[var] = df[var].astype(int)\n",
        "\n",
        "# Se quiser como string (opcional)\n",
        "df[var] = df[var].astype(str)\n",
        "\n",
        "# Completar com zeros à esquerda até ter 8 dígitos\n",
        "df[var] = df[var].str.zfill(8)\n",
        "\n",
        "# Converter para datetime\n",
        "df[var] = pd.to_datetime(df[var], format='%d%m%Y', errors='coerce')\n",
        "\n",
        "# Conferir\n",
        "print(df[[var]].head())\n",
        "print(df[var].dtypes)"
      ],
      "metadata": {
        "colab": {
          "base_uri": "https://localhost:8080/"
        },
        "id": "l1MAkhYrEXQZ",
        "outputId": "f7c801b0-dcbf-41e6-9e59-ec06ce8eff6e"
      },
      "execution_count": null,
      "outputs": [
        {
          "output_type": "stream",
          "name": "stdout",
          "text": [
            "    DTCADINV\n",
            "0 2200-01-01\n",
            "1 2200-01-01\n",
            "2 2200-01-01\n",
            "3 2200-01-01\n",
            "4 2200-01-01\n",
            "datetime64[ns]\n"
          ]
        }
      ]
    },
    {
      "cell_type": "code",
      "source": [
        "var =  'DTCONINV'\n",
        " # Substituir valores nulos por 22000101\n",
        "df[var] = df[var].fillna(1012200)\n",
        "\n",
        "# Se quiser converter para inteiro (opcional)\n",
        "df[var] = df[var].astype(int)\n",
        "\n",
        "# Se quiser como string (opcional)\n",
        "df[var] = df[var].astype(str)\n",
        "\n",
        "# Completar com zeros à esquerda até ter 8 dígitos\n",
        "df[var] = df[var].str.zfill(8)\n",
        "\n",
        "# Converter para datetime\n",
        "df[var] = pd.to_datetime(df[var], format='%d%m%Y', errors='coerce')\n",
        "\n",
        "# Conferir\n",
        "print(df[[var]].head())\n",
        "print(df[var].dtypes)"
      ],
      "metadata": {
        "colab": {
          "base_uri": "https://localhost:8080/"
        },
        "id": "_YiWl-XhEjsI",
        "outputId": "040881e2-5bb1-482e-b373-0e4c449b2d68"
      },
      "execution_count": null,
      "outputs": [
        {
          "output_type": "stream",
          "name": "stdout",
          "text": [
            "    DTCONINV\n",
            "0 2200-01-01\n",
            "1 2200-01-01\n",
            "2 2200-01-01\n",
            "3 2200-01-01\n",
            "4 2200-01-01\n",
            "datetime64[ns]\n"
          ]
        }
      ]
    },
    {
      "cell_type": "code",
      "source": [
        "var =  'DTCADINF'\n",
        " # Substituir valores nulos por 22000101\n",
        "df[var] = df[var].fillna(1012200)\n",
        "\n",
        "# Se quiser converter para inteiro (opcional)\n",
        "df[var] = df[var].astype(int)\n",
        "\n",
        "# Se quiser como string (opcional)\n",
        "df[var] = df[var].astype(str)\n",
        "\n",
        "# Completar com zeros à esquerda até ter 8 dígitos\n",
        "df[var] = df[var].str.zfill(8)\n",
        "\n",
        "# Converter para datetime\n",
        "df[var] = pd.to_datetime(df[var], format='%d%m%Y', errors='coerce')\n",
        "\n",
        "# Conferir\n",
        "print(df[[var]].head())\n",
        "print(df[var].dtypes)"
      ],
      "metadata": {
        "colab": {
          "base_uri": "https://localhost:8080/"
        },
        "id": "8hlhYMUyFAyp",
        "outputId": "b17bc305-2aa5-4dbc-acfd-39809b9f20ca"
      },
      "execution_count": null,
      "outputs": [
        {
          "output_type": "stream",
          "name": "stdout",
          "text": [
            "    DTCADINF\n",
            "0 2200-01-01\n",
            "1 2200-01-01\n",
            "2 2200-01-01\n",
            "3 2200-01-01\n",
            "4 2200-01-01\n",
            "datetime64[ns]\n"
          ]
        }
      ]
    },
    {
      "cell_type": "code",
      "source": [
        "var =  'DTCONCASO'\n",
        " # Substituir valores nulos por 22000101\n",
        "df[var] = df[var].fillna(1012200)\n",
        "\n",
        "# Se quiser converter para inteiro (opcional)\n",
        "df[var] = df[var].astype(int)\n",
        "\n",
        "# Se quiser como string (opcional)\n",
        "df[var] = df[var].astype(str)\n",
        "\n",
        "# Completar com zeros à esquerda até ter 8 dígitos\n",
        "df[var] = df[var].str.zfill(8)\n",
        "\n",
        "# Converter para datetime\n",
        "df[var] = pd.to_datetime(df[var], format='%d%m%Y', errors='coerce')\n",
        "\n",
        "# Conferir\n",
        "print(df[[var]].head())\n",
        "print(df[var].dtypes)"
      ],
      "metadata": {
        "colab": {
          "base_uri": "https://localhost:8080/"
        },
        "id": "v_gsA137FDDn",
        "outputId": "1e55492b-3653-4771-b475-ad8f0fb705ee"
      },
      "execution_count": null,
      "outputs": [
        {
          "output_type": "stream",
          "name": "stdout",
          "text": [
            "   DTCONCASO\n",
            "0 2200-01-01\n",
            "1 2200-01-01\n",
            "2 2200-01-01\n",
            "3 2200-01-01\n",
            "4 2200-01-01\n",
            "datetime64[ns]\n"
          ]
        }
      ]
    },
    {
      "cell_type": "code",
      "source": [
        "# Preencher valores nulos em todas as colunas restantes com -1\n",
        "df = df.fillna(-1)"
      ],
      "metadata": {
        "id": "5FPA6uenFNBv"
      },
      "execution_count": null,
      "outputs": []
    },
    {
      "cell_type": "code",
      "source": [
        "df.info()\n",
        "#Valores Nulos -> 01/01/2200\n",
        "#DTOBITO   1316719 non-null  int64\n",
        "#DTRECORIGA  1316719 non-null  int64\n",
        "#DTNASC      1312650 non-null  float64\n",
        "#DTATESTADO  1306593 non-null  float64\n",
        "#DTINVESTIG  211899 non-null   float64\n",
        "#DTCADASTRO  1312600 non-null  float64\n",
        "#DTRECEBIM   1316445 non-null  float64\n",
        "#DTCADINV    57903 non-null    float64\n",
        "#DTCONINV    57438 non-null    float64\n",
        "#DTCADINF    32303 non-null    float64\n",
        "#DTCONCASO   29807 non-null    float64"
      ],
      "metadata": {
        "id": "AP5c48HOK6U0",
        "outputId": "696b6d1c-f816-4eec-b873-e088fc875e55",
        "colab": {
          "base_uri": "https://localhost:8080/"
        }
      },
      "execution_count": null,
      "outputs": [
        {
          "output_type": "stream",
          "name": "stdout",
          "text": [
            "<class 'pandas.core.frame.DataFrame'>\n",
            "RangeIndex: 1316719 entries, 0 to 1316718\n",
            "Data columns (total 87 columns):\n",
            " #   Column      Non-Null Count    Dtype         \n",
            "---  ------      --------------    -----         \n",
            " 0   ORIGEM      1316719 non-null  int64         \n",
            " 1   TIPOBITO    1316719 non-null  int64         \n",
            " 2   DTOBITO     1316719 non-null  datetime64[ns]\n",
            " 3   HORAOBITO   1316719 non-null  float64       \n",
            " 4   NATURAL     1316719 non-null  float64       \n",
            " 5   CODMUNNATU  1316719 non-null  float64       \n",
            " 6   DTNASC      1316719 non-null  datetime64[ns]\n",
            " 7   IDADE       1316719 non-null  int64         \n",
            " 8   SEXO        1316719 non-null  int64         \n",
            " 9   RACACOR     1316719 non-null  float64       \n",
            " 10  ESTCIV      1316719 non-null  float64       \n",
            " 11  ESC         1316719 non-null  float64       \n",
            " 12  ESC2010     1316719 non-null  float64       \n",
            " 13  SERIESCFAL  1316719 non-null  float64       \n",
            " 14  OCUP        1316719 non-null  float64       \n",
            " 15  CODMUNRES   1316719 non-null  int64         \n",
            " 16  LOCOCOR     1316719 non-null  int64         \n",
            " 17  CODESTAB    1316719 non-null  float64       \n",
            " 18  ESTABDESCR  1316719 non-null  float64       \n",
            " 19  CODMUNOCOR  1316719 non-null  int64         \n",
            " 20  IDADEMAE    1316719 non-null  float64       \n",
            " 21  ESCMAE      1316719 non-null  float64       \n",
            " 22  ESCMAE2010  1316719 non-null  float64       \n",
            " 23  SERIESCMAE  1316719 non-null  float64       \n",
            " 24  OCUPMAE     1316719 non-null  float64       \n",
            " 25  QTDFILVIVO  1316719 non-null  float64       \n",
            " 26  QTDFILMORT  1316719 non-null  float64       \n",
            " 27  GRAVIDEZ    1316719 non-null  float64       \n",
            " 28  SEMAGESTAC  1316719 non-null  float64       \n",
            " 29  GESTACAO    1316719 non-null  float64       \n",
            " 30  PARTO       1316719 non-null  float64       \n",
            " 31  OBITOPARTO  1316719 non-null  float64       \n",
            " 32  PESO        1316719 non-null  float64       \n",
            " 33  TPMORTEOCO  1316719 non-null  float64       \n",
            " 34  OBITOGRAV   1316719 non-null  float64       \n",
            " 35  OBITOPUERP  1316719 non-null  float64       \n",
            " 36  ASSISTMED   1316719 non-null  float64       \n",
            " 37  EXAME       1316719 non-null  float64       \n",
            " 38  CIRURGIA    1316719 non-null  float64       \n",
            " 39  NECROPSIA   1316719 non-null  float64       \n",
            " 40  LINHAA      1316719 non-null  object        \n",
            " 41  LINHAB      1316719 non-null  object        \n",
            " 42  LINHAC      1316719 non-null  object        \n",
            " 43  LINHAD      1316719 non-null  object        \n",
            " 44  LINHAII     1316719 non-null  object        \n",
            " 45  CAUSABAS    1316719 non-null  object        \n",
            " 46  CB_PRE      1316719 non-null  float64       \n",
            " 47  COMUNSVOIM  1316719 non-null  float64       \n",
            " 48  DTATESTADO  1316719 non-null  datetime64[ns]\n",
            " 49  CIRCOBITO   1316719 non-null  float64       \n",
            " 50  ACIDTRAB    1316719 non-null  float64       \n",
            " 51  FONTE       1316719 non-null  float64       \n",
            " 52  NUMEROLOTE  1316719 non-null  float64       \n",
            " 53  TPPOS       1316719 non-null  object        \n",
            " 54  DTINVESTIG  1316719 non-null  datetime64[ns]\n",
            " 55  CAUSABAS_O  1316719 non-null  object        \n",
            " 56  DTCADASTRO  1316719 non-null  datetime64[ns]\n",
            " 57  ATESTANTE   1316719 non-null  float64       \n",
            " 58  STCODIFICA  1316719 non-null  object        \n",
            " 59  CODIFICADO  1316719 non-null  object        \n",
            " 60  VERSAOSIST  1316719 non-null  object        \n",
            " 61  VERSAOSCB   1316719 non-null  float64       \n",
            " 62  FONTEINV    1316719 non-null  float64       \n",
            " 63  DTRECEBIM   1316719 non-null  datetime64[ns]\n",
            " 64  ATESTADO    1316719 non-null  object        \n",
            " 65  DTRECORIGA  1316719 non-null  datetime64[ns]\n",
            " 66  CAUSAMAT    1316719 non-null  object        \n",
            " 67  ESCMAEAGR1  1316719 non-null  float64       \n",
            " 68  ESCFALAGR1  1316719 non-null  float64       \n",
            " 69  STDOEPIDEM  1316719 non-null  float64       \n",
            " 70  STDONOVA    1316719 non-null  int64         \n",
            " 71  DIFDATA     1316719 non-null  int64         \n",
            " 72  NUDIASOBCO  1316719 non-null  float64       \n",
            " 73  NUDIASOBIN  1316719 non-null  float64       \n",
            " 74  DTCADINV    1316719 non-null  datetime64[ns]\n",
            " 75  TPOBITOCOR  1316719 non-null  float64       \n",
            " 76  DTCONINV    1316719 non-null  datetime64[ns]\n",
            " 77  FONTES      1316719 non-null  object        \n",
            " 78  TPRESGINFO  1316719 non-null  float64       \n",
            " 79  TPNIVELINV  1316719 non-null  object        \n",
            " 80  NUDIASINF   1316719 non-null  float64       \n",
            " 81  DTCADINF    1316719 non-null  datetime64[ns]\n",
            " 82  MORTEPARTO  1316719 non-null  float64       \n",
            " 83  DTCONCASO   1316719 non-null  datetime64[ns]\n",
            " 84  FONTESINF   1316719 non-null  float64       \n",
            " 85  ALTCAUSA    1316719 non-null  float64       \n",
            " 86  CONTADOR    1316719 non-null  int64         \n",
            "dtypes: datetime64[ns](11), float64(51), int64(10), object(15)\n",
            "memory usage: 874.0+ MB\n"
          ]
        }
      ]
    },
    {
      "cell_type": "code",
      "source": [
        "df = df[df['TIPOBITO'] != 1]\n",
        "print(df['TIPOBITO'].value_counts())"
      ],
      "metadata": {
        "colab": {
          "base_uri": "https://localhost:8080/"
        },
        "id": "-3SnZDkVvnsC",
        "outputId": "ccf71eda-9677-41ad-ac2f-c7d474bfa5f0"
      },
      "execution_count": null,
      "outputs": [
        {
          "output_type": "stream",
          "name": "stdout",
          "text": [
            "TIPOBITO\n",
            "2    1316719\n",
            "Name: count, dtype: int64\n"
          ]
        }
      ]
    },
    {
      "cell_type": "code",
      "source": [
        "colunas_excluir = [\n",
        "    \"CB_PRE\", \"EXAME\", \"CIRURGIA\", \"SERIESCFAL\", \"SERIESCMAE\",\n",
        "    \"ESCMAEAGR1\", \"TPRESGINFO\", \"TP_ALTERA\", \"CB_ALT\",\n",
        "    \"ALTCAUSA\", \"FONTES\", \"DTCADINF\", \"DTCONCASO\", \"VERSAOSIST\", \"VERSAOSCB\",\n",
        "    \"OPOR_DO\", \"STCODIFICA\", \"CODIFICADO\", \"TPMORTEOCO\", \"COMUNSVOIM\", \"OBITOGRAV\",\n",
        "    \"OBITOPUERP\", \"FONTEINV\", \"DTINVESTIG\", \"NUDIASOBCO\", \"DTCADINV\", \"TPNIVELINV\",\n",
        "    \"IDADEMAE\", \"ESCMAE\", \"ESCMAE2010\", \"OCUPMAE\",\n",
        "    \"QTDFILVIVO\", \"QTDFILMORT\", \"GRAVIDEZ\", \"SEMAGESTAC\", \"GESTACAO\",\n",
        "    \"PARTO\", \"OBITOPARTO\", \"PESO\", \"CAUSAMAT\",\n",
        "    \"MORTEPARTO\", \"contador\", \"ORIGEM\", \"ESC\", \"NECROPSIA\", \"ACIDTRAB\",\n",
        "    \"FONTE\", \"NUMEROLOTE\", \"DTCADASTRO\", \"ATESTANTE\", \"DTRECEBIM\", \"DTRECORIGA\",\n",
        "    \"STDONOVA\", \"DIFDATA\",\"TPOBITOCOR\", \"DTCONINV\",\"CONTADOR\", \"ESTABDESCR\",\n",
        "    \"NUDIASOBIN\",\"NUDIASINF\", \"FONTESINF\", \"ESC2010\", \"TIPOBITO\"\n",
        "\n",
        "]\n",
        "\n",
        "df = df.drop(columns=colunas_excluir, errors=\"ignore\")\n"
      ],
      "metadata": {
        "id": "Q9trfLOXK6nP"
      },
      "execution_count": null,
      "outputs": []
    },
    {
      "cell_type": "code",
      "source": [
        "df.info()"
      ],
      "metadata": {
        "colab": {
          "base_uri": "https://localhost:8080/"
        },
        "id": "ppmn_DeWTd0m",
        "outputId": "fb6002d4-0819-4904-84a8-cf5f99ebd0bf"
      },
      "execution_count": null,
      "outputs": [
        {
          "output_type": "stream",
          "name": "stdout",
          "text": [
            "<class 'pandas.core.frame.DataFrame'>\n",
            "RangeIndex: 1316719 entries, 0 to 1316718\n",
            "Data columns (total 28 columns):\n",
            " #   Column      Non-Null Count    Dtype         \n",
            "---  ------      --------------    -----         \n",
            " 0   DTOBITO     1316719 non-null  datetime64[ns]\n",
            " 1   HORAOBITO   1316719 non-null  float64       \n",
            " 2   NATURAL     1316719 non-null  float64       \n",
            " 3   CODMUNNATU  1316719 non-null  float64       \n",
            " 4   DTNASC      1316719 non-null  datetime64[ns]\n",
            " 5   IDADE       1316719 non-null  int64         \n",
            " 6   SEXO        1316719 non-null  int64         \n",
            " 7   RACACOR     1316719 non-null  float64       \n",
            " 8   ESTCIV      1316719 non-null  float64       \n",
            " 9   OCUP        1316719 non-null  float64       \n",
            " 10  CODMUNRES   1316719 non-null  int64         \n",
            " 11  LOCOCOR     1316719 non-null  int64         \n",
            " 12  CODESTAB    1316719 non-null  float64       \n",
            " 13  CODMUNOCOR  1316719 non-null  int64         \n",
            " 14  ASSISTMED   1316719 non-null  float64       \n",
            " 15  LINHAA      1316719 non-null  object        \n",
            " 16  LINHAB      1316719 non-null  object        \n",
            " 17  LINHAC      1316719 non-null  object        \n",
            " 18  LINHAD      1316719 non-null  object        \n",
            " 19  LINHAII     1316719 non-null  object        \n",
            " 20  CAUSABAS    1316719 non-null  object        \n",
            " 21  DTATESTADO  1316719 non-null  datetime64[ns]\n",
            " 22  CIRCOBITO   1316719 non-null  float64       \n",
            " 23  TPPOS       1316719 non-null  object        \n",
            " 24  CAUSABAS_O  1316719 non-null  object        \n",
            " 25  ATESTADO    1316719 non-null  object        \n",
            " 26  ESCFALAGR1  1316719 non-null  float64       \n",
            " 27  STDOEPIDEM  1316719 non-null  float64       \n",
            "dtypes: datetime64[ns](3), float64(11), int64(5), object(9)\n",
            "memory usage: 281.3+ MB\n"
          ]
        }
      ]
    },
    {
      "cell_type": "code",
      "source": [
        "df.to_csv('DO_18.csv', index=False)"
      ],
      "metadata": {
        "id": "pJHjDaR6TenX"
      },
      "execution_count": null,
      "outputs": []
    },
    {
      "cell_type": "markdown",
      "source": [
        "# Ajustes de Idade e Ocupação"
      ],
      "metadata": {
        "id": "S86s2AbXSKvE"
      }
    },
    {
      "cell_type": "code",
      "source": [
        "df_2018 = pd.read_csv('DO_18.csv')"
      ],
      "metadata": {
        "id": "VchwHMH13NrV"
      },
      "execution_count": 4,
      "outputs": []
    },
    {
      "cell_type": "code",
      "source": [
        "df_2018['TIPOIDADE'] = np.where(df_2018['IDADE'] < 100, 0, df_2018['IDADE'].astype(str).str[0].astype(int))"
      ],
      "metadata": {
        "id": "HYfD_8Hv3eFi"
      },
      "execution_count": 6,
      "outputs": []
    },
    {
      "cell_type": "code",
      "source": [
        "df_2018['NR_IDADE'] = np.where(df_2018['IDADE'] < 100, df_2018['IDADE'],\n",
        "                                 df_2018['IDADE'].astype(str).str[1:].apply(lambda x: int(x) if x else 0))"
      ],
      "metadata": {
        "id": "lGF0OKhI6MHc"
      },
      "execution_count": 7,
      "outputs": []
    },
    {
      "cell_type": "code",
      "source": [
        "df_2018['OCUP'] = np.where(df_2018['OCUP'] > 999990, 999999, df_2018['OCUP'])"
      ],
      "metadata": {
        "id": "_q5zfOYwANvX"
      },
      "execution_count": 8,
      "outputs": []
    }
  ]
}