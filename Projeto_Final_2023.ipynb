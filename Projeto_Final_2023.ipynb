{
  "nbformat": 4,
  "nbformat_minor": 0,
  "metadata": {
    "colab": {
      "provenance": []
    },
    "kernelspec": {
      "name": "python3",
      "display_name": "Python 3"
    },
    "language_info": {
      "name": "python"
    }
  },
  "cells": [
    {
      "cell_type": "code",
      "execution_count": null,
      "metadata": {
        "id": "D2vz2nplL-c2"
      },
      "outputs": [],
      "source": [
        "import pandas as pd"
      ]
    },
    {
      "cell_type": "code",
      "source": [
        "df = pd.read_csv('DO23OPEN.csv', sep=';')"
      ],
      "metadata": {
        "colab": {
          "base_uri": "https://localhost:8080/"
        },
        "id": "VPOYrS5fMDbA",
        "outputId": "bd09d708-71e4-4b0f-e36b-383a62522867"
      },
      "execution_count": null,
      "outputs": [
        {
          "output_type": "stream",
          "name": "stderr",
          "text": [
            "/tmp/ipython-input-3871937495.py:1: DtypeWarning: Columns (65) have mixed types. Specify dtype option on import or set low_memory=False.\n",
            "  df = pd.read_csv('DO23OPEN.csv', sep=';')\n"
          ]
        }
      ]
    },
    {
      "cell_type": "code",
      "source": [
        "df = df[df['TIPOBITO'] != 1]\n",
        "print(df['TIPOBITO'].value_counts())"
      ],
      "metadata": {
        "colab": {
          "base_uri": "https://localhost:8080/"
        },
        "id": "hK_v47pV5bOr",
        "outputId": "7fc5bb36-07a7-4453-ac8f-1e3debe0b40f"
      },
      "execution_count": null,
      "outputs": [
        {
          "output_type": "stream",
          "name": "stdout",
          "text": [
            "TIPOBITO\n",
            "2    1465610\n",
            "Name: count, dtype: int64\n"
          ]
        }
      ]
    },
    {
      "cell_type": "code",
      "source": [
        "df.head(10).T"
      ],
      "metadata": {
        "id": "2LgAoFm3NDjF",
        "colab": {
          "base_uri": "https://localhost:8080/",
          "height": 423
        },
        "outputId": "ddc695d9-775c-4d08-a487-8e334c5b66d9"
      },
      "execution_count": null,
      "outputs": [
        {
          "output_type": "execute_result",
          "data": {
            "text/plain": [
              "                   0         1         2         3         4         5  \\\n",
              "contador           1         2         3         4         5         6   \n",
              "ORIGEM             1         1         1         1         1         1   \n",
              "TIPOBITO           2         2         2         2         2         2   \n",
              "DTOBITO     14022023  14022023  14022023  14022023  14022023  14022023   \n",
              "HORAOBITO      930.0    1730.0     500.0    2235.0     940.0     906.0   \n",
              "...              ...       ...       ...       ...       ...       ...   \n",
              "ALTCAUSA         NaN       NaN       NaN       NaN       NaN       NaN   \n",
              "CAUSABAS_O       I10      I678      K750       I64      C189      W188   \n",
              "TPPOS            NaN       NaN       NaN         S         S         S   \n",
              "TP_ALTERA        NaN       NaN       NaN       NaN       NaN       NaN   \n",
              "CB_ALT           NaN       NaN       NaN       NaN       NaN       NaN   \n",
              "\n",
              "                   6         7         8         9  \n",
              "contador           7         8         9        10  \n",
              "ORIGEM             1         1         1         1  \n",
              "TIPOBITO           2         2         2         2  \n",
              "DTOBITO     14022023  14022023  14022023  14022023  \n",
              "HORAOBITO      122.0     242.0    2041.0    2024.0  \n",
              "...              ...       ...       ...       ...  \n",
              "ALTCAUSA         NaN       NaN       NaN       NaN  \n",
              "CAUSABAS_O       E86      C539      C729      X700  \n",
              "TPPOS              S       NaN       NaN         S  \n",
              "TP_ALTERA        NaN       NaN       NaN       NaN  \n",
              "CB_ALT           NaN       NaN       NaN       NaN  \n",
              "\n",
              "[86 rows x 10 columns]"
            ],
            "text/html": [
              "\n",
              "  <div id=\"df-28ff03d9-7688-40b5-8373-28c8a69f4de8\" class=\"colab-df-container\">\n",
              "    <div>\n",
              "<style scoped>\n",
              "    .dataframe tbody tr th:only-of-type {\n",
              "        vertical-align: middle;\n",
              "    }\n",
              "\n",
              "    .dataframe tbody tr th {\n",
              "        vertical-align: top;\n",
              "    }\n",
              "\n",
              "    .dataframe thead th {\n",
              "        text-align: right;\n",
              "    }\n",
              "</style>\n",
              "<table border=\"1\" class=\"dataframe\">\n",
              "  <thead>\n",
              "    <tr style=\"text-align: right;\">\n",
              "      <th></th>\n",
              "      <th>0</th>\n",
              "      <th>1</th>\n",
              "      <th>2</th>\n",
              "      <th>3</th>\n",
              "      <th>4</th>\n",
              "      <th>5</th>\n",
              "      <th>6</th>\n",
              "      <th>7</th>\n",
              "      <th>8</th>\n",
              "      <th>9</th>\n",
              "    </tr>\n",
              "  </thead>\n",
              "  <tbody>\n",
              "    <tr>\n",
              "      <th>contador</th>\n",
              "      <td>1</td>\n",
              "      <td>2</td>\n",
              "      <td>3</td>\n",
              "      <td>4</td>\n",
              "      <td>5</td>\n",
              "      <td>6</td>\n",
              "      <td>7</td>\n",
              "      <td>8</td>\n",
              "      <td>9</td>\n",
              "      <td>10</td>\n",
              "    </tr>\n",
              "    <tr>\n",
              "      <th>ORIGEM</th>\n",
              "      <td>1</td>\n",
              "      <td>1</td>\n",
              "      <td>1</td>\n",
              "      <td>1</td>\n",
              "      <td>1</td>\n",
              "      <td>1</td>\n",
              "      <td>1</td>\n",
              "      <td>1</td>\n",
              "      <td>1</td>\n",
              "      <td>1</td>\n",
              "    </tr>\n",
              "    <tr>\n",
              "      <th>TIPOBITO</th>\n",
              "      <td>2</td>\n",
              "      <td>2</td>\n",
              "      <td>2</td>\n",
              "      <td>2</td>\n",
              "      <td>2</td>\n",
              "      <td>2</td>\n",
              "      <td>2</td>\n",
              "      <td>2</td>\n",
              "      <td>2</td>\n",
              "      <td>2</td>\n",
              "    </tr>\n",
              "    <tr>\n",
              "      <th>DTOBITO</th>\n",
              "      <td>14022023</td>\n",
              "      <td>14022023</td>\n",
              "      <td>14022023</td>\n",
              "      <td>14022023</td>\n",
              "      <td>14022023</td>\n",
              "      <td>14022023</td>\n",
              "      <td>14022023</td>\n",
              "      <td>14022023</td>\n",
              "      <td>14022023</td>\n",
              "      <td>14022023</td>\n",
              "    </tr>\n",
              "    <tr>\n",
              "      <th>HORAOBITO</th>\n",
              "      <td>930.0</td>\n",
              "      <td>1730.0</td>\n",
              "      <td>500.0</td>\n",
              "      <td>2235.0</td>\n",
              "      <td>940.0</td>\n",
              "      <td>906.0</td>\n",
              "      <td>122.0</td>\n",
              "      <td>242.0</td>\n",
              "      <td>2041.0</td>\n",
              "      <td>2024.0</td>\n",
              "    </tr>\n",
              "    <tr>\n",
              "      <th>...</th>\n",
              "      <td>...</td>\n",
              "      <td>...</td>\n",
              "      <td>...</td>\n",
              "      <td>...</td>\n",
              "      <td>...</td>\n",
              "      <td>...</td>\n",
              "      <td>...</td>\n",
              "      <td>...</td>\n",
              "      <td>...</td>\n",
              "      <td>...</td>\n",
              "    </tr>\n",
              "    <tr>\n",
              "      <th>ALTCAUSA</th>\n",
              "      <td>NaN</td>\n",
              "      <td>NaN</td>\n",
              "      <td>NaN</td>\n",
              "      <td>NaN</td>\n",
              "      <td>NaN</td>\n",
              "      <td>NaN</td>\n",
              "      <td>NaN</td>\n",
              "      <td>NaN</td>\n",
              "      <td>NaN</td>\n",
              "      <td>NaN</td>\n",
              "    </tr>\n",
              "    <tr>\n",
              "      <th>CAUSABAS_O</th>\n",
              "      <td>I10</td>\n",
              "      <td>I678</td>\n",
              "      <td>K750</td>\n",
              "      <td>I64</td>\n",
              "      <td>C189</td>\n",
              "      <td>W188</td>\n",
              "      <td>E86</td>\n",
              "      <td>C539</td>\n",
              "      <td>C729</td>\n",
              "      <td>X700</td>\n",
              "    </tr>\n",
              "    <tr>\n",
              "      <th>TPPOS</th>\n",
              "      <td>NaN</td>\n",
              "      <td>NaN</td>\n",
              "      <td>NaN</td>\n",
              "      <td>S</td>\n",
              "      <td>S</td>\n",
              "      <td>S</td>\n",
              "      <td>S</td>\n",
              "      <td>NaN</td>\n",
              "      <td>NaN</td>\n",
              "      <td>S</td>\n",
              "    </tr>\n",
              "    <tr>\n",
              "      <th>TP_ALTERA</th>\n",
              "      <td>NaN</td>\n",
              "      <td>NaN</td>\n",
              "      <td>NaN</td>\n",
              "      <td>NaN</td>\n",
              "      <td>NaN</td>\n",
              "      <td>NaN</td>\n",
              "      <td>NaN</td>\n",
              "      <td>NaN</td>\n",
              "      <td>NaN</td>\n",
              "      <td>NaN</td>\n",
              "    </tr>\n",
              "    <tr>\n",
              "      <th>CB_ALT</th>\n",
              "      <td>NaN</td>\n",
              "      <td>NaN</td>\n",
              "      <td>NaN</td>\n",
              "      <td>NaN</td>\n",
              "      <td>NaN</td>\n",
              "      <td>NaN</td>\n",
              "      <td>NaN</td>\n",
              "      <td>NaN</td>\n",
              "      <td>NaN</td>\n",
              "      <td>NaN</td>\n",
              "    </tr>\n",
              "  </tbody>\n",
              "</table>\n",
              "<p>86 rows × 10 columns</p>\n",
              "</div>\n",
              "    <div class=\"colab-df-buttons\">\n",
              "\n",
              "  <div class=\"colab-df-container\">\n",
              "    <button class=\"colab-df-convert\" onclick=\"convertToInteractive('df-28ff03d9-7688-40b5-8373-28c8a69f4de8')\"\n",
              "            title=\"Convert this dataframe to an interactive table.\"\n",
              "            style=\"display:none;\">\n",
              "\n",
              "  <svg xmlns=\"http://www.w3.org/2000/svg\" height=\"24px\" viewBox=\"0 -960 960 960\">\n",
              "    <path d=\"M120-120v-720h720v720H120Zm60-500h600v-160H180v160Zm220 220h160v-160H400v160Zm0 220h160v-160H400v160ZM180-400h160v-160H180v160Zm440 0h160v-160H620v160ZM180-180h160v-160H180v160Zm440 0h160v-160H620v160Z\"/>\n",
              "  </svg>\n",
              "    </button>\n",
              "\n",
              "  <style>\n",
              "    .colab-df-container {\n",
              "      display:flex;\n",
              "      gap: 12px;\n",
              "    }\n",
              "\n",
              "    .colab-df-convert {\n",
              "      background-color: #E8F0FE;\n",
              "      border: none;\n",
              "      border-radius: 50%;\n",
              "      cursor: pointer;\n",
              "      display: none;\n",
              "      fill: #1967D2;\n",
              "      height: 32px;\n",
              "      padding: 0 0 0 0;\n",
              "      width: 32px;\n",
              "    }\n",
              "\n",
              "    .colab-df-convert:hover {\n",
              "      background-color: #E2EBFA;\n",
              "      box-shadow: 0px 1px 2px rgba(60, 64, 67, 0.3), 0px 1px 3px 1px rgba(60, 64, 67, 0.15);\n",
              "      fill: #174EA6;\n",
              "    }\n",
              "\n",
              "    .colab-df-buttons div {\n",
              "      margin-bottom: 4px;\n",
              "    }\n",
              "\n",
              "    [theme=dark] .colab-df-convert {\n",
              "      background-color: #3B4455;\n",
              "      fill: #D2E3FC;\n",
              "    }\n",
              "\n",
              "    [theme=dark] .colab-df-convert:hover {\n",
              "      background-color: #434B5C;\n",
              "      box-shadow: 0px 1px 3px 1px rgba(0, 0, 0, 0.15);\n",
              "      filter: drop-shadow(0px 1px 2px rgba(0, 0, 0, 0.3));\n",
              "      fill: #FFFFFF;\n",
              "    }\n",
              "  </style>\n",
              "\n",
              "    <script>\n",
              "      const buttonEl =\n",
              "        document.querySelector('#df-28ff03d9-7688-40b5-8373-28c8a69f4de8 button.colab-df-convert');\n",
              "      buttonEl.style.display =\n",
              "        google.colab.kernel.accessAllowed ? 'block' : 'none';\n",
              "\n",
              "      async function convertToInteractive(key) {\n",
              "        const element = document.querySelector('#df-28ff03d9-7688-40b5-8373-28c8a69f4de8');\n",
              "        const dataTable =\n",
              "          await google.colab.kernel.invokeFunction('convertToInteractive',\n",
              "                                                    [key], {});\n",
              "        if (!dataTable) return;\n",
              "\n",
              "        const docLinkHtml = 'Like what you see? Visit the ' +\n",
              "          '<a target=\"_blank\" href=https://colab.research.google.com/notebooks/data_table.ipynb>data table notebook</a>'\n",
              "          + ' to learn more about interactive tables.';\n",
              "        element.innerHTML = '';\n",
              "        dataTable['output_type'] = 'display_data';\n",
              "        await google.colab.output.renderOutput(dataTable, element);\n",
              "        const docLink = document.createElement('div');\n",
              "        docLink.innerHTML = docLinkHtml;\n",
              "        element.appendChild(docLink);\n",
              "      }\n",
              "    </script>\n",
              "  </div>\n",
              "\n",
              "\n",
              "    <div id=\"df-9fd6f693-1442-4c32-9f67-057cc7191e1f\">\n",
              "      <button class=\"colab-df-quickchart\" onclick=\"quickchart('df-9fd6f693-1442-4c32-9f67-057cc7191e1f')\"\n",
              "                title=\"Suggest charts\"\n",
              "                style=\"display:none;\">\n",
              "\n",
              "<svg xmlns=\"http://www.w3.org/2000/svg\" height=\"24px\"viewBox=\"0 0 24 24\"\n",
              "     width=\"24px\">\n",
              "    <g>\n",
              "        <path d=\"M19 3H5c-1.1 0-2 .9-2 2v14c0 1.1.9 2 2 2h14c1.1 0 2-.9 2-2V5c0-1.1-.9-2-2-2zM9 17H7v-7h2v7zm4 0h-2V7h2v10zm4 0h-2v-4h2v4z\"/>\n",
              "    </g>\n",
              "</svg>\n",
              "      </button>\n",
              "\n",
              "<style>\n",
              "  .colab-df-quickchart {\n",
              "      --bg-color: #E8F0FE;\n",
              "      --fill-color: #1967D2;\n",
              "      --hover-bg-color: #E2EBFA;\n",
              "      --hover-fill-color: #174EA6;\n",
              "      --disabled-fill-color: #AAA;\n",
              "      --disabled-bg-color: #DDD;\n",
              "  }\n",
              "\n",
              "  [theme=dark] .colab-df-quickchart {\n",
              "      --bg-color: #3B4455;\n",
              "      --fill-color: #D2E3FC;\n",
              "      --hover-bg-color: #434B5C;\n",
              "      --hover-fill-color: #FFFFFF;\n",
              "      --disabled-bg-color: #3B4455;\n",
              "      --disabled-fill-color: #666;\n",
              "  }\n",
              "\n",
              "  .colab-df-quickchart {\n",
              "    background-color: var(--bg-color);\n",
              "    border: none;\n",
              "    border-radius: 50%;\n",
              "    cursor: pointer;\n",
              "    display: none;\n",
              "    fill: var(--fill-color);\n",
              "    height: 32px;\n",
              "    padding: 0;\n",
              "    width: 32px;\n",
              "  }\n",
              "\n",
              "  .colab-df-quickchart:hover {\n",
              "    background-color: var(--hover-bg-color);\n",
              "    box-shadow: 0 1px 2px rgba(60, 64, 67, 0.3), 0 1px 3px 1px rgba(60, 64, 67, 0.15);\n",
              "    fill: var(--button-hover-fill-color);\n",
              "  }\n",
              "\n",
              "  .colab-df-quickchart-complete:disabled,\n",
              "  .colab-df-quickchart-complete:disabled:hover {\n",
              "    background-color: var(--disabled-bg-color);\n",
              "    fill: var(--disabled-fill-color);\n",
              "    box-shadow: none;\n",
              "  }\n",
              "\n",
              "  .colab-df-spinner {\n",
              "    border: 2px solid var(--fill-color);\n",
              "    border-color: transparent;\n",
              "    border-bottom-color: var(--fill-color);\n",
              "    animation:\n",
              "      spin 1s steps(1) infinite;\n",
              "  }\n",
              "\n",
              "  @keyframes spin {\n",
              "    0% {\n",
              "      border-color: transparent;\n",
              "      border-bottom-color: var(--fill-color);\n",
              "      border-left-color: var(--fill-color);\n",
              "    }\n",
              "    20% {\n",
              "      border-color: transparent;\n",
              "      border-left-color: var(--fill-color);\n",
              "      border-top-color: var(--fill-color);\n",
              "    }\n",
              "    30% {\n",
              "      border-color: transparent;\n",
              "      border-left-color: var(--fill-color);\n",
              "      border-top-color: var(--fill-color);\n",
              "      border-right-color: var(--fill-color);\n",
              "    }\n",
              "    40% {\n",
              "      border-color: transparent;\n",
              "      border-right-color: var(--fill-color);\n",
              "      border-top-color: var(--fill-color);\n",
              "    }\n",
              "    60% {\n",
              "      border-color: transparent;\n",
              "      border-right-color: var(--fill-color);\n",
              "    }\n",
              "    80% {\n",
              "      border-color: transparent;\n",
              "      border-right-color: var(--fill-color);\n",
              "      border-bottom-color: var(--fill-color);\n",
              "    }\n",
              "    90% {\n",
              "      border-color: transparent;\n",
              "      border-bottom-color: var(--fill-color);\n",
              "    }\n",
              "  }\n",
              "</style>\n",
              "\n",
              "      <script>\n",
              "        async function quickchart(key) {\n",
              "          const quickchartButtonEl =\n",
              "            document.querySelector('#' + key + ' button');\n",
              "          quickchartButtonEl.disabled = true;  // To prevent multiple clicks.\n",
              "          quickchartButtonEl.classList.add('colab-df-spinner');\n",
              "          try {\n",
              "            const charts = await google.colab.kernel.invokeFunction(\n",
              "                'suggestCharts', [key], {});\n",
              "          } catch (error) {\n",
              "            console.error('Error during call to suggestCharts:', error);\n",
              "          }\n",
              "          quickchartButtonEl.classList.remove('colab-df-spinner');\n",
              "          quickchartButtonEl.classList.add('colab-df-quickchart-complete');\n",
              "        }\n",
              "        (() => {\n",
              "          let quickchartButtonEl =\n",
              "            document.querySelector('#df-9fd6f693-1442-4c32-9f67-057cc7191e1f button');\n",
              "          quickchartButtonEl.style.display =\n",
              "            google.colab.kernel.accessAllowed ? 'block' : 'none';\n",
              "        })();\n",
              "      </script>\n",
              "    </div>\n",
              "\n",
              "    </div>\n",
              "  </div>\n"
            ],
            "application/vnd.google.colaboratory.intrinsic+json": {
              "type": "dataframe",
              "variable_name": "df"
            }
          },
          "metadata": {},
          "execution_count": 7
        }
      ]
    },
    {
      "cell_type": "code",
      "source": [
        "df.info()"
      ],
      "metadata": {
        "id": "BkLxLTOMNF3d",
        "colab": {
          "base_uri": "https://localhost:8080/"
        },
        "outputId": "3d2cb387-91bb-40f0-da04-207665a15a79"
      },
      "execution_count": null,
      "outputs": [
        {
          "output_type": "stream",
          "name": "stdout",
          "text": [
            "<class 'pandas.core.frame.DataFrame'>\n",
            "RangeIndex: 1465610 entries, 0 to 1465609\n",
            "Data columns (total 86 columns):\n",
            " #   Column      Non-Null Count    Dtype  \n",
            "---  ------      --------------    -----  \n",
            " 0   contador    1465610 non-null  int64  \n",
            " 1   ORIGEM      1465610 non-null  int64  \n",
            " 2   TIPOBITO    1465610 non-null  int64  \n",
            " 3   DTOBITO     1465610 non-null  int64  \n",
            " 4   HORAOBITO   1416392 non-null  float64\n",
            " 5   NATURAL     1399908 non-null  float64\n",
            " 6   CODMUNNATU  1381624 non-null  float64\n",
            " 7   DTNASC      1462816 non-null  float64\n",
            " 8   IDADE       1465610 non-null  int64  \n",
            " 9   SEXO        1465610 non-null  int64  \n",
            " 10  RACACOR     1442526 non-null  float64\n",
            " 11  ESTCIV      1399251 non-null  float64\n",
            " 12  ESC         1375905 non-null  float64\n",
            " 13  ESC2010     1367238 non-null  float64\n",
            " 14  SERIESCFAL  404622 non-null   float64\n",
            " 15  OCUP        1263542 non-null  float64\n",
            " 16  CODMUNRES   1465610 non-null  int64  \n",
            " 17  LOCOCOR     1465610 non-null  int64  \n",
            " 18  CODESTAB    1064156 non-null  float64\n",
            " 19  CODMUNOCOR  1465610 non-null  int64  \n",
            " 20  IDADEMAE    29183 non-null    float64\n",
            " 21  ESCMAE      28950 non-null    float64\n",
            " 22  ESCMAE2010  28820 non-null    float64\n",
            " 23  SERIESCMAE  12375 non-null    float64\n",
            " 24  OCUPMAE     25908 non-null    float64\n",
            " 25  QTDFILVIVO  29164 non-null    float64\n",
            " 26  QTDFILMORT  28333 non-null    float64\n",
            " 27  GRAVIDEZ    29909 non-null    float64\n",
            " 28  SEMAGESTAC  28698 non-null    float64\n",
            " 29  GESTACAO    28698 non-null    float64\n",
            " 30  PARTO       29785 non-null    float64\n",
            " 31  OBITOPARTO  29545 non-null    float64\n",
            " 32  PESO        28705 non-null    float64\n",
            " 33  TPMORTEOCO  87151 non-null    float64\n",
            " 34  OBITOGRAV   87679 non-null    float64\n",
            " 35  OBITOPUERP  87662 non-null    float64\n",
            " 36  ASSISTMED   1020765 non-null  float64\n",
            " 37  EXAME       4106 non-null     float64\n",
            " 38  CIRURGIA    3949 non-null     float64\n",
            " 39  NECROPSIA   1047269 non-null  float64\n",
            " 40  LINHAA      1421060 non-null  object \n",
            " 41  LINHAB      1118038 non-null  object \n",
            " 42  LINHAC      688554 non-null   object \n",
            " 43  LINHAD      291456 non-null   object \n",
            " 44  LINHAII     630076 non-null   object \n",
            " 45  CAUSABAS    1465610 non-null  object \n",
            " 46  CB_PRE      0 non-null        float64\n",
            " 47  COMUNSVOIM  257792 non-null   float64\n",
            " 48  DTATESTADO  1459985 non-null  float64\n",
            " 49  CIRCOBITO   153897 non-null   float64\n",
            " 50  ACIDTRAB    51838 non-null    float64\n",
            " 51  FONTE       126366 non-null   float64\n",
            " 52  NUMEROLOTE  1465486 non-null  float64\n",
            " 53  DTINVESTIG  242831 non-null   float64\n",
            " 54  DTCADASTRO  1465071 non-null  float64\n",
            " 55  ATESTANTE   1362572 non-null  float64\n",
            " 56  STCODIFICA  1465270 non-null  object \n",
            " 57  CODIFICADO  1465608 non-null  object \n",
            " 58  VERSAOSIST  1465608 non-null  object \n",
            " 59  VERSAOSCB   1412959 non-null  float64\n",
            " 60  FONTEINV    245325 non-null   float64\n",
            " 61  DTRECEBIM   1463134 non-null  float64\n",
            " 62  ATESTADO    1465610 non-null  object \n",
            " 63  DTRECORIGA  1465610 non-null  int64  \n",
            " 64  OPOR_DO     1465610 non-null  int64  \n",
            " 65  CAUSAMAT    25 non-null       object \n",
            " 66  ESCMAEAGR1  28820 non-null    float64\n",
            " 67  ESCFALAGR1  1367238 non-null  float64\n",
            " 68  STDOEPIDEM  1465608 non-null  float64\n",
            " 69  STDONOVA    1465610 non-null  int64  \n",
            " 70  DIFDATA     1465610 non-null  int64  \n",
            " 71  NUDIASOBCO  60100 non-null    float64\n",
            " 72  DTCADINV    60520 non-null    float64\n",
            " 73  TPOBITOCOR  60520 non-null    float64\n",
            " 74  DTCONINV    60032 non-null    float64\n",
            " 75  FONTES      29861 non-null    object \n",
            " 76  TPRESGINFO  2629 non-null     float64\n",
            " 77  TPNIVELINV  60588 non-null    object \n",
            " 78  DTCADINF    29861 non-null    float64\n",
            " 79  MORTEPARTO  29861 non-null    float64\n",
            " 80  DTCONCASO   27375 non-null    float64\n",
            " 81  ALTCAUSA    28851 non-null    float64\n",
            " 82  CAUSABAS_O  1464573 non-null  object \n",
            " 83  TPPOS       947635 non-null   object \n",
            " 84  TP_ALTERA   5161 non-null     float64\n",
            " 85  CB_ALT      4741 non-null     object \n",
            "dtypes: float64(57), int64(13), object(16)\n",
            "memory usage: 961.6+ MB\n"
          ]
        }
      ]
    },
    {
      "cell_type": "code",
      "source": [
        "# Transformar em string\n",
        "df['DTOBITO'] = df['DTOBITO'].astype(str)\n",
        "\n",
        "# Completar com zeros à esquerda até ter 8 dígitos\n",
        "df['DTOBITO'] = df['DTOBITO'].str.zfill(8)\n",
        "\n",
        "# Converter para datetime\n",
        "df['DTOBITO'] = pd.to_datetime(df['DTOBITO'], format='%d%m%Y', errors='coerce')\n",
        "\n",
        "# Conferir\n",
        "print(df[['DTOBITO']].head())\n",
        "print(df['DTOBITO'].dtypes)"
      ],
      "metadata": {
        "id": "pcRPLHSHNidi",
        "colab": {
          "base_uri": "https://localhost:8080/"
        },
        "outputId": "4deb8dfe-1cbc-4b3e-fe3a-165b884acbf2"
      },
      "execution_count": null,
      "outputs": [
        {
          "output_type": "stream",
          "name": "stdout",
          "text": [
            "     DTOBITO\n",
            "0 2023-02-14\n",
            "1 2023-02-14\n",
            "2 2023-02-14\n",
            "3 2023-02-14\n",
            "4 2023-02-14\n",
            "datetime64[ns]\n"
          ]
        }
      ]
    },
    {
      "cell_type": "code",
      "source": [
        "# Transformar em string\n",
        "df['DTRECORIGA'] = df['DTRECORIGA'].astype(str)\n",
        "\n",
        "# Completar com zeros à esquerda até ter 8 dígitos\n",
        "df['DTRECORIGA'] = df['DTRECORIGA'].str.zfill(8)\n",
        "\n",
        "# Converter para datetime\n",
        "df['DTRECORIGA'] = pd.to_datetime(df['DTRECORIGA'], format='%d%m%Y', errors='coerce')\n",
        "\n",
        "# Conferir\n",
        "print(df[['DTRECORIGA']].head())\n",
        "print(df['DTRECORIGA'].dtypes)"
      ],
      "metadata": {
        "id": "4GD3rmunNkPC",
        "colab": {
          "base_uri": "https://localhost:8080/"
        },
        "outputId": "3b5c8e63-5833-4ffa-d87f-023fdcf072d6"
      },
      "execution_count": null,
      "outputs": [
        {
          "output_type": "stream",
          "name": "stdout",
          "text": [
            "  DTRECORIGA\n",
            "0 2023-02-27\n",
            "1 2023-02-17\n",
            "2 2023-02-17\n",
            "3 2023-03-02\n",
            "4 2023-02-16\n",
            "datetime64[ns]\n"
          ]
        }
      ]
    },
    {
      "cell_type": "code",
      "source": [
        "# Substituir valores nulos por 22000101\n",
        "df['DTNASC'] = df['DTNASC'].fillna(1012200)\n",
        "\n",
        "# Se quiser converter para inteiro (opcional)\n",
        "df['DTNASC'] = df['DTNASC'].astype(int)\n",
        "\n",
        "# Se quiser como string (opcional)\n",
        "df['DTNASC'] = df['DTNASC'].astype(str)\n",
        "\n",
        "# Completar com zeros à esquerda até ter 8 dígitos\n",
        "df['DTNASC'] = df['DTNASC'].str.zfill(8)\n",
        "\n",
        "# Converter para datetime\n",
        "df['DTNASC'] = pd.to_datetime(df['DTNASC'], format='%d%m%Y', errors='coerce')\n",
        "\n",
        "# Conferir\n",
        "print(df[['DTNASC']].head())\n",
        "print(df['DTNASC'].dtypes)"
      ],
      "metadata": {
        "id": "SLGCIrVMNlXw",
        "colab": {
          "base_uri": "https://localhost:8080/"
        },
        "outputId": "fc6d9348-0c59-4d82-ad10-475c5fdd7c14"
      },
      "execution_count": null,
      "outputs": [
        {
          "output_type": "stream",
          "name": "stdout",
          "text": [
            "      DTNASC\n",
            "0 1954-07-10\n",
            "1 1956-09-12\n",
            "2 1953-01-10\n",
            "3 1943-12-15\n",
            "4 1973-04-09\n",
            "datetime64[ns]\n"
          ]
        }
      ]
    },
    {
      "cell_type": "code",
      "source": [
        "# Substituir valores nulos por 22000101\n",
        "df['DTATESTADO'] = df['DTATESTADO'].fillna(1012200)\n",
        "\n",
        "# Se quiser converter para inteiro (opcional)\n",
        "df['DTATESTADO'] = df['DTATESTADO'].astype(int)\n",
        "\n",
        "# Se quiser como string (opcional)\n",
        "df['DTATESTADO'] = df['DTATESTADO'].astype(str)\n",
        "\n",
        "# Completar com zeros à esquerda até ter 8 dígitos\n",
        "df['DTATESTADO'] = df['DTATESTADO'].str.zfill(8)\n",
        "\n",
        "# Converter para datetime\n",
        "df['DTATESTADO'] = pd.to_datetime(df['DTATESTADO'], format='%d%m%Y', errors='coerce')\n",
        "\n",
        "# Conferir\n",
        "print(df[['DTATESTADO']].head())\n",
        "print(df['DTATESTADO'].dtypes)"
      ],
      "metadata": {
        "id": "YJLFvMTlNm7k",
        "colab": {
          "base_uri": "https://localhost:8080/"
        },
        "outputId": "a49ee72a-7b5f-4851-883b-c71e9f558c76"
      },
      "execution_count": null,
      "outputs": [
        {
          "output_type": "stream",
          "name": "stdout",
          "text": [
            "  DTATESTADO\n",
            "0 2023-02-14\n",
            "1 2023-02-14\n",
            "2 2023-02-14\n",
            "3 2023-02-15\n",
            "4 2023-02-14\n",
            "datetime64[ns]\n"
          ]
        }
      ]
    },
    {
      "cell_type": "code",
      "source": [
        "# Substituir valores nulos por 22000101\n",
        "df['DTINVESTIG'] = df['DTINVESTIG'].fillna(1012200)\n",
        "\n",
        "# Se quiser converter para inteiro (opcional)\n",
        "df['DTINVESTIG'] = df['DTINVESTIG'].astype(int)\n",
        "\n",
        "# Se quiser como string (opcional)\n",
        "df['DTINVESTIG'] = df['DTINVESTIG'].astype(str)\n",
        "\n",
        "# Completar com zeros à esquerda até ter 8 dígitos\n",
        "df['DTINVESTIG'] = df['DTINVESTIG'].str.zfill(8)\n",
        "\n",
        "# Converter para datetime\n",
        "df['DTINVESTIG'] = pd.to_datetime(df['DTINVESTIG'], format='%d%m%Y', errors='coerce')\n",
        "\n",
        "# Conferir\n",
        "print(df[['DTINVESTIG']].head())\n",
        "print(df['DTINVESTIG'].dtypes)"
      ],
      "metadata": {
        "id": "BPVZxZv8NpLv",
        "colab": {
          "base_uri": "https://localhost:8080/"
        },
        "outputId": "1de8bb7b-26f3-4dcc-84cc-715d9c94aae8"
      },
      "execution_count": null,
      "outputs": [
        {
          "output_type": "stream",
          "name": "stdout",
          "text": [
            "  DTINVESTIG\n",
            "0 2200-01-01\n",
            "1 2200-01-01\n",
            "2 2200-01-01\n",
            "3 2023-02-23\n",
            "4 2023-02-14\n",
            "datetime64[ns]\n"
          ]
        }
      ]
    },
    {
      "cell_type": "code",
      "source": [
        "var =  'DTCADASTRO'\n",
        " # Substituir valores nulos por 22000101\n",
        "df[var] = df[var].fillna(1012200)\n",
        "\n",
        "# Se quiser converter para inteiro (opcional)\n",
        "df[var] = df[var].astype(int)\n",
        "\n",
        "# Se quiser como string (opcional)\n",
        "df[var] = df[var].astype(str)\n",
        "\n",
        "# Completar com zeros à esquerda até ter 8 dígitos\n",
        "df[var] = df[var].str.zfill(8)\n",
        "\n",
        "# Converter para datetime\n",
        "df[var] = pd.to_datetime(df[var], format='%d%m%Y', errors='coerce')\n",
        "\n",
        "# Conferir\n",
        "print(df[[var]].head())\n",
        "print(df[var].dtypes)"
      ],
      "metadata": {
        "id": "pY7jZe_aNq7A",
        "colab": {
          "base_uri": "https://localhost:8080/"
        },
        "outputId": "9411970f-7e70-4f86-9e00-ff3f123c0aaa"
      },
      "execution_count": null,
      "outputs": [
        {
          "output_type": "stream",
          "name": "stdout",
          "text": [
            "  DTCADASTRO\n",
            "0 2023-02-23\n",
            "1 2023-02-17\n",
            "2 2023-02-17\n",
            "3 2023-02-15\n",
            "4 2023-02-14\n",
            "datetime64[ns]\n"
          ]
        }
      ]
    },
    {
      "cell_type": "code",
      "source": [
        "var =  'DTRECEBIM'\n",
        " # Substituir valores nulos por 22000101\n",
        "df[var] = df[var].fillna(1012200)\n",
        "\n",
        "# Se quiser converter para inteiro (opcional)\n",
        "df[var] = df[var].astype(int)\n",
        "\n",
        "# Se quiser como string (opcional)\n",
        "df[var] = df[var].astype(str)\n",
        "\n",
        "# Completar com zeros à esquerda até ter 8 dígitos\n",
        "df[var] = df[var].str.zfill(8)\n",
        "\n",
        "# Converter para datetime\n",
        "df[var] = pd.to_datetime(df[var], format='%d%m%Y', errors='coerce')\n",
        "\n",
        "# Conferir\n",
        "print(df[[var]].head())\n",
        "print(df[var].dtypes)"
      ],
      "metadata": {
        "id": "Sm6atRYHNsLM",
        "colab": {
          "base_uri": "https://localhost:8080/"
        },
        "outputId": "313a01ca-c9f4-4fb2-e772-cc7f09f4945a"
      },
      "execution_count": null,
      "outputs": [
        {
          "output_type": "stream",
          "name": "stdout",
          "text": [
            "   DTRECEBIM\n",
            "0 2023-02-27\n",
            "1 2023-02-17\n",
            "2 2023-02-17\n",
            "3 2023-03-09\n",
            "4 2024-10-30\n",
            "datetime64[ns]\n"
          ]
        }
      ]
    },
    {
      "cell_type": "code",
      "source": [
        "var =  'DTCADINV'\n",
        " # Substituir valores nulos por 22000101\n",
        "df[var] = df[var].fillna(1012200)\n",
        "\n",
        "# Se quiser converter para inteiro (opcional)\n",
        "df[var] = df[var].astype(int)\n",
        "\n",
        "# Se quiser como string (opcional)\n",
        "df[var] = df[var].astype(str)\n",
        "\n",
        "# Completar com zeros à esquerda até ter 8 dígitos\n",
        "df[var] = df[var].str.zfill(8)\n",
        "\n",
        "# Converter para datetime\n",
        "df[var] = pd.to_datetime(df[var], format='%d%m%Y', errors='coerce')\n",
        "\n",
        "# Conferir\n",
        "print(df[[var]].head())\n",
        "print(df[var].dtypes)"
      ],
      "metadata": {
        "id": "iX9Ks27DNtV6",
        "colab": {
          "base_uri": "https://localhost:8080/"
        },
        "outputId": "a4c90868-5e2a-4716-cc99-6aa87f5f5a4f"
      },
      "execution_count": null,
      "outputs": [
        {
          "output_type": "stream",
          "name": "stdout",
          "text": [
            "    DTCADINV\n",
            "0 2200-01-01\n",
            "1 2200-01-01\n",
            "2 2200-01-01\n",
            "3 2200-01-01\n",
            "4 2023-02-17\n",
            "datetime64[ns]\n"
          ]
        }
      ]
    },
    {
      "cell_type": "code",
      "source": [
        "var =  'DTCONINV'\n",
        " # Substituir valores nulos por 22000101\n",
        "df[var] = df[var].fillna(1012200)\n",
        "\n",
        "# Se quiser converter para inteiro (opcional)\n",
        "df[var] = df[var].astype(int)\n",
        "\n",
        "# Se quiser como string (opcional)\n",
        "df[var] = df[var].astype(str)\n",
        "\n",
        "# Completar com zeros à esquerda até ter 8 dígitos\n",
        "df[var] = df[var].str.zfill(8)\n",
        "\n",
        "# Converter para datetime\n",
        "df[var] = pd.to_datetime(df[var], format='%d%m%Y', errors='coerce')\n",
        "\n",
        "# Conferir\n",
        "print(df[[var]].head())\n",
        "print(df[var].dtypes)"
      ],
      "metadata": {
        "id": "jigl0SUZNuhK",
        "colab": {
          "base_uri": "https://localhost:8080/"
        },
        "outputId": "0c468414-e8f1-4f3f-a4f0-771a2b4fa718"
      },
      "execution_count": null,
      "outputs": [
        {
          "output_type": "stream",
          "name": "stdout",
          "text": [
            "    DTCONINV\n",
            "0 2200-01-01\n",
            "1 2200-01-01\n",
            "2 2200-01-01\n",
            "3 2200-01-01\n",
            "4 2023-02-17\n",
            "datetime64[ns]\n"
          ]
        }
      ]
    },
    {
      "cell_type": "code",
      "source": [
        "var =  'DTCADINF'\n",
        " # Substituir valores nulos por 22000101\n",
        "df[var] = df[var].fillna(1012200)\n",
        "\n",
        "# Se quiser converter para inteiro (opcional)\n",
        "df[var] = df[var].astype(int)\n",
        "\n",
        "# Se quiser como string (opcional)\n",
        "df[var] = df[var].astype(str)\n",
        "\n",
        "# Completar com zeros à esquerda até ter 8 dígitos\n",
        "df[var] = df[var].str.zfill(8)\n",
        "\n",
        "# Converter para datetime\n",
        "df[var] = pd.to_datetime(df[var], format='%d%m%Y', errors='coerce')\n",
        "\n",
        "# Conferir\n",
        "print(df[[var]].head())\n",
        "print(df[var].dtypes)"
      ],
      "metadata": {
        "id": "zeQXGW4CNvx8",
        "colab": {
          "base_uri": "https://localhost:8080/"
        },
        "outputId": "fbe666b3-5af0-4ab4-969f-5af978589f06"
      },
      "execution_count": null,
      "outputs": [
        {
          "output_type": "stream",
          "name": "stdout",
          "text": [
            "    DTCADINF\n",
            "0 2200-01-01\n",
            "1 2200-01-01\n",
            "2 2200-01-01\n",
            "3 2200-01-01\n",
            "4 2200-01-01\n",
            "datetime64[ns]\n"
          ]
        }
      ]
    },
    {
      "cell_type": "code",
      "source": [
        "var =  'DTCONCASO'\n",
        " # Substituir valores nulos por 22000101\n",
        "df[var] = df[var].fillna(1012200)\n",
        "\n",
        "# Se quiser converter para inteiro (opcional)\n",
        "df[var] = df[var].astype(int)\n",
        "\n",
        "# Se quiser como string (opcional)\n",
        "df[var] = df[var].astype(str)\n",
        "\n",
        "# Completar com zeros à esquerda até ter 8 dígitos\n",
        "df[var] = df[var].str.zfill(8)\n",
        "\n",
        "# Converter para datetime\n",
        "df[var] = pd.to_datetime(df[var], format='%d%m%Y', errors='coerce')\n",
        "\n",
        "# Conferir\n",
        "print(df[[var]].head())\n",
        "print(df[var].dtypes)"
      ],
      "metadata": {
        "id": "SS3jsgvWNxIY",
        "colab": {
          "base_uri": "https://localhost:8080/"
        },
        "outputId": "ed2c64d2-b7dc-4ac5-a58f-49d8ff1d67d1"
      },
      "execution_count": null,
      "outputs": [
        {
          "output_type": "stream",
          "name": "stdout",
          "text": [
            "   DTCONCASO\n",
            "0 2200-01-01\n",
            "1 2200-01-01\n",
            "2 2200-01-01\n",
            "3 2200-01-01\n",
            "4 2200-01-01\n",
            "datetime64[ns]\n"
          ]
        }
      ]
    },
    {
      "cell_type": "code",
      "source": [
        "# Preencher valores nulos em todas as colunas restantes com -1\n",
        "df = df.fillna(-1)"
      ],
      "metadata": {
        "id": "Jt1fRVN3NyUd"
      },
      "execution_count": null,
      "outputs": []
    },
    {
      "cell_type": "code",
      "source": [
        "df.info()\n",
        "#Valores Nulos -> 01/01/2200\n",
        "#DTOBITO   1316719 non-null  int64\n",
        "#DTRECORIGA  1316719 non-null  int64\n",
        "#DTNASC      1312650 non-null  float64\n",
        "#DTATESTADO  1306593 non-null  float64\n",
        "#DTINVESTIG  211899 non-null   float64\n",
        "#DTCADASTRO  1312600 non-null  float64\n",
        "#DTRECEBIM   1316445 non-null  float64\n",
        "#DTCADINV    57903 non-null    float64\n",
        "#DTCONINV    57438 non-null    float64\n",
        "#DTCADINF    32303 non-null    float64\n",
        "#DTCONCASO   29807 non-null    float64"
      ],
      "metadata": {
        "id": "Ve37OwF2N0DX",
        "colab": {
          "base_uri": "https://localhost:8080/"
        },
        "outputId": "4e924e50-2594-4bdb-debe-d522f5a0ade1"
      },
      "execution_count": null,
      "outputs": [
        {
          "output_type": "stream",
          "name": "stdout",
          "text": [
            "<class 'pandas.core.frame.DataFrame'>\n",
            "RangeIndex: 1465610 entries, 0 to 1465609\n",
            "Data columns (total 86 columns):\n",
            " #   Column      Non-Null Count    Dtype         \n",
            "---  ------      --------------    -----         \n",
            " 0   contador    1465610 non-null  int64         \n",
            " 1   ORIGEM      1465610 non-null  int64         \n",
            " 2   TIPOBITO    1465610 non-null  int64         \n",
            " 3   DTOBITO     1465610 non-null  datetime64[ns]\n",
            " 4   HORAOBITO   1465610 non-null  float64       \n",
            " 5   NATURAL     1465610 non-null  float64       \n",
            " 6   CODMUNNATU  1465610 non-null  float64       \n",
            " 7   DTNASC      1465610 non-null  datetime64[ns]\n",
            " 8   IDADE       1465610 non-null  int64         \n",
            " 9   SEXO        1465610 non-null  int64         \n",
            " 10  RACACOR     1465610 non-null  float64       \n",
            " 11  ESTCIV      1465610 non-null  float64       \n",
            " 12  ESC         1465610 non-null  float64       \n",
            " 13  ESC2010     1465610 non-null  float64       \n",
            " 14  SERIESCFAL  1465610 non-null  float64       \n",
            " 15  OCUP        1465610 non-null  float64       \n",
            " 16  CODMUNRES   1465610 non-null  int64         \n",
            " 17  LOCOCOR     1465610 non-null  int64         \n",
            " 18  CODESTAB    1465610 non-null  float64       \n",
            " 19  CODMUNOCOR  1465610 non-null  int64         \n",
            " 20  IDADEMAE    1465610 non-null  float64       \n",
            " 21  ESCMAE      1465610 non-null  float64       \n",
            " 22  ESCMAE2010  1465610 non-null  float64       \n",
            " 23  SERIESCMAE  1465610 non-null  float64       \n",
            " 24  OCUPMAE     1465610 non-null  float64       \n",
            " 25  QTDFILVIVO  1465610 non-null  float64       \n",
            " 26  QTDFILMORT  1465610 non-null  float64       \n",
            " 27  GRAVIDEZ    1465610 non-null  float64       \n",
            " 28  SEMAGESTAC  1465610 non-null  float64       \n",
            " 29  GESTACAO    1465610 non-null  float64       \n",
            " 30  PARTO       1465610 non-null  float64       \n",
            " 31  OBITOPARTO  1465610 non-null  float64       \n",
            " 32  PESO        1465610 non-null  float64       \n",
            " 33  TPMORTEOCO  1465610 non-null  float64       \n",
            " 34  OBITOGRAV   1465610 non-null  float64       \n",
            " 35  OBITOPUERP  1465610 non-null  float64       \n",
            " 36  ASSISTMED   1465610 non-null  float64       \n",
            " 37  EXAME       1465610 non-null  float64       \n",
            " 38  CIRURGIA    1465610 non-null  float64       \n",
            " 39  NECROPSIA   1465610 non-null  float64       \n",
            " 40  LINHAA      1465610 non-null  object        \n",
            " 41  LINHAB      1465610 non-null  object        \n",
            " 42  LINHAC      1465610 non-null  object        \n",
            " 43  LINHAD      1465610 non-null  object        \n",
            " 44  LINHAII     1465610 non-null  object        \n",
            " 45  CAUSABAS    1465610 non-null  object        \n",
            " 46  CB_PRE      1465610 non-null  float64       \n",
            " 47  COMUNSVOIM  1465610 non-null  float64       \n",
            " 48  DTATESTADO  1465610 non-null  datetime64[ns]\n",
            " 49  CIRCOBITO   1465610 non-null  float64       \n",
            " 50  ACIDTRAB    1465610 non-null  float64       \n",
            " 51  FONTE       1465610 non-null  float64       \n",
            " 52  NUMEROLOTE  1465610 non-null  float64       \n",
            " 53  DTINVESTIG  1465610 non-null  object        \n",
            " 54  DTCADASTRO  1465610 non-null  datetime64[ns]\n",
            " 55  ATESTANTE   1465610 non-null  float64       \n",
            " 56  STCODIFICA  1465610 non-null  object        \n",
            " 57  CODIFICADO  1465610 non-null  object        \n",
            " 58  VERSAOSIST  1465610 non-null  object        \n",
            " 59  VERSAOSCB   1465610 non-null  float64       \n",
            " 60  FONTEINV    1465610 non-null  float64       \n",
            " 61  DTRECEBIM   1465610 non-null  datetime64[ns]\n",
            " 62  ATESTADO    1465610 non-null  object        \n",
            " 63  DTRECORIGA  1465610 non-null  datetime64[ns]\n",
            " 64  OPOR_DO     1465610 non-null  int64         \n",
            " 65  CAUSAMAT    1465610 non-null  object        \n",
            " 66  ESCMAEAGR1  1465610 non-null  float64       \n",
            " 67  ESCFALAGR1  1465610 non-null  float64       \n",
            " 68  STDOEPIDEM  1465610 non-null  float64       \n",
            " 69  STDONOVA    1465610 non-null  int64         \n",
            " 70  DIFDATA     1465610 non-null  int64         \n",
            " 71  NUDIASOBCO  1465610 non-null  float64       \n",
            " 72  DTCADINV    1465610 non-null  datetime64[ns]\n",
            " 73  TPOBITOCOR  1465610 non-null  float64       \n",
            " 74  DTCONINV    1465610 non-null  datetime64[ns]\n",
            " 75  FONTES      1465610 non-null  object        \n",
            " 76  TPRESGINFO  1465610 non-null  float64       \n",
            " 77  TPNIVELINV  1465610 non-null  object        \n",
            " 78  DTCADINF    1465610 non-null  datetime64[ns]\n",
            " 79  MORTEPARTO  1465610 non-null  float64       \n",
            " 80  DTCONCASO   1465610 non-null  datetime64[ns]\n",
            " 81  ALTCAUSA    1465610 non-null  float64       \n",
            " 82  CAUSABAS_O  1465610 non-null  object        \n",
            " 83  TPPOS       1465610 non-null  object        \n",
            " 84  TP_ALTERA   1465610 non-null  float64       \n",
            " 85  CB_ALT      1465610 non-null  object        \n",
            "dtypes: datetime64[ns](10), float64(48), int64(11), object(17)\n",
            "memory usage: 961.6+ MB\n"
          ]
        }
      ]
    },
    {
      "cell_type": "code",
      "source": [
        "colunas_excluir = [\n",
        "    \"CB_PRE\", \"CAUSAMAT\", \"EXAME\", \"CIRURGIA\", \"SERIESCFAL\", \"SERIESCMAE\",\n",
        "    \"ESCMAEAGR1\", \"TPRESGINFO\", \"TP_ALTERA\", \"CB_ALT\", \"MORTEPARTO\",\n",
        "    \"ALTCAUSA\", \"FONTES\", \"DTCADINF\", \"DTCONCASO\", \"VERSAOSIST\", \"VERSAOSCB\",\n",
        "    \"OPOR_DO\", \"STCODIFICA\", \"CODIFICADO\", \"TPMORTEOCO\", \"COMUNSVOIM\", \"OBITOGRAV\",\n",
        "    \"OBITOPUERP\", \"FONTEINV\", \"DTINVESTIG\", \"NUDIASOBCO\", \"DTCADINV\", \"TPNIVELINV\",\n",
        "    \"IDADEMAE\", \"ESCMAE\", \"ESCMAE2010\", \"SERIESCMAE\", \"OCUPMAE\",\n",
        "    \"QTDFILVIVO\", \"QTDFILMORT\", \"GRAVIDEZ\", \"SEMAGESTAC\", \"GESTACAO\",\n",
        "    \"PARTO\", \"OBITOPARTO\", \"PESO\", \"CB_PRE\", \"CAUSAMAT\", \"ESCMAEAGR1\",\n",
        "    \"MORTEPARTO\", \"contador\", \"ORIGEM\", \"ESC\", \"FONTES\", \"NECROPSIA\", \"ACIDTRAB\",\n",
        "    \"FONTE\", \"NUMEROLOTE\", \"DTCADASTRO\", \"ATESTANTE\", \"DTRECEBIM\", \"DTRECORIGA\",\n",
        "    \"STDONOVA\", \"DIFDATA\",\"TPOBITOCOR\", \"DTCONINV\", \"ESC2010\", \"TIPOBITO\"\n",
        "\n",
        "]\n",
        "\n",
        "df = df.drop(columns=colunas_excluir, errors=\"ignore\")\n"
      ],
      "metadata": {
        "id": "kfAsU0qMO1Xv"
      },
      "execution_count": null,
      "outputs": []
    },
    {
      "cell_type": "code",
      "source": [
        "df.info()"
      ],
      "metadata": {
        "colab": {
          "base_uri": "https://localhost:8080/"
        },
        "id": "wexTHfIIJA5p",
        "outputId": "b1f4b22a-b348-413d-defd-8762c294e318"
      },
      "execution_count": null,
      "outputs": [
        {
          "output_type": "stream",
          "name": "stdout",
          "text": [
            "<class 'pandas.core.frame.DataFrame'>\n",
            "RangeIndex: 1465610 entries, 0 to 1465609\n",
            "Data columns (total 28 columns):\n",
            " #   Column      Non-Null Count    Dtype         \n",
            "---  ------      --------------    -----         \n",
            " 0   DTOBITO     1465610 non-null  datetime64[ns]\n",
            " 1   HORAOBITO   1465610 non-null  float64       \n",
            " 2   NATURAL     1465610 non-null  float64       \n",
            " 3   CODMUNNATU  1465610 non-null  float64       \n",
            " 4   DTNASC      1465610 non-null  datetime64[ns]\n",
            " 5   IDADE       1465610 non-null  int64         \n",
            " 6   SEXO        1465610 non-null  int64         \n",
            " 7   RACACOR     1465610 non-null  float64       \n",
            " 8   ESTCIV      1465610 non-null  float64       \n",
            " 9   OCUP        1465610 non-null  float64       \n",
            " 10  CODMUNRES   1465610 non-null  int64         \n",
            " 11  LOCOCOR     1465610 non-null  int64         \n",
            " 12  CODESTAB    1465610 non-null  float64       \n",
            " 13  CODMUNOCOR  1465610 non-null  int64         \n",
            " 14  ASSISTMED   1465610 non-null  float64       \n",
            " 15  LINHAA      1465610 non-null  object        \n",
            " 16  LINHAB      1465610 non-null  object        \n",
            " 17  LINHAC      1465610 non-null  object        \n",
            " 18  LINHAD      1465610 non-null  object        \n",
            " 19  LINHAII     1465610 non-null  object        \n",
            " 20  CAUSABAS    1465610 non-null  object        \n",
            " 21  DTATESTADO  1465610 non-null  datetime64[ns]\n",
            " 22  CIRCOBITO   1465610 non-null  float64       \n",
            " 23  ATESTADO    1465610 non-null  object        \n",
            " 24  ESCFALAGR1  1465610 non-null  float64       \n",
            " 25  STDOEPIDEM  1465610 non-null  float64       \n",
            " 26  CAUSABAS_O  1465610 non-null  object        \n",
            " 27  TPPOS       1465610 non-null  object        \n",
            "dtypes: datetime64[ns](3), float64(11), int64(5), object(9)\n",
            "memory usage: 313.1+ MB\n"
          ]
        }
      ]
    },
    {
      "cell_type": "code",
      "source": [
        "df.to_csv('DO_23.csv', index=False)"
      ],
      "metadata": {
        "id": "9q_iPSjzJBqu"
      },
      "execution_count": null,
      "outputs": []
    },
    {
      "cell_type": "markdown",
      "source": [
        "# Ajustes de Idade e Ocupação"
      ],
      "metadata": {
        "id": "ZPPfxQn4Ebvf"
      }
    },
    {
      "cell_type": "code",
      "source": [
        "import numpy as np"
      ],
      "metadata": {
        "id": "ag493Gj4EcPD"
      },
      "execution_count": null,
      "outputs": []
    },
    {
      "cell_type": "code",
      "source": [
        "df_2023 = pd.read_csv('DO_23.csv')\n",
        "df_2023['TIPOIDADE'] = np.where(df_2023['IDADE'] < 100, 0, df_2023['IDADE'].astype(str).str[0].astype(int))\n",
        "df_2023['NR_IDADE'] = np.where(df_2023['IDADE'] < 100, df_2023['IDADE'],\n",
        "                                 df_2023['IDADE'].astype(str).str[1:].apply(lambda x: int(x) if x else 0))\n",
        "df_2023['OCUP'] = np.where(df_2023['OCUP'] > 999990, 999999, df_2023['OCUP'])"
      ],
      "metadata": {
        "id": "F1KCvEtBEdfa"
      },
      "execution_count": null,
      "outputs": []
    },
    {
      "cell_type": "code",
      "source": [
        "df_2023.to_csv('DO_23.csv', index=False)"
      ],
      "metadata": {
        "id": "tMbeEeBGEnx7"
      },
      "execution_count": null,
      "outputs": []
    }
  ]
}