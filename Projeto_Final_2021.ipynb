{
  "nbformat": 4,
  "nbformat_minor": 0,
  "metadata": {
    "colab": {
      "provenance": []
    },
    "kernelspec": {
      "name": "python3",
      "display_name": "Python 3"
    },
    "language_info": {
      "name": "python"
    }
  },
  "cells": [
    {
      "cell_type": "code",
      "execution_count": 1,
      "metadata": {
        "id": "D2vz2nplL-c2"
      },
      "outputs": [],
      "source": [
        "import pandas as pd\n",
        "import numpy as np"
      ]
    },
    {
      "cell_type": "code",
      "source": [
        "df = pd.read_csv('Mortalidade_Geral_2021.csv', sep=';')"
      ],
      "metadata": {
        "colab": {
          "base_uri": "https://localhost:8080/"
        },
        "id": "VPOYrS5fMDbA",
        "outputId": "6ac08450-2d21-42a9-ff53-6ab13e3e2a4f"
      },
      "execution_count": null,
      "outputs": [
        {
          "output_type": "stream",
          "name": "stderr",
          "text": [
            "/tmp/ipython-input-874678499.py:1: DtypeWarning: Columns (66) have mixed types. Specify dtype option on import or set low_memory=False.\n",
            "  df = pd.read_csv('Mortalidade_Geral_2021.csv', sep=';')\n"
          ]
        }
      ]
    },
    {
      "cell_type": "code",
      "source": [
        "df = df[df['TIPOBITO'] != 1]\n",
        "print(df['TIPOBITO'].value_counts())"
      ],
      "metadata": {
        "colab": {
          "base_uri": "https://localhost:8080/"
        },
        "id": "kH4VrP3m2wPD",
        "outputId": "e0557bb8-8b16-48bd-a838-7705696cf79d"
      },
      "execution_count": null,
      "outputs": [
        {
          "output_type": "stream",
          "name": "stdout",
          "text": [
            "TIPOBITO\n",
            "2    1832649\n",
            "Name: count, dtype: int64\n"
          ]
        }
      ]
    },
    {
      "cell_type": "code",
      "source": [
        "df.head(10).T"
      ],
      "metadata": {
        "id": "2LgAoFm3NDjF",
        "colab": {
          "base_uri": "https://localhost:8080/",
          "height": 423
        },
        "outputId": "6c023aaa-864a-4731-ce60-2a0069f17897"
      },
      "execution_count": null,
      "outputs": [
        {
          "output_type": "execute_result",
          "data": {
            "text/plain": [
              "                   0         1         2         3          4        5  \\\n",
              "ORIGEM             1         1         1         1          1        1   \n",
              "TIPOBITO           2         2         2         2          2        2   \n",
              "DTOBITO     23032021  23032021  23032021  17042021    6012021  6022021   \n",
              "HORAOBITO     1500.0     243.0    1310.0    2149.0      420.0   1145.0   \n",
              "NATURAL        811.0     812.0     812.0     812.0      812.0    812.0   \n",
              "...              ...       ...       ...       ...        ...      ...   \n",
              "MORTEPARTO       NaN       NaN       NaN       NaN        3.0      NaN   \n",
              "DTCONCASO        NaN       NaN       NaN       NaN  7062021.0      NaN   \n",
              "FONTESINF        NaN       NaN       NaN       NaN        NaN      NaN   \n",
              "ALTCAUSA         NaN       NaN       NaN       NaN        1.0      NaN   \n",
              "CONTADOR        1313      1314      1315      1505       2215     2599   \n",
              "\n",
              "                   6         7         8         9  \n",
              "ORIGEM             1         1         1         1  \n",
              "TIPOBITO           2         2         2         2  \n",
              "DTOBITO     15022021  16022021  15022021  13022021  \n",
              "HORAOBITO        NaN     720.0    1320.0     700.0  \n",
              "NATURAL        812.0     812.0     812.0     812.0  \n",
              "...              ...       ...       ...       ...  \n",
              "MORTEPARTO       NaN       NaN       NaN       NaN  \n",
              "DTCONCASO        NaN       NaN       NaN       NaN  \n",
              "FONTESINF        NaN       NaN       NaN       NaN  \n",
              "ALTCAUSA         NaN       NaN       NaN       NaN  \n",
              "CONTADOR        2600      2601      2602      2603  \n",
              "\n",
              "[87 rows x 10 columns]"
            ],
            "text/html": [
              "\n",
              "  <div id=\"df-9590da6f-6f30-4297-8ff5-1e93187db760\" class=\"colab-df-container\">\n",
              "    <div>\n",
              "<style scoped>\n",
              "    .dataframe tbody tr th:only-of-type {\n",
              "        vertical-align: middle;\n",
              "    }\n",
              "\n",
              "    .dataframe tbody tr th {\n",
              "        vertical-align: top;\n",
              "    }\n",
              "\n",
              "    .dataframe thead th {\n",
              "        text-align: right;\n",
              "    }\n",
              "</style>\n",
              "<table border=\"1\" class=\"dataframe\">\n",
              "  <thead>\n",
              "    <tr style=\"text-align: right;\">\n",
              "      <th></th>\n",
              "      <th>0</th>\n",
              "      <th>1</th>\n",
              "      <th>2</th>\n",
              "      <th>3</th>\n",
              "      <th>4</th>\n",
              "      <th>5</th>\n",
              "      <th>6</th>\n",
              "      <th>7</th>\n",
              "      <th>8</th>\n",
              "      <th>9</th>\n",
              "    </tr>\n",
              "  </thead>\n",
              "  <tbody>\n",
              "    <tr>\n",
              "      <th>ORIGEM</th>\n",
              "      <td>1</td>\n",
              "      <td>1</td>\n",
              "      <td>1</td>\n",
              "      <td>1</td>\n",
              "      <td>1</td>\n",
              "      <td>1</td>\n",
              "      <td>1</td>\n",
              "      <td>1</td>\n",
              "      <td>1</td>\n",
              "      <td>1</td>\n",
              "    </tr>\n",
              "    <tr>\n",
              "      <th>TIPOBITO</th>\n",
              "      <td>2</td>\n",
              "      <td>2</td>\n",
              "      <td>2</td>\n",
              "      <td>2</td>\n",
              "      <td>2</td>\n",
              "      <td>2</td>\n",
              "      <td>2</td>\n",
              "      <td>2</td>\n",
              "      <td>2</td>\n",
              "      <td>2</td>\n",
              "    </tr>\n",
              "    <tr>\n",
              "      <th>DTOBITO</th>\n",
              "      <td>23032021</td>\n",
              "      <td>23032021</td>\n",
              "      <td>23032021</td>\n",
              "      <td>17042021</td>\n",
              "      <td>6012021</td>\n",
              "      <td>6022021</td>\n",
              "      <td>15022021</td>\n",
              "      <td>16022021</td>\n",
              "      <td>15022021</td>\n",
              "      <td>13022021</td>\n",
              "    </tr>\n",
              "    <tr>\n",
              "      <th>HORAOBITO</th>\n",
              "      <td>1500.0</td>\n",
              "      <td>243.0</td>\n",
              "      <td>1310.0</td>\n",
              "      <td>2149.0</td>\n",
              "      <td>420.0</td>\n",
              "      <td>1145.0</td>\n",
              "      <td>NaN</td>\n",
              "      <td>720.0</td>\n",
              "      <td>1320.0</td>\n",
              "      <td>700.0</td>\n",
              "    </tr>\n",
              "    <tr>\n",
              "      <th>NATURAL</th>\n",
              "      <td>811.0</td>\n",
              "      <td>812.0</td>\n",
              "      <td>812.0</td>\n",
              "      <td>812.0</td>\n",
              "      <td>812.0</td>\n",
              "      <td>812.0</td>\n",
              "      <td>812.0</td>\n",
              "      <td>812.0</td>\n",
              "      <td>812.0</td>\n",
              "      <td>812.0</td>\n",
              "    </tr>\n",
              "    <tr>\n",
              "      <th>...</th>\n",
              "      <td>...</td>\n",
              "      <td>...</td>\n",
              "      <td>...</td>\n",
              "      <td>...</td>\n",
              "      <td>...</td>\n",
              "      <td>...</td>\n",
              "      <td>...</td>\n",
              "      <td>...</td>\n",
              "      <td>...</td>\n",
              "      <td>...</td>\n",
              "    </tr>\n",
              "    <tr>\n",
              "      <th>MORTEPARTO</th>\n",
              "      <td>NaN</td>\n",
              "      <td>NaN</td>\n",
              "      <td>NaN</td>\n",
              "      <td>NaN</td>\n",
              "      <td>3.0</td>\n",
              "      <td>NaN</td>\n",
              "      <td>NaN</td>\n",
              "      <td>NaN</td>\n",
              "      <td>NaN</td>\n",
              "      <td>NaN</td>\n",
              "    </tr>\n",
              "    <tr>\n",
              "      <th>DTCONCASO</th>\n",
              "      <td>NaN</td>\n",
              "      <td>NaN</td>\n",
              "      <td>NaN</td>\n",
              "      <td>NaN</td>\n",
              "      <td>7062021.0</td>\n",
              "      <td>NaN</td>\n",
              "      <td>NaN</td>\n",
              "      <td>NaN</td>\n",
              "      <td>NaN</td>\n",
              "      <td>NaN</td>\n",
              "    </tr>\n",
              "    <tr>\n",
              "      <th>FONTESINF</th>\n",
              "      <td>NaN</td>\n",
              "      <td>NaN</td>\n",
              "      <td>NaN</td>\n",
              "      <td>NaN</td>\n",
              "      <td>NaN</td>\n",
              "      <td>NaN</td>\n",
              "      <td>NaN</td>\n",
              "      <td>NaN</td>\n",
              "      <td>NaN</td>\n",
              "      <td>NaN</td>\n",
              "    </tr>\n",
              "    <tr>\n",
              "      <th>ALTCAUSA</th>\n",
              "      <td>NaN</td>\n",
              "      <td>NaN</td>\n",
              "      <td>NaN</td>\n",
              "      <td>NaN</td>\n",
              "      <td>1.0</td>\n",
              "      <td>NaN</td>\n",
              "      <td>NaN</td>\n",
              "      <td>NaN</td>\n",
              "      <td>NaN</td>\n",
              "      <td>NaN</td>\n",
              "    </tr>\n",
              "    <tr>\n",
              "      <th>CONTADOR</th>\n",
              "      <td>1313</td>\n",
              "      <td>1314</td>\n",
              "      <td>1315</td>\n",
              "      <td>1505</td>\n",
              "      <td>2215</td>\n",
              "      <td>2599</td>\n",
              "      <td>2600</td>\n",
              "      <td>2601</td>\n",
              "      <td>2602</td>\n",
              "      <td>2603</td>\n",
              "    </tr>\n",
              "  </tbody>\n",
              "</table>\n",
              "<p>87 rows × 10 columns</p>\n",
              "</div>\n",
              "    <div class=\"colab-df-buttons\">\n",
              "\n",
              "  <div class=\"colab-df-container\">\n",
              "    <button class=\"colab-df-convert\" onclick=\"convertToInteractive('df-9590da6f-6f30-4297-8ff5-1e93187db760')\"\n",
              "            title=\"Convert this dataframe to an interactive table.\"\n",
              "            style=\"display:none;\">\n",
              "\n",
              "  <svg xmlns=\"http://www.w3.org/2000/svg\" height=\"24px\" viewBox=\"0 -960 960 960\">\n",
              "    <path d=\"M120-120v-720h720v720H120Zm60-500h600v-160H180v160Zm220 220h160v-160H400v160Zm0 220h160v-160H400v160ZM180-400h160v-160H180v160Zm440 0h160v-160H620v160ZM180-180h160v-160H180v160Zm440 0h160v-160H620v160Z\"/>\n",
              "  </svg>\n",
              "    </button>\n",
              "\n",
              "  <style>\n",
              "    .colab-df-container {\n",
              "      display:flex;\n",
              "      gap: 12px;\n",
              "    }\n",
              "\n",
              "    .colab-df-convert {\n",
              "      background-color: #E8F0FE;\n",
              "      border: none;\n",
              "      border-radius: 50%;\n",
              "      cursor: pointer;\n",
              "      display: none;\n",
              "      fill: #1967D2;\n",
              "      height: 32px;\n",
              "      padding: 0 0 0 0;\n",
              "      width: 32px;\n",
              "    }\n",
              "\n",
              "    .colab-df-convert:hover {\n",
              "      background-color: #E2EBFA;\n",
              "      box-shadow: 0px 1px 2px rgba(60, 64, 67, 0.3), 0px 1px 3px 1px rgba(60, 64, 67, 0.15);\n",
              "      fill: #174EA6;\n",
              "    }\n",
              "\n",
              "    .colab-df-buttons div {\n",
              "      margin-bottom: 4px;\n",
              "    }\n",
              "\n",
              "    [theme=dark] .colab-df-convert {\n",
              "      background-color: #3B4455;\n",
              "      fill: #D2E3FC;\n",
              "    }\n",
              "\n",
              "    [theme=dark] .colab-df-convert:hover {\n",
              "      background-color: #434B5C;\n",
              "      box-shadow: 0px 1px 3px 1px rgba(0, 0, 0, 0.15);\n",
              "      filter: drop-shadow(0px 1px 2px rgba(0, 0, 0, 0.3));\n",
              "      fill: #FFFFFF;\n",
              "    }\n",
              "  </style>\n",
              "\n",
              "    <script>\n",
              "      const buttonEl =\n",
              "        document.querySelector('#df-9590da6f-6f30-4297-8ff5-1e93187db760 button.colab-df-convert');\n",
              "      buttonEl.style.display =\n",
              "        google.colab.kernel.accessAllowed ? 'block' : 'none';\n",
              "\n",
              "      async function convertToInteractive(key) {\n",
              "        const element = document.querySelector('#df-9590da6f-6f30-4297-8ff5-1e93187db760');\n",
              "        const dataTable =\n",
              "          await google.colab.kernel.invokeFunction('convertToInteractive',\n",
              "                                                    [key], {});\n",
              "        if (!dataTable) return;\n",
              "\n",
              "        const docLinkHtml = 'Like what you see? Visit the ' +\n",
              "          '<a target=\"_blank\" href=https://colab.research.google.com/notebooks/data_table.ipynb>data table notebook</a>'\n",
              "          + ' to learn more about interactive tables.';\n",
              "        element.innerHTML = '';\n",
              "        dataTable['output_type'] = 'display_data';\n",
              "        await google.colab.output.renderOutput(dataTable, element);\n",
              "        const docLink = document.createElement('div');\n",
              "        docLink.innerHTML = docLinkHtml;\n",
              "        element.appendChild(docLink);\n",
              "      }\n",
              "    </script>\n",
              "  </div>\n",
              "\n",
              "\n",
              "    <div id=\"df-cb6bc806-beb2-4baf-8c9d-1f5fc78cd249\">\n",
              "      <button class=\"colab-df-quickchart\" onclick=\"quickchart('df-cb6bc806-beb2-4baf-8c9d-1f5fc78cd249')\"\n",
              "                title=\"Suggest charts\"\n",
              "                style=\"display:none;\">\n",
              "\n",
              "<svg xmlns=\"http://www.w3.org/2000/svg\" height=\"24px\"viewBox=\"0 0 24 24\"\n",
              "     width=\"24px\">\n",
              "    <g>\n",
              "        <path d=\"M19 3H5c-1.1 0-2 .9-2 2v14c0 1.1.9 2 2 2h14c1.1 0 2-.9 2-2V5c0-1.1-.9-2-2-2zM9 17H7v-7h2v7zm4 0h-2V7h2v10zm4 0h-2v-4h2v4z\"/>\n",
              "    </g>\n",
              "</svg>\n",
              "      </button>\n",
              "\n",
              "<style>\n",
              "  .colab-df-quickchart {\n",
              "      --bg-color: #E8F0FE;\n",
              "      --fill-color: #1967D2;\n",
              "      --hover-bg-color: #E2EBFA;\n",
              "      --hover-fill-color: #174EA6;\n",
              "      --disabled-fill-color: #AAA;\n",
              "      --disabled-bg-color: #DDD;\n",
              "  }\n",
              "\n",
              "  [theme=dark] .colab-df-quickchart {\n",
              "      --bg-color: #3B4455;\n",
              "      --fill-color: #D2E3FC;\n",
              "      --hover-bg-color: #434B5C;\n",
              "      --hover-fill-color: #FFFFFF;\n",
              "      --disabled-bg-color: #3B4455;\n",
              "      --disabled-fill-color: #666;\n",
              "  }\n",
              "\n",
              "  .colab-df-quickchart {\n",
              "    background-color: var(--bg-color);\n",
              "    border: none;\n",
              "    border-radius: 50%;\n",
              "    cursor: pointer;\n",
              "    display: none;\n",
              "    fill: var(--fill-color);\n",
              "    height: 32px;\n",
              "    padding: 0;\n",
              "    width: 32px;\n",
              "  }\n",
              "\n",
              "  .colab-df-quickchart:hover {\n",
              "    background-color: var(--hover-bg-color);\n",
              "    box-shadow: 0 1px 2px rgba(60, 64, 67, 0.3), 0 1px 3px 1px rgba(60, 64, 67, 0.15);\n",
              "    fill: var(--button-hover-fill-color);\n",
              "  }\n",
              "\n",
              "  .colab-df-quickchart-complete:disabled,\n",
              "  .colab-df-quickchart-complete:disabled:hover {\n",
              "    background-color: var(--disabled-bg-color);\n",
              "    fill: var(--disabled-fill-color);\n",
              "    box-shadow: none;\n",
              "  }\n",
              "\n",
              "  .colab-df-spinner {\n",
              "    border: 2px solid var(--fill-color);\n",
              "    border-color: transparent;\n",
              "    border-bottom-color: var(--fill-color);\n",
              "    animation:\n",
              "      spin 1s steps(1) infinite;\n",
              "  }\n",
              "\n",
              "  @keyframes spin {\n",
              "    0% {\n",
              "      border-color: transparent;\n",
              "      border-bottom-color: var(--fill-color);\n",
              "      border-left-color: var(--fill-color);\n",
              "    }\n",
              "    20% {\n",
              "      border-color: transparent;\n",
              "      border-left-color: var(--fill-color);\n",
              "      border-top-color: var(--fill-color);\n",
              "    }\n",
              "    30% {\n",
              "      border-color: transparent;\n",
              "      border-left-color: var(--fill-color);\n",
              "      border-top-color: var(--fill-color);\n",
              "      border-right-color: var(--fill-color);\n",
              "    }\n",
              "    40% {\n",
              "      border-color: transparent;\n",
              "      border-right-color: var(--fill-color);\n",
              "      border-top-color: var(--fill-color);\n",
              "    }\n",
              "    60% {\n",
              "      border-color: transparent;\n",
              "      border-right-color: var(--fill-color);\n",
              "    }\n",
              "    80% {\n",
              "      border-color: transparent;\n",
              "      border-right-color: var(--fill-color);\n",
              "      border-bottom-color: var(--fill-color);\n",
              "    }\n",
              "    90% {\n",
              "      border-color: transparent;\n",
              "      border-bottom-color: var(--fill-color);\n",
              "    }\n",
              "  }\n",
              "</style>\n",
              "\n",
              "      <script>\n",
              "        async function quickchart(key) {\n",
              "          const quickchartButtonEl =\n",
              "            document.querySelector('#' + key + ' button');\n",
              "          quickchartButtonEl.disabled = true;  // To prevent multiple clicks.\n",
              "          quickchartButtonEl.classList.add('colab-df-spinner');\n",
              "          try {\n",
              "            const charts = await google.colab.kernel.invokeFunction(\n",
              "                'suggestCharts', [key], {});\n",
              "          } catch (error) {\n",
              "            console.error('Error during call to suggestCharts:', error);\n",
              "          }\n",
              "          quickchartButtonEl.classList.remove('colab-df-spinner');\n",
              "          quickchartButtonEl.classList.add('colab-df-quickchart-complete');\n",
              "        }\n",
              "        (() => {\n",
              "          let quickchartButtonEl =\n",
              "            document.querySelector('#df-cb6bc806-beb2-4baf-8c9d-1f5fc78cd249 button');\n",
              "          quickchartButtonEl.style.display =\n",
              "            google.colab.kernel.accessAllowed ? 'block' : 'none';\n",
              "        })();\n",
              "      </script>\n",
              "    </div>\n",
              "\n",
              "    </div>\n",
              "  </div>\n"
            ],
            "application/vnd.google.colaboratory.intrinsic+json": {
              "type": "dataframe",
              "variable_name": "df"
            }
          },
          "metadata": {},
          "execution_count": 7
        }
      ]
    },
    {
      "cell_type": "code",
      "source": [
        "df.info()"
      ],
      "metadata": {
        "id": "BkLxLTOMNF3d",
        "colab": {
          "base_uri": "https://localhost:8080/"
        },
        "outputId": "93c4df64-c6db-4a94-f275-8d27bfd14145"
      },
      "execution_count": null,
      "outputs": [
        {
          "output_type": "stream",
          "name": "stdout",
          "text": [
            "<class 'pandas.core.frame.DataFrame'>\n",
            "RangeIndex: 1832649 entries, 0 to 1832648\n",
            "Data columns (total 87 columns):\n",
            " #   Column      Dtype  \n",
            "---  ------      -----  \n",
            " 0   ORIGEM      int64  \n",
            " 1   TIPOBITO    int64  \n",
            " 2   DTOBITO     int64  \n",
            " 3   HORAOBITO   float64\n",
            " 4   NATURAL     float64\n",
            " 5   CODMUNNATU  float64\n",
            " 6   DTNASC      float64\n",
            " 7   IDADE       int64  \n",
            " 8   SEXO        int64  \n",
            " 9   RACACOR     float64\n",
            " 10  ESTCIV      float64\n",
            " 11  ESC         float64\n",
            " 12  ESC2010     float64\n",
            " 13  SERIESCFAL  float64\n",
            " 14  OCUP        float64\n",
            " 15  CODMUNRES   int64  \n",
            " 16  LOCOCOR     int64  \n",
            " 17  CODESTAB    float64\n",
            " 18  ESTABDESCR  float64\n",
            " 19  CODMUNOCOR  int64  \n",
            " 20  IDADEMAE    float64\n",
            " 21  ESCMAE      float64\n",
            " 22  ESCMAE2010  float64\n",
            " 23  SERIESCMAE  float64\n",
            " 24  OCUPMAE     float64\n",
            " 25  QTDFILVIVO  float64\n",
            " 26  QTDFILMORT  float64\n",
            " 27  GRAVIDEZ    float64\n",
            " 28  SEMAGESTAC  float64\n",
            " 29  GESTACAO    float64\n",
            " 30  PARTO       float64\n",
            " 31  OBITOPARTO  float64\n",
            " 32  PESO        float64\n",
            " 33  TPMORTEOCO  float64\n",
            " 34  OBITOGRAV   float64\n",
            " 35  OBITOPUERP  float64\n",
            " 36  ASSISTMED   float64\n",
            " 37  EXAME       float64\n",
            " 38  CIRURGIA    float64\n",
            " 39  NECROPSIA   float64\n",
            " 40  LINHAA      object \n",
            " 41  LINHAB      object \n",
            " 42  LINHAC      object \n",
            " 43  LINHAD      object \n",
            " 44  LINHAII     object \n",
            " 45  CAUSABAS    object \n",
            " 46  CB_PRE      float64\n",
            " 47  COMUNSVOIM  float64\n",
            " 48  DTATESTADO  float64\n",
            " 49  CIRCOBITO   float64\n",
            " 50  ACIDTRAB    float64\n",
            " 51  FONTE       float64\n",
            " 52  NUMEROLOTE  float64\n",
            " 53  TPPOS       object \n",
            " 54  DTINVESTIG  float64\n",
            " 55  CAUSABAS_O  object \n",
            " 56  DTCADASTRO  float64\n",
            " 57  ATESTANTE   float64\n",
            " 58  STCODIFICA  object \n",
            " 59  CODIFICADO  object \n",
            " 60  VERSAOSIST  object \n",
            " 61  VERSAOSCB   float64\n",
            " 62  FONTEINV    float64\n",
            " 63  DTRECEBIM   float64\n",
            " 64  ATESTADO    object \n",
            " 65  DTRECORIGA  int64  \n",
            " 66  CAUSAMAT    object \n",
            " 67  ESCMAEAGR1  float64\n",
            " 68  ESCFALAGR1  float64\n",
            " 69  STDOEPIDEM  float64\n",
            " 70  STDONOVA    int64  \n",
            " 71  DIFDATA     int64  \n",
            " 72  NUDIASOBCO  float64\n",
            " 73  NUDIASOBIN  float64\n",
            " 74  DTCADINV    float64\n",
            " 75  TPOBITOCOR  float64\n",
            " 76  DTCONINV    float64\n",
            " 77  FONTES      object \n",
            " 78  TPRESGINFO  float64\n",
            " 79  TPNIVELINV  object \n",
            " 80  NUDIASINF   float64\n",
            " 81  DTCADINF    float64\n",
            " 82  MORTEPARTO  float64\n",
            " 83  DTCONCASO   float64\n",
            " 84  FONTESINF   float64\n",
            " 85  ALTCAUSA    float64\n",
            " 86  CONTADOR    int64  \n",
            "dtypes: float64(60), int64(12), object(15)\n",
            "memory usage: 1.2+ GB\n"
          ]
        }
      ]
    },
    {
      "cell_type": "code",
      "source": [
        "# Transformar em string\n",
        "df['DTOBITO'] = df['DTOBITO'].astype(str)\n",
        "\n",
        "# Completar com zeros à esquerda até ter 8 dígitos\n",
        "df['DTOBITO'] = df['DTOBITO'].str.zfill(8)\n",
        "\n",
        "# Converter para datetime\n",
        "df['DTOBITO'] = pd.to_datetime(df['DTOBITO'], format='%d%m%Y', errors='coerce')\n",
        "\n",
        "# Conferir\n",
        "print(df[['DTOBITO']].head())\n",
        "print(df['DTOBITO'].dtypes)"
      ],
      "metadata": {
        "id": "pcRPLHSHNidi",
        "colab": {
          "base_uri": "https://localhost:8080/"
        },
        "outputId": "3895c04c-f8ee-443c-ee1c-841fe38d4847"
      },
      "execution_count": null,
      "outputs": [
        {
          "output_type": "stream",
          "name": "stdout",
          "text": [
            "     DTOBITO\n",
            "0 2021-03-23\n",
            "1 2021-03-23\n",
            "2 2021-03-23\n",
            "3 2021-04-17\n",
            "4 2021-01-06\n",
            "datetime64[ns]\n"
          ]
        }
      ]
    },
    {
      "cell_type": "code",
      "source": [
        "# Transformar em string\n",
        "df['DTRECORIGA'] = df['DTRECORIGA'].astype(str)\n",
        "\n",
        "# Completar com zeros à esquerda até ter 8 dígitos\n",
        "df['DTRECORIGA'] = df['DTRECORIGA'].str.zfill(8)\n",
        "\n",
        "# Converter para datetime\n",
        "df['DTRECORIGA'] = pd.to_datetime(df['DTRECORIGA'], format='%d%m%Y', errors='coerce')\n",
        "\n",
        "# Conferir\n",
        "print(df[['DTRECORIGA']].head())\n",
        "print(df['DTRECORIGA'].dtypes)"
      ],
      "metadata": {
        "id": "4GD3rmunNkPC",
        "colab": {
          "base_uri": "https://localhost:8080/"
        },
        "outputId": "07e4d472-76fa-4df1-e28b-e2ed2aa68636"
      },
      "execution_count": null,
      "outputs": [
        {
          "output_type": "stream",
          "name": "stdout",
          "text": [
            "  DTRECORIGA\n",
            "0 2021-05-20\n",
            "1 2021-05-20\n",
            "2 2021-05-20\n",
            "3 2021-05-19\n",
            "4 2021-01-14\n",
            "datetime64[ns]\n"
          ]
        }
      ]
    },
    {
      "cell_type": "code",
      "source": [
        "# Substituir valores nulos por 22000101\n",
        "df['DTNASC'] = df['DTNASC'].fillna(1012200)\n",
        "\n",
        "# Se quiser converter para inteiro (opcional)\n",
        "df['DTNASC'] = df['DTNASC'].astype(int)\n",
        "\n",
        "# Se quiser como string (opcional)\n",
        "df['DTNASC'] = df['DTNASC'].astype(str)\n",
        "\n",
        "# Completar com zeros à esquerda até ter 8 dígitos\n",
        "df['DTNASC'] = df['DTNASC'].str.zfill(8)\n",
        "\n",
        "# Converter para datetime\n",
        "df['DTNASC'] = pd.to_datetime(df['DTNASC'], format='%d%m%Y', errors='coerce')\n",
        "\n",
        "# Conferir\n",
        "print(df[['DTNASC']].head())\n",
        "print(df['DTNASC'].dtypes)"
      ],
      "metadata": {
        "id": "SLGCIrVMNlXw",
        "colab": {
          "base_uri": "https://localhost:8080/"
        },
        "outputId": "820d39df-82f7-4049-8dc4-3d9e92acd881"
      },
      "execution_count": null,
      "outputs": [
        {
          "output_type": "stream",
          "name": "stdout",
          "text": [
            "      DTNASC\n",
            "0 1962-06-18\n",
            "1 1971-02-19\n",
            "2 1956-10-01\n",
            "3 1999-01-06\n",
            "4 2020-08-20\n",
            "datetime64[ns]\n"
          ]
        }
      ]
    },
    {
      "cell_type": "code",
      "source": [
        "# Substituir valores nulos por 22000101\n",
        "df['DTATESTADO'] = df['DTATESTADO'].fillna(1012200)\n",
        "\n",
        "# Se quiser converter para inteiro (opcional)\n",
        "df['DTATESTADO'] = df['DTATESTADO'].astype(int)\n",
        "\n",
        "# Se quiser como string (opcional)\n",
        "df['DTATESTADO'] = df['DTATESTADO'].astype(str)\n",
        "\n",
        "# Completar com zeros à esquerda até ter 8 dígitos\n",
        "df['DTATESTADO'] = df['DTATESTADO'].str.zfill(8)\n",
        "\n",
        "# Converter para datetime\n",
        "df['DTATESTADO'] = pd.to_datetime(df['DTATESTADO'], format='%d%m%Y', errors='coerce')\n",
        "\n",
        "# Conferir\n",
        "print(df[['DTATESTADO']].head())\n",
        "print(df['DTATESTADO'].dtypes)"
      ],
      "metadata": {
        "id": "YJLFvMTlNm7k",
        "colab": {
          "base_uri": "https://localhost:8080/"
        },
        "outputId": "cee63581-0f95-41a8-9c5c-23fd46d80d1d"
      },
      "execution_count": null,
      "outputs": [
        {
          "output_type": "stream",
          "name": "stdout",
          "text": [
            "  DTATESTADO\n",
            "0 2021-03-29\n",
            "1 2021-03-23\n",
            "2 2021-03-23\n",
            "3 2021-04-17\n",
            "4 2021-01-06\n",
            "datetime64[ns]\n"
          ]
        }
      ]
    },
    {
      "cell_type": "code",
      "source": [
        "# Substituir valores nulos por 22000101\n",
        "df['DTINVESTIG'] = df['DTINVESTIG'].fillna(1012200)\n",
        "\n",
        "# Se quiser converter para inteiro (opcional)\n",
        "df['DTINVESTIG'] = df['DTINVESTIG'].astype(int)\n",
        "\n",
        "# Se quiser como string (opcional)\n",
        "df['DTINVESTIG'] = df['DTINVESTIG'].astype(str)\n",
        "\n",
        "# Completar com zeros à esquerda até ter 8 dígitos\n",
        "df['DTINVESTIG'] = df['DTINVESTIG'].str.zfill(8)\n",
        "\n",
        "# Converter para datetime\n",
        "df['DTINVESTIG'] = pd.to_datetime(df['DTINVESTIG'], format='%d%m%Y', errors='coerce')\n",
        "\n",
        "# Conferir\n",
        "print(df[['DTINVESTIG']].head())\n",
        "print(df['DTINVESTIG'].dtypes)"
      ],
      "metadata": {
        "id": "BPVZxZv8NpLv",
        "colab": {
          "base_uri": "https://localhost:8080/"
        },
        "outputId": "ab8ee7d1-82b9-453d-f6c8-df157aadf1d5"
      },
      "execution_count": null,
      "outputs": [
        {
          "output_type": "stream",
          "name": "stdout",
          "text": [
            "  DTINVESTIG\n",
            "0 2200-01-01\n",
            "1 2200-01-01\n",
            "2 2200-01-01\n",
            "3 2200-01-01\n",
            "4 2021-06-29\n",
            "datetime64[ns]\n"
          ]
        }
      ]
    },
    {
      "cell_type": "code",
      "source": [
        "var =  'DTCADASTRO'\n",
        " # Substituir valores nulos por 22000101\n",
        "df[var] = df[var].fillna(1012200)\n",
        "\n",
        "# Se quiser converter para inteiro (opcional)\n",
        "df[var] = df[var].astype(int)\n",
        "\n",
        "# Se quiser como string (opcional)\n",
        "df[var] = df[var].astype(str)\n",
        "\n",
        "# Completar com zeros à esquerda até ter 8 dígitos\n",
        "df[var] = df[var].str.zfill(8)\n",
        "\n",
        "# Converter para datetime\n",
        "df[var] = pd.to_datetime(df[var], format='%d%m%Y', errors='coerce')\n",
        "\n",
        "# Conferir\n",
        "print(df[[var]].head())\n",
        "print(df[var].dtypes)"
      ],
      "metadata": {
        "id": "pY7jZe_aNq7A",
        "colab": {
          "base_uri": "https://localhost:8080/"
        },
        "outputId": "d7cbda16-89f4-4dde-e219-9a80958b3cb4"
      },
      "execution_count": null,
      "outputs": [
        {
          "output_type": "stream",
          "name": "stdout",
          "text": [
            "  DTCADASTRO\n",
            "0 2021-05-19\n",
            "1 2021-05-19\n",
            "2 2021-05-19\n",
            "3 2021-05-18\n",
            "4 2021-01-14\n",
            "datetime64[ns]\n"
          ]
        }
      ]
    },
    {
      "cell_type": "code",
      "source": [
        "var =  'DTRECEBIM'\n",
        " # Substituir valores nulos por 22000101\n",
        "df[var] = df[var].fillna(1012200)\n",
        "\n",
        "# Se quiser converter para inteiro (opcional)\n",
        "df[var] = df[var].astype(int)\n",
        "\n",
        "# Se quiser como string (opcional)\n",
        "df[var] = df[var].astype(str)\n",
        "\n",
        "# Completar com zeros à esquerda até ter 8 dígitos\n",
        "df[var] = df[var].str.zfill(8)\n",
        "\n",
        "# Converter para datetime\n",
        "df[var] = pd.to_datetime(df[var], format='%d%m%Y', errors='coerce')\n",
        "\n",
        "# Conferir\n",
        "print(df[[var]].head())\n",
        "print(df[var].dtypes)"
      ],
      "metadata": {
        "id": "Sm6atRYHNsLM",
        "colab": {
          "base_uri": "https://localhost:8080/"
        },
        "outputId": "88e764d1-5676-4cf1-bc49-5a26cdb56681"
      },
      "execution_count": null,
      "outputs": [
        {
          "output_type": "stream",
          "name": "stdout",
          "text": [
            "   DTRECEBIM\n",
            "0 2021-05-20\n",
            "1 2022-02-02\n",
            "2 2021-05-20\n",
            "3 2021-05-19\n",
            "4 2021-06-30\n",
            "datetime64[ns]\n"
          ]
        }
      ]
    },
    {
      "cell_type": "code",
      "source": [
        "var =  'DTCADINV'\n",
        " # Substituir valores nulos por 22000101\n",
        "df[var] = df[var].fillna(1012200)\n",
        "\n",
        "# Se quiser converter para inteiro (opcional)\n",
        "df[var] = df[var].astype(int)\n",
        "\n",
        "# Se quiser como string (opcional)\n",
        "df[var] = df[var].astype(str)\n",
        "\n",
        "# Completar com zeros à esquerda até ter 8 dígitos\n",
        "df[var] = df[var].str.zfill(8)\n",
        "\n",
        "# Converter para datetime\n",
        "df[var] = pd.to_datetime(df[var], format='%d%m%Y', errors='coerce')\n",
        "\n",
        "# Conferir\n",
        "print(df[[var]].head())\n",
        "print(df[var].dtypes)"
      ],
      "metadata": {
        "id": "iX9Ks27DNtV6",
        "colab": {
          "base_uri": "https://localhost:8080/"
        },
        "outputId": "1f611ef7-327f-4715-bf88-8b2274bf6fd7"
      },
      "execution_count": null,
      "outputs": [
        {
          "output_type": "stream",
          "name": "stdout",
          "text": [
            "    DTCADINV\n",
            "0 2200-01-01\n",
            "1 2200-01-01\n",
            "2 2200-01-01\n",
            "3 2200-01-01\n",
            "4 2200-01-01\n",
            "datetime64[ns]\n"
          ]
        }
      ]
    },
    {
      "cell_type": "code",
      "source": [
        "var =  'DTCONINV'\n",
        " # Substituir valores nulos por 22000101\n",
        "df[var] = df[var].fillna(1012200)\n",
        "\n",
        "# Se quiser converter para inteiro (opcional)\n",
        "df[var] = df[var].astype(int)\n",
        "\n",
        "# Se quiser como string (opcional)\n",
        "df[var] = df[var].astype(str)\n",
        "\n",
        "# Completar com zeros à esquerda até ter 8 dígitos\n",
        "df[var] = df[var].str.zfill(8)\n",
        "\n",
        "# Converter para datetime\n",
        "df[var] = pd.to_datetime(df[var], format='%d%m%Y', errors='coerce')\n",
        "\n",
        "# Conferir\n",
        "print(df[[var]].head())\n",
        "print(df[var].dtypes)"
      ],
      "metadata": {
        "id": "jigl0SUZNuhK",
        "colab": {
          "base_uri": "https://localhost:8080/"
        },
        "outputId": "5e401fcd-4a79-4f17-e77e-88df9e2d2b2a"
      },
      "execution_count": null,
      "outputs": [
        {
          "output_type": "stream",
          "name": "stdout",
          "text": [
            "    DTCONINV\n",
            "0 2200-01-01\n",
            "1 2200-01-01\n",
            "2 2200-01-01\n",
            "3 2200-01-01\n",
            "4 2200-01-01\n",
            "datetime64[ns]\n"
          ]
        }
      ]
    },
    {
      "cell_type": "code",
      "source": [
        "var =  'DTCADINF'\n",
        " # Substituir valores nulos por 22000101\n",
        "df[var] = df[var].fillna(1012200)\n",
        "\n",
        "# Se quiser converter para inteiro (opcional)\n",
        "df[var] = df[var].astype(int)\n",
        "\n",
        "# Se quiser como string (opcional)\n",
        "df[var] = df[var].astype(str)\n",
        "\n",
        "# Completar com zeros à esquerda até ter 8 dígitos\n",
        "df[var] = df[var].str.zfill(8)\n",
        "\n",
        "# Converter para datetime\n",
        "df[var] = pd.to_datetime(df[var], format='%d%m%Y', errors='coerce')\n",
        "\n",
        "# Conferir\n",
        "print(df[[var]].head())\n",
        "print(df[var].dtypes)"
      ],
      "metadata": {
        "id": "zeQXGW4CNvx8",
        "colab": {
          "base_uri": "https://localhost:8080/"
        },
        "outputId": "df202713-6565-4867-ed44-055568a46217"
      },
      "execution_count": null,
      "outputs": [
        {
          "output_type": "stream",
          "name": "stdout",
          "text": [
            "    DTCADINF\n",
            "0 2200-01-01\n",
            "1 2200-01-01\n",
            "2 2200-01-01\n",
            "3 2200-01-01\n",
            "4 2021-06-07\n",
            "datetime64[ns]\n"
          ]
        }
      ]
    },
    {
      "cell_type": "code",
      "source": [
        "var =  'DTCONCASO'\n",
        " # Substituir valores nulos por 22000101\n",
        "df[var] = df[var].fillna(1012200)\n",
        "\n",
        "# Se quiser converter para inteiro (opcional)\n",
        "df[var] = df[var].astype(int)\n",
        "\n",
        "# Se quiser como string (opcional)\n",
        "df[var] = df[var].astype(str)\n",
        "\n",
        "# Completar com zeros à esquerda até ter 8 dígitos\n",
        "df[var] = df[var].str.zfill(8)\n",
        "\n",
        "# Converter para datetime\n",
        "df[var] = pd.to_datetime(df[var], format='%d%m%Y', errors='coerce')\n",
        "\n",
        "# Conferir\n",
        "print(df[[var]].head())\n",
        "print(df[var].dtypes)"
      ],
      "metadata": {
        "id": "SS3jsgvWNxIY",
        "colab": {
          "base_uri": "https://localhost:8080/"
        },
        "outputId": "81ba7586-e289-483c-c349-aac6938ff7f0"
      },
      "execution_count": null,
      "outputs": [
        {
          "output_type": "stream",
          "name": "stdout",
          "text": [
            "   DTCONCASO\n",
            "0 2200-01-01\n",
            "1 2200-01-01\n",
            "2 2200-01-01\n",
            "3 2200-01-01\n",
            "4 2021-06-07\n",
            "datetime64[ns]\n"
          ]
        }
      ]
    },
    {
      "cell_type": "code",
      "source": [
        "# Preencher valores nulos em todas as colunas restantes com -1\n",
        "df = df.fillna(-1)"
      ],
      "metadata": {
        "id": "Jt1fRVN3NyUd"
      },
      "execution_count": null,
      "outputs": []
    },
    {
      "cell_type": "code",
      "source": [
        "df.info()\n",
        "#Valores Nulos -> 01/01/2200\n",
        "#DTOBITO   1316719 non-null  int64\n",
        "#DTRECORIGA  1316719 non-null  int64\n",
        "#DTNASC      1312650 non-null  float64\n",
        "#DTATESTADO  1306593 non-null  float64\n",
        "#DTINVESTIG  211899 non-null   float64\n",
        "#DTCADASTRO  1312600 non-null  float64\n",
        "#DTRECEBIM   1316445 non-null  float64\n",
        "#DTCADINV    57903 non-null    float64\n",
        "#DTCONINV    57438 non-null    float64\n",
        "#DTCADINF    32303 non-null    float64\n",
        "#DTCONCASO   29807 non-null    float64"
      ],
      "metadata": {
        "id": "Ve37OwF2N0DX",
        "colab": {
          "base_uri": "https://localhost:8080/"
        },
        "outputId": "80275660-465e-495a-9e11-228906d23ce1"
      },
      "execution_count": null,
      "outputs": [
        {
          "output_type": "stream",
          "name": "stdout",
          "text": [
            "<class 'pandas.core.frame.DataFrame'>\n",
            "RangeIndex: 1832649 entries, 0 to 1832648\n",
            "Data columns (total 87 columns):\n",
            " #   Column      Dtype         \n",
            "---  ------      -----         \n",
            " 0   ORIGEM      int64         \n",
            " 1   TIPOBITO    int64         \n",
            " 2   DTOBITO     datetime64[ns]\n",
            " 3   HORAOBITO   float64       \n",
            " 4   NATURAL     float64       \n",
            " 5   CODMUNNATU  float64       \n",
            " 6   DTNASC      datetime64[ns]\n",
            " 7   IDADE       int64         \n",
            " 8   SEXO        int64         \n",
            " 9   RACACOR     float64       \n",
            " 10  ESTCIV      float64       \n",
            " 11  ESC         float64       \n",
            " 12  ESC2010     float64       \n",
            " 13  SERIESCFAL  float64       \n",
            " 14  OCUP        float64       \n",
            " 15  CODMUNRES   int64         \n",
            " 16  LOCOCOR     int64         \n",
            " 17  CODESTAB    float64       \n",
            " 18  ESTABDESCR  float64       \n",
            " 19  CODMUNOCOR  int64         \n",
            " 20  IDADEMAE    float64       \n",
            " 21  ESCMAE      float64       \n",
            " 22  ESCMAE2010  float64       \n",
            " 23  SERIESCMAE  float64       \n",
            " 24  OCUPMAE     float64       \n",
            " 25  QTDFILVIVO  float64       \n",
            " 26  QTDFILMORT  float64       \n",
            " 27  GRAVIDEZ    float64       \n",
            " 28  SEMAGESTAC  float64       \n",
            " 29  GESTACAO    float64       \n",
            " 30  PARTO       float64       \n",
            " 31  OBITOPARTO  float64       \n",
            " 32  PESO        float64       \n",
            " 33  TPMORTEOCO  float64       \n",
            " 34  OBITOGRAV   float64       \n",
            " 35  OBITOPUERP  float64       \n",
            " 36  ASSISTMED   float64       \n",
            " 37  EXAME       float64       \n",
            " 38  CIRURGIA    float64       \n",
            " 39  NECROPSIA   float64       \n",
            " 40  LINHAA      object        \n",
            " 41  LINHAB      object        \n",
            " 42  LINHAC      object        \n",
            " 43  LINHAD      object        \n",
            " 44  LINHAII     object        \n",
            " 45  CAUSABAS    object        \n",
            " 46  CB_PRE      float64       \n",
            " 47  COMUNSVOIM  float64       \n",
            " 48  DTATESTADO  object        \n",
            " 49  CIRCOBITO   float64       \n",
            " 50  ACIDTRAB    float64       \n",
            " 51  FONTE       float64       \n",
            " 52  NUMEROLOTE  float64       \n",
            " 53  TPPOS       object        \n",
            " 54  DTINVESTIG  datetime64[ns]\n",
            " 55  CAUSABAS_O  object        \n",
            " 56  DTCADASTRO  datetime64[ns]\n",
            " 57  ATESTANTE   float64       \n",
            " 58  STCODIFICA  object        \n",
            " 59  CODIFICADO  object        \n",
            " 60  VERSAOSIST  object        \n",
            " 61  VERSAOSCB   float64       \n",
            " 62  FONTEINV    float64       \n",
            " 63  DTRECEBIM   datetime64[ns]\n",
            " 64  ATESTADO    object        \n",
            " 65  DTRECORIGA  datetime64[ns]\n",
            " 66  CAUSAMAT    object        \n",
            " 67  ESCMAEAGR1  float64       \n",
            " 68  ESCFALAGR1  float64       \n",
            " 69  STDOEPIDEM  float64       \n",
            " 70  STDONOVA    int64         \n",
            " 71  DIFDATA     int64         \n",
            " 72  NUDIASOBCO  float64       \n",
            " 73  NUDIASOBIN  float64       \n",
            " 74  DTCADINV    datetime64[ns]\n",
            " 75  TPOBITOCOR  float64       \n",
            " 76  DTCONINV    datetime64[ns]\n",
            " 77  FONTES      object        \n",
            " 78  TPRESGINFO  float64       \n",
            " 79  TPNIVELINV  object        \n",
            " 80  NUDIASINF   float64       \n",
            " 81  DTCADINF    datetime64[ns]\n",
            " 82  MORTEPARTO  float64       \n",
            " 83  DTCONCASO   datetime64[ns]\n",
            " 84  FONTESINF   float64       \n",
            " 85  ALTCAUSA    float64       \n",
            " 86  CONTADOR    int64         \n",
            "dtypes: datetime64[ns](10), float64(51), int64(10), object(16)\n",
            "memory usage: 1.2+ GB\n"
          ]
        }
      ]
    },
    {
      "cell_type": "code",
      "source": [
        "colunas_excluir = [\n",
        "    \"CB_PRE\", \"CAUSAMAT\", \"EXAME\", \"CIRURGIA\", \"SERIESCFAL\", \"SERIESCMAE\",\n",
        "    \"ESCMAEAGR1\", \"TPRESGINFO\", \"TP_ALTERA\", \"CB_ALT\", \"MORTEPARTO\",\n",
        "    \"ALTCAUSA\", \"FONTES\", \"DTCADINF\", \"DTCONCASO\", \"VERSAOSIST\", \"VERSAOSCB\",\n",
        "    \"OPOR_DO\", \"STCODIFICA\", \"CODIFICADO\", \"TPMORTEOCO\", \"COMUNSVOIM\", \"OBITOGRAV\",\n",
        "    \"OBITOPUERP\", \"FONTEINV\", \"DTINVESTIG\", \"NUDIASOBCO\", \"DTCADINV\", \"TPNIVELINV\",\n",
        "    \"IDADEMAE\", \"ESCMAE\", \"ESCMAE2010\", \"SERIESCMAE\", \"OCUPMAE\",\n",
        "    \"QTDFILVIVO\", \"QTDFILMORT\", \"GRAVIDEZ\", \"SEMAGESTAC\", \"GESTACAO\",\n",
        "    \"PARTO\", \"OBITOPARTO\", \"PESO\", \"CB_PRE\", \"CAUSAMAT\", \"ESCMAEAGR1\",\n",
        "    \"MORTEPARTO\", \"contador\", \"ORIGEM\", \"ESC\", \"FONTES\", \"NECROPSIA\", \"ACIDTRAB\",\n",
        "    \"FONTE\", \"NUMEROLOTE\", \"DTCADASTRO\", \"ATESTANTE\", \"DTRECEBIM\", \"DTRECORIGA\",\n",
        "    \"STDONOVA\", \"DIFDATA\",\"TPOBITOCOR\", \"DTCONINV\", \"ESC2010\", \"TIPOBITO\"\n",
        "\n",
        "]\n",
        "\n",
        "df = df.drop(columns=colunas_excluir, errors=\"ignore\")\n"
      ],
      "metadata": {
        "id": "RLgavypIPAuc"
      },
      "execution_count": null,
      "outputs": []
    },
    {
      "cell_type": "code",
      "source": [
        "df.info()"
      ],
      "metadata": {
        "colab": {
          "base_uri": "https://localhost:8080/"
        },
        "id": "MBz9GQ_FPBLf",
        "outputId": "e7d1d99c-3db5-4617-cdb7-a2036c721977"
      },
      "execution_count": null,
      "outputs": [
        {
          "output_type": "stream",
          "name": "stdout",
          "text": [
            "<class 'pandas.core.frame.DataFrame'>\n",
            "RangeIndex: 1832649 entries, 0 to 1832648\n",
            "Data columns (total 28 columns):\n",
            " #   Column      Dtype         \n",
            "---  ------      -----         \n",
            " 0   DTOBITO     datetime64[ns]\n",
            " 1   HORAOBITO   float64       \n",
            " 2   NATURAL     float64       \n",
            " 3   CODMUNNATU  float64       \n",
            " 4   DTNASC      datetime64[ns]\n",
            " 5   IDADE       int64         \n",
            " 6   SEXO        int64         \n",
            " 7   RACACOR     float64       \n",
            " 8   ESTCIV      float64       \n",
            " 9   OCUP        float64       \n",
            " 10  CODMUNRES   int64         \n",
            " 11  LOCOCOR     int64         \n",
            " 12  CODESTAB    float64       \n",
            " 13  CODMUNOCOR  int64         \n",
            " 14  ASSISTMED   float64       \n",
            " 15  LINHAA      object        \n",
            " 16  LINHAB      object        \n",
            " 17  LINHAC      object        \n",
            " 18  LINHAD      object        \n",
            " 19  LINHAII     object        \n",
            " 20  CAUSABAS    object        \n",
            " 21  DTATESTADO  object        \n",
            " 22  CIRCOBITO   float64       \n",
            " 23  TPPOS       object        \n",
            " 24  CAUSABAS_O  object        \n",
            " 25  ATESTADO    object        \n",
            " 26  ESCFALAGR1  float64       \n",
            " 27  STDOEPIDEM  float64       \n",
            "dtypes: datetime64[ns](2), float64(11), int64(5), object(10)\n",
            "memory usage: 391.5+ MB\n"
          ]
        }
      ]
    },
    {
      "cell_type": "code",
      "source": [
        "colunas_excluir = [\n",
        "    \"CONTADOR\", \"ESTABDESCR\",\n",
        "    \"NUDIASOBIN\",\"NUDIASINF\",\n",
        "    \"FONTESINF\"\n",
        "]\n",
        "\n",
        "df = df.drop(columns=colunas_excluir, errors=\"ignore\")\n"
      ],
      "metadata": {
        "id": "MwuurWxCPDe2"
      },
      "execution_count": null,
      "outputs": []
    },
    {
      "cell_type": "code",
      "source": [
        "df.to_csv('DO_21.csv', index=False)"
      ],
      "metadata": {
        "id": "YiXm22ikPIA-"
      },
      "execution_count": null,
      "outputs": []
    },
    {
      "cell_type": "markdown",
      "source": [
        "# Ajustes de Idade e Ocupação"
      ],
      "metadata": {
        "id": "059VKJpCF4Ix"
      }
    },
    {
      "cell_type": "code",
      "source": [
        "df_2021 = pd.read_csv('DO_21.csv')"
      ],
      "metadata": {
        "id": "IJF2AqvpF69p"
      },
      "execution_count": 9,
      "outputs": []
    },
    {
      "cell_type": "code",
      "source": [
        "df_2021['TIPOIDADE'] = np.where(df_2021['IDADE'] < 100, 0, df_2021['IDADE'].astype(str).str[0].astype(int))"
      ],
      "metadata": {
        "id": "McGTpdVNGBxj"
      },
      "execution_count": 10,
      "outputs": []
    },
    {
      "cell_type": "code",
      "source": [
        "df_2021['NR_IDADE'] = np.where(df_2021['IDADE'] < 100, df_2021['IDADE'],\n",
        "                                 df_2021['IDADE'].astype(str).str[1:].apply(lambda x: int(x) if x else 0))"
      ],
      "metadata": {
        "id": "txbMPLhVGDB1"
      },
      "execution_count": 11,
      "outputs": []
    },
    {
      "cell_type": "code",
      "source": [
        "df_2021['OCUP'] = np.where(df_2021['OCUP'] > 999990, 999999, df_2021['OCUP'])"
      ],
      "metadata": {
        "id": "wJZ8_38wGEQn"
      },
      "execution_count": 12,
      "outputs": []
    },
    {
      "cell_type": "code",
      "source": [
        "df_2021.to_csv('DO_21.csv', index=False)"
      ],
      "metadata": {
        "id": "lw9K2aS8GGsz"
      },
      "execution_count": 13,
      "outputs": []
    }
  ]
}