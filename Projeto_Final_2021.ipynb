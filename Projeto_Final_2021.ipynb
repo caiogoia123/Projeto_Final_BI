{
  "nbformat": 4,
  "nbformat_minor": 0,
  "metadata": {
    "colab": {
      "provenance": [],
      "toc_visible": true
    },
    "kernelspec": {
      "name": "python3",
      "display_name": "Python 3"
    },
    "language_info": {
      "name": "python"
    }
  },
  "cells": [
    {
      "cell_type": "code",
      "execution_count": 1,
      "metadata": {
        "id": "D2vz2nplL-c2"
      },
      "outputs": [],
      "source": [
        "import pandas as pd\n",
        "import numpy as np"
      ]
    },
    {
      "cell_type": "code",
      "source": [
        "df = pd.read_csv('Mortalidade_Geral_2021.csv', sep=';')"
      ],
      "metadata": {
        "colab": {
          "base_uri": "https://localhost:8080/"
        },
        "id": "VPOYrS5fMDbA",
        "outputId": "df009674-d6b7-4397-91ff-9481b8cba0d4"
      },
      "execution_count": 2,
      "outputs": [
        {
          "output_type": "stream",
          "name": "stderr",
          "text": [
            "/tmp/ipython-input-874678499.py:1: DtypeWarning: Columns (66) have mixed types. Specify dtype option on import or set low_memory=False.\n",
            "  df = pd.read_csv('Mortalidade_Geral_2021.csv', sep=';')\n"
          ]
        }
      ]
    },
    {
      "cell_type": "markdown",
      "source": [
        "# Tratando datas"
      ],
      "metadata": {
        "id": "6l19LSW673Bi"
      }
    },
    {
      "cell_type": "code",
      "source": [
        "# Transformar em string\n",
        "df['DTOBITO'] = df['DTOBITO'].astype(str)\n",
        "\n",
        "# Completar com zeros à esquerda até ter 8 dígitos\n",
        "df['DTOBITO'] = df['DTOBITO'].str.zfill(8)\n",
        "\n",
        "# Converter para datetime\n",
        "df['DTOBITO'] = pd.to_datetime(df['DTOBITO'], format='%d%m%Y', errors='coerce')\n",
        "\n",
        "# Conferir\n",
        "print(df[['DTOBITO']].head())\n",
        "print(df['DTOBITO'].dtypes)"
      ],
      "metadata": {
        "id": "pcRPLHSHNidi",
        "colab": {
          "base_uri": "https://localhost:8080/"
        },
        "outputId": "1ab85332-a7a4-4253-e9ae-4e41bcf34549"
      },
      "execution_count": 5,
      "outputs": [
        {
          "output_type": "stream",
          "name": "stdout",
          "text": [
            "     DTOBITO\n",
            "0 2021-03-23\n",
            "1 2021-03-23\n",
            "2 2021-03-23\n",
            "3 2021-04-17\n",
            "4 2021-01-06\n",
            "datetime64[ns]\n"
          ]
        }
      ]
    },
    {
      "cell_type": "code",
      "source": [
        "# Transformar em string\n",
        "df['DTRECORIGA'] = df['DTRECORIGA'].astype(str)\n",
        "\n",
        "# Completar com zeros à esquerda até ter 8 dígitos\n",
        "df['DTRECORIGA'] = df['DTRECORIGA'].str.zfill(8)\n",
        "\n",
        "# Converter para datetime\n",
        "df['DTRECORIGA'] = pd.to_datetime(df['DTRECORIGA'], format='%d%m%Y', errors='coerce')\n",
        "\n",
        "# Conferir\n",
        "print(df[['DTRECORIGA']].head())\n",
        "print(df['DTRECORIGA'].dtypes)"
      ],
      "metadata": {
        "id": "4GD3rmunNkPC",
        "colab": {
          "base_uri": "https://localhost:8080/"
        },
        "outputId": "f6bc785e-7d20-4da7-d31f-f6b9b932418d"
      },
      "execution_count": 6,
      "outputs": [
        {
          "output_type": "stream",
          "name": "stdout",
          "text": [
            "  DTRECORIGA\n",
            "0 2021-05-20\n",
            "1 2021-05-20\n",
            "2 2021-05-20\n",
            "3 2021-05-19\n",
            "4 2021-01-14\n",
            "datetime64[ns]\n"
          ]
        }
      ]
    },
    {
      "cell_type": "code",
      "source": [
        "# Substituir valores nulos por 22000101\n",
        "df['DTNASC'] = df['DTNASC'].fillna(1012200)\n",
        "\n",
        "# Se quiser converter para inteiro (opcional)\n",
        "df['DTNASC'] = df['DTNASC'].astype(int)\n",
        "\n",
        "# Se quiser como string (opcional)\n",
        "df['DTNASC'] = df['DTNASC'].astype(str)\n",
        "\n",
        "# Completar com zeros à esquerda até ter 8 dígitos\n",
        "df['DTNASC'] = df['DTNASC'].str.zfill(8)\n",
        "\n",
        "# Converter para datetime\n",
        "df['DTNASC'] = pd.to_datetime(df['DTNASC'], format='%d%m%Y', errors='coerce')\n",
        "\n",
        "# Conferir\n",
        "print(df[['DTNASC']].head())\n",
        "print(df['DTNASC'].dtypes)"
      ],
      "metadata": {
        "id": "SLGCIrVMNlXw",
        "colab": {
          "base_uri": "https://localhost:8080/"
        },
        "outputId": "b29aacc0-8b70-4864-c0e9-dba631dd232d"
      },
      "execution_count": 7,
      "outputs": [
        {
          "output_type": "stream",
          "name": "stdout",
          "text": [
            "      DTNASC\n",
            "0 1962-06-18\n",
            "1 1971-02-19\n",
            "2 1956-10-01\n",
            "3 1999-01-06\n",
            "4 2020-08-20\n",
            "datetime64[ns]\n"
          ]
        }
      ]
    },
    {
      "cell_type": "code",
      "source": [
        "# Substituir valores nulos por 22000101\n",
        "df['DTATESTADO'] = df['DTATESTADO'].fillna(1012200)\n",
        "\n",
        "# Se quiser converter para inteiro (opcional)\n",
        "df['DTATESTADO'] = df['DTATESTADO'].astype(int)\n",
        "\n",
        "# Se quiser como string (opcional)\n",
        "df['DTATESTADO'] = df['DTATESTADO'].astype(str)\n",
        "\n",
        "# Completar com zeros à esquerda até ter 8 dígitos\n",
        "df['DTATESTADO'] = df['DTATESTADO'].str.zfill(8)\n",
        "\n",
        "# Converter para datetime\n",
        "df['DTATESTADO'] = pd.to_datetime(df['DTATESTADO'], format='%d%m%Y', errors='coerce')\n",
        "\n",
        "# Conferir\n",
        "print(df[['DTATESTADO']].head())\n",
        "print(df['DTATESTADO'].dtypes)"
      ],
      "metadata": {
        "id": "YJLFvMTlNm7k",
        "colab": {
          "base_uri": "https://localhost:8080/"
        },
        "outputId": "3bd267ee-7cd7-42fd-d349-4f1431310843"
      },
      "execution_count": 8,
      "outputs": [
        {
          "output_type": "stream",
          "name": "stdout",
          "text": [
            "  DTATESTADO\n",
            "0 2021-03-29\n",
            "1 2021-03-23\n",
            "2 2021-03-23\n",
            "3 2021-04-17\n",
            "4 2021-01-06\n",
            "datetime64[ns]\n"
          ]
        }
      ]
    },
    {
      "cell_type": "code",
      "source": [
        "# Substituir valores nulos por 22000101\n",
        "df['DTINVESTIG'] = df['DTINVESTIG'].fillna(1012200)\n",
        "\n",
        "# Se quiser converter para inteiro (opcional)\n",
        "df['DTINVESTIG'] = df['DTINVESTIG'].astype(int)\n",
        "\n",
        "# Se quiser como string (opcional)\n",
        "df['DTINVESTIG'] = df['DTINVESTIG'].astype(str)\n",
        "\n",
        "# Completar com zeros à esquerda até ter 8 dígitos\n",
        "df['DTINVESTIG'] = df['DTINVESTIG'].str.zfill(8)\n",
        "\n",
        "# Converter para datetime\n",
        "df['DTINVESTIG'] = pd.to_datetime(df['DTINVESTIG'], format='%d%m%Y', errors='coerce')\n",
        "\n",
        "# Conferir\n",
        "print(df[['DTINVESTIG']].head())\n",
        "print(df['DTINVESTIG'].dtypes)"
      ],
      "metadata": {
        "id": "BPVZxZv8NpLv",
        "colab": {
          "base_uri": "https://localhost:8080/"
        },
        "outputId": "4b369f11-2a5d-4737-b5c3-b8e91a999d46"
      },
      "execution_count": 9,
      "outputs": [
        {
          "output_type": "stream",
          "name": "stdout",
          "text": [
            "  DTINVESTIG\n",
            "0 2200-01-01\n",
            "1 2200-01-01\n",
            "2 2200-01-01\n",
            "3 2200-01-01\n",
            "4 2021-06-29\n",
            "datetime64[ns]\n"
          ]
        }
      ]
    },
    {
      "cell_type": "code",
      "source": [
        "var =  'DTCADASTRO'\n",
        " # Substituir valores nulos por 22000101\n",
        "df[var] = df[var].fillna(1012200)\n",
        "\n",
        "# Se quiser converter para inteiro (opcional)\n",
        "df[var] = df[var].astype(int)\n",
        "\n",
        "# Se quiser como string (opcional)\n",
        "df[var] = df[var].astype(str)\n",
        "\n",
        "# Completar com zeros à esquerda até ter 8 dígitos\n",
        "df[var] = df[var].str.zfill(8)\n",
        "\n",
        "# Converter para datetime\n",
        "df[var] = pd.to_datetime(df[var], format='%d%m%Y', errors='coerce')\n",
        "\n",
        "# Conferir\n",
        "print(df[[var]].head())\n",
        "print(df[var].dtypes)"
      ],
      "metadata": {
        "id": "pY7jZe_aNq7A",
        "colab": {
          "base_uri": "https://localhost:8080/"
        },
        "outputId": "9488a3a3-d591-465b-a691-b25423ebd6f0"
      },
      "execution_count": 10,
      "outputs": [
        {
          "output_type": "stream",
          "name": "stdout",
          "text": [
            "  DTCADASTRO\n",
            "0 2021-05-19\n",
            "1 2021-05-19\n",
            "2 2021-05-19\n",
            "3 2021-05-18\n",
            "4 2021-01-14\n",
            "datetime64[ns]\n"
          ]
        }
      ]
    },
    {
      "cell_type": "code",
      "source": [
        "var =  'DTRECEBIM'\n",
        " # Substituir valores nulos por 22000101\n",
        "df[var] = df[var].fillna(1012200)\n",
        "\n",
        "# Se quiser converter para inteiro (opcional)\n",
        "df[var] = df[var].astype(int)\n",
        "\n",
        "# Se quiser como string (opcional)\n",
        "df[var] = df[var].astype(str)\n",
        "\n",
        "# Completar com zeros à esquerda até ter 8 dígitos\n",
        "df[var] = df[var].str.zfill(8)\n",
        "\n",
        "# Converter para datetime\n",
        "df[var] = pd.to_datetime(df[var], format='%d%m%Y', errors='coerce')\n",
        "\n",
        "# Conferir\n",
        "print(df[[var]].head())\n",
        "print(df[var].dtypes)"
      ],
      "metadata": {
        "id": "Sm6atRYHNsLM",
        "colab": {
          "base_uri": "https://localhost:8080/"
        },
        "outputId": "5ab992d1-b848-4a6c-f27c-38c1188a8b1c"
      },
      "execution_count": 11,
      "outputs": [
        {
          "output_type": "stream",
          "name": "stdout",
          "text": [
            "   DTRECEBIM\n",
            "0 2021-05-20\n",
            "1 2022-02-02\n",
            "2 2021-05-20\n",
            "3 2021-05-19\n",
            "4 2021-06-30\n",
            "datetime64[ns]\n"
          ]
        }
      ]
    },
    {
      "cell_type": "code",
      "source": [
        "var =  'DTCADINV'\n",
        " # Substituir valores nulos por 22000101\n",
        "df[var] = df[var].fillna(1012200)\n",
        "\n",
        "# Se quiser converter para inteiro (opcional)\n",
        "df[var] = df[var].astype(int)\n",
        "\n",
        "# Se quiser como string (opcional)\n",
        "df[var] = df[var].astype(str)\n",
        "\n",
        "# Completar com zeros à esquerda até ter 8 dígitos\n",
        "df[var] = df[var].str.zfill(8)\n",
        "\n",
        "# Converter para datetime\n",
        "df[var] = pd.to_datetime(df[var], format='%d%m%Y', errors='coerce')\n",
        "\n",
        "# Conferir\n",
        "print(df[[var]].head())\n",
        "print(df[var].dtypes)"
      ],
      "metadata": {
        "id": "iX9Ks27DNtV6",
        "colab": {
          "base_uri": "https://localhost:8080/"
        },
        "outputId": "6575c82a-e8d1-42d9-af01-87e8f2580dd9"
      },
      "execution_count": 12,
      "outputs": [
        {
          "output_type": "stream",
          "name": "stdout",
          "text": [
            "    DTCADINV\n",
            "0 2200-01-01\n",
            "1 2200-01-01\n",
            "2 2200-01-01\n",
            "3 2200-01-01\n",
            "4 2200-01-01\n",
            "datetime64[ns]\n"
          ]
        }
      ]
    },
    {
      "cell_type": "code",
      "source": [
        "var =  'DTCONINV'\n",
        " # Substituir valores nulos por 22000101\n",
        "df[var] = df[var].fillna(1012200)\n",
        "\n",
        "# Se quiser converter para inteiro (opcional)\n",
        "df[var] = df[var].astype(int)\n",
        "\n",
        "# Se quiser como string (opcional)\n",
        "df[var] = df[var].astype(str)\n",
        "\n",
        "# Completar com zeros à esquerda até ter 8 dígitos\n",
        "df[var] = df[var].str.zfill(8)\n",
        "\n",
        "# Converter para datetime\n",
        "df[var] = pd.to_datetime(df[var], format='%d%m%Y', errors='coerce')\n",
        "\n",
        "# Conferir\n",
        "print(df[[var]].head())\n",
        "print(df[var].dtypes)"
      ],
      "metadata": {
        "id": "jigl0SUZNuhK",
        "colab": {
          "base_uri": "https://localhost:8080/"
        },
        "outputId": "4cc2c345-5d1e-42f6-c085-75d9936dfe40"
      },
      "execution_count": 13,
      "outputs": [
        {
          "output_type": "stream",
          "name": "stdout",
          "text": [
            "    DTCONINV\n",
            "0 2200-01-01\n",
            "1 2200-01-01\n",
            "2 2200-01-01\n",
            "3 2200-01-01\n",
            "4 2200-01-01\n",
            "datetime64[ns]\n"
          ]
        }
      ]
    },
    {
      "cell_type": "code",
      "source": [
        "var =  'DTCADINF'\n",
        " # Substituir valores nulos por 22000101\n",
        "df[var] = df[var].fillna(1012200)\n",
        "\n",
        "# Se quiser converter para inteiro (opcional)\n",
        "df[var] = df[var].astype(int)\n",
        "\n",
        "# Se quiser como string (opcional)\n",
        "df[var] = df[var].astype(str)\n",
        "\n",
        "# Completar com zeros à esquerda até ter 8 dígitos\n",
        "df[var] = df[var].str.zfill(8)\n",
        "\n",
        "# Converter para datetime\n",
        "df[var] = pd.to_datetime(df[var], format='%d%m%Y', errors='coerce')\n",
        "\n",
        "# Conferir\n",
        "print(df[[var]].head())\n",
        "print(df[var].dtypes)"
      ],
      "metadata": {
        "id": "zeQXGW4CNvx8",
        "colab": {
          "base_uri": "https://localhost:8080/"
        },
        "outputId": "5d4e1915-0d1f-4f49-a62b-92128126db94"
      },
      "execution_count": 14,
      "outputs": [
        {
          "output_type": "stream",
          "name": "stdout",
          "text": [
            "    DTCADINF\n",
            "0 2200-01-01\n",
            "1 2200-01-01\n",
            "2 2200-01-01\n",
            "3 2200-01-01\n",
            "4 2021-06-07\n",
            "datetime64[ns]\n"
          ]
        }
      ]
    },
    {
      "cell_type": "code",
      "source": [
        "var =  'DTCONCASO'\n",
        " # Substituir valores nulos por 22000101\n",
        "df[var] = df[var].fillna(1012200)\n",
        "\n",
        "# Se quiser converter para inteiro (opcional)\n",
        "df[var] = df[var].astype(int)\n",
        "\n",
        "# Se quiser como string (opcional)\n",
        "df[var] = df[var].astype(str)\n",
        "\n",
        "# Completar com zeros à esquerda até ter 8 dígitos\n",
        "df[var] = df[var].str.zfill(8)\n",
        "\n",
        "# Converter para datetime\n",
        "df[var] = pd.to_datetime(df[var], format='%d%m%Y', errors='coerce')\n",
        "\n",
        "# Conferir\n",
        "print(df[[var]].head())\n",
        "print(df[var].dtypes)"
      ],
      "metadata": {
        "id": "SS3jsgvWNxIY",
        "colab": {
          "base_uri": "https://localhost:8080/"
        },
        "outputId": "58950566-76aa-42b8-8cda-57bb76c08354"
      },
      "execution_count": 15,
      "outputs": [
        {
          "output_type": "stream",
          "name": "stdout",
          "text": [
            "   DTCONCASO\n",
            "0 2200-01-01\n",
            "1 2200-01-01\n",
            "2 2200-01-01\n",
            "3 2200-01-01\n",
            "4 2021-06-07\n",
            "datetime64[ns]\n"
          ]
        }
      ]
    },
    {
      "cell_type": "code",
      "source": [
        "# Preencher valores nulos em todas as colunas restantes com -1\n",
        "df = df.fillna(-1)"
      ],
      "metadata": {
        "id": "Jt1fRVN3NyUd"
      },
      "execution_count": 16,
      "outputs": []
    },
    {
      "cell_type": "markdown",
      "source": [
        "# Ajustes de Idade e Ocupação"
      ],
      "metadata": {
        "id": "059VKJpCF4Ix"
      }
    },
    {
      "cell_type": "code",
      "source": [
        "df['TIPOIDADE'] = np.where(df['IDADE'] < 100, 0, df['IDADE'].astype(str).str[0].astype(int))"
      ],
      "metadata": {
        "id": "McGTpdVNGBxj"
      },
      "execution_count": 18,
      "outputs": []
    },
    {
      "cell_type": "code",
      "source": [
        "df['NR_IDADE'] = np.where(df['IDADE'] < 100, df['IDADE'],\n",
        "                                 df['IDADE'].astype(str).str[1:].apply(lambda x: int(x) if x else 0))"
      ],
      "metadata": {
        "id": "txbMPLhVGDB1"
      },
      "execution_count": 19,
      "outputs": []
    },
    {
      "cell_type": "code",
      "source": [
        "df['OCUP'] = np.where(df['OCUP'] > 999990, 999999, df['OCUP'])"
      ],
      "metadata": {
        "id": "wJZ8_38wGEQn"
      },
      "execution_count": 20,
      "outputs": []
    },
    {
      "cell_type": "markdown",
      "source": [
        "# Criando Coluna Chave primária"
      ],
      "metadata": {
        "id": "eeFRU-L3XKFk"
      }
    },
    {
      "cell_type": "code",
      "source": [
        "# Garantir que DTOBITO está no formato datetime\n",
        "df[\"DTOBITO\"] = pd.to_datetime(df[\"DTOBITO\"], errors=\"coerce\")\n",
        "\n",
        "# Pega o ano e concatena com o CONTADOR\n",
        "df[\"CD_OBITO\"] = (df[\"CONTADOR\"].astype(str) + df[\"DTOBITO\"].dt.year.astype(str)).astype(int)\n",
        "\n",
        "# Conferir\n",
        "print(df[[\"CONTADOR\", \"DTOBITO\", \"CD_OBITO\"]].head())\n"
      ],
      "metadata": {
        "colab": {
          "base_uri": "https://localhost:8080/"
        },
        "id": "8j8VZpaDYJ4d",
        "outputId": "79a7c449-6f9c-462c-9764-35c64c91882d"
      },
      "execution_count": 21,
      "outputs": [
        {
          "output_type": "stream",
          "name": "stdout",
          "text": [
            "   CONTADOR    DTOBITO  CD_OBITO\n",
            "0      1313 2021-03-23  13132021\n",
            "1      1314 2021-03-23  13142021\n",
            "2      1315 2021-03-23  13152021\n",
            "3      1505 2021-04-17  15052021\n",
            "4      2215 2021-01-06  22152021\n"
          ]
        }
      ]
    },
    {
      "cell_type": "markdown",
      "source": [
        "# Tratando CID"
      ],
      "metadata": {
        "id": "fofgC6Qm838m"
      }
    },
    {
      "cell_type": "code",
      "source": [
        "# 🔹 Função auxiliar: normalizar string de CID\n",
        "def normalize_series(series):\n",
        "    return (\n",
        "        series.fillna(\"-1\")\n",
        "        .astype(str)\n",
        "        .str.upper()\n",
        "        .str.replace(\"*\", \"\", regex=False)\n",
        "        .replace({\"\": \"-1\"})\n",
        "    )\n",
        "\n",
        "# === TERMINAL (LINHAA) ===\n",
        "terminal = (\n",
        "    df[\"LINHAA\"]\n",
        "    .fillna(\"-1\")\n",
        "    .astype(str)\n",
        "    .str.upper()\n",
        "    .str.replace(\"*\", \" \", regex=False)\n",
        "    .str.split()\n",
        ")\n",
        "\n",
        "df[\"TERMINAL_1\"] = terminal.str[0].fillna(\"-1\")\n",
        "df[\"TERMINAL_2\"] = terminal.str[1].fillna(\"-1\")\n",
        "\n",
        "# === ANTECEDENTES (LINHAB e LINHAC) ===\n",
        "ante_b = (\n",
        "    df[\"LINHAB\"]\n",
        "    .fillna(\"-1\")\n",
        "    .astype(str)\n",
        "    .str.upper()\n",
        "    .str.replace(\"*\", \" \", regex=False)\n",
        "    .str.split()\n",
        ")\n",
        "\n",
        "df[\"ANTECEDENTE_1\"] = ante_b.str[0].fillna(\"-1\")\n",
        "df[\"ANTECEDENTE_2\"] = ante_b.str[1].fillna(\"-1\")\n",
        "\n",
        "ante_c = (\n",
        "    df[\"LINHAC\"]\n",
        "    .fillna(\"-1\")\n",
        "    .astype(str)\n",
        "    .str.upper()\n",
        "    .str.replace(\"*\", \" \", regex=False)\n",
        "    .str.split()\n",
        ")\n",
        "\n",
        "df[\"ANTECEDENTE_3\"] = ante_c.str[0].fillna(\"-1\")\n",
        "df[\"ANTECEDENTE_4\"] = ante_c.str[1].fillna(\"-1\")\n",
        "\n",
        "# === CAUSAS BÁSICAS ===\n",
        "df[\"BASICA_1\"] = normalize_series(df[\"CAUSABAS\"])\n",
        "df[\"BASICA_2\"] = normalize_series(df[\"CAUSABAS_O\"])\n"
      ],
      "metadata": {
        "id": "TgN77Oju3EQW"
      },
      "execution_count": 24,
      "outputs": []
    },
    {
      "cell_type": "code",
      "source": [
        "colunas_excluir = [\n",
        "    \"CB_PRE\", \"CAUSAMAT\", \"EXAME\", \"CIRURGIA\", \"SERIESCFAL\", \"SERIESCMAE\",\n",
        "    \"ESCMAEAGR1\", \"TPRESGINFO\", \"TP_ALTERA\", \"CB_ALT\", \"MORTEPARTO\",\n",
        "    \"ALTCAUSA\", \"FONTES\", \"DTCADINF\", \"DTCONCASO\", \"VERSAOSIST\", \"VERSAOSCB\",\n",
        "    \"OPOR_DO\", \"STCODIFICA\", \"CODIFICADO\", \"TPMORTEOCO\", \"COMUNSVOIM\", \"OBITOGRAV\",\n",
        "    \"OBITOPUERP\", \"FONTEINV\", \"DTINVESTIG\", \"NUDIASOBCO\", \"DTCADINV\", \"TPNIVELINV\",\n",
        "    \"IDADEMAE\", \"ESCMAE\", \"ESCMAE2010\", \"SERIESCMAE\", \"OCUPMAE\",\n",
        "    \"QTDFILVIVO\", \"QTDFILMORT\", \"GRAVIDEZ\", \"SEMAGESTAC\", \"GESTACAO\",\n",
        "    \"PARTO\", \"OBITOPARTO\", \"PESO\", \"CB_PRE\", \"CAUSAMAT\", \"ESCMAEAGR1\",\n",
        "    \"MORTEPARTO\", \"contador\", \"ORIGEM\", \"ESC\", \"FONTES\", \"NECROPSIA\", \"ACIDTRAB\",\n",
        "    \"FONTE\", \"NUMEROLOTE\", \"DTCADASTRO\", \"ATESTANTE\", \"DTRECEBIM\", \"DTRECORIGA\",\n",
        "    \"STDONOVA\", \"DIFDATA\",\"TPOBITOCOR\", \"DTCONINV\", \"ESC2010\", \"TIPOBITO\",\n",
        "    \"ESTABDESCR\", \"NUDIASOBIN\",\"NUDIASINF\", \"FONTESINF\", \"CODMUNNATU\",\n",
        "    \"ATESTADO\", \"NATURAL\", \"DTATESTADO\", \"CONTADOR\", \"LINHAA\", \"LINHAB\",\n",
        "    \"LINHAC\", \"LINHAD\", \"LINHAII\", \"CAUSABAS\", \"CAUSABAS_O\"\n",
        "\n",
        "\n",
        "]\n",
        "\n",
        "df = df.drop(columns=colunas_excluir, errors=\"ignore\")\n",
        ""
      ],
      "metadata": {
        "id": "g06xr46u4u1f"
      },
      "execution_count": 25,
      "outputs": []
    },
    {
      "cell_type": "code",
      "source": [
        "df.to_csv('DO_21.csv', index=False)"
      ],
      "metadata": {
        "id": "2ULB_eC95lh_"
      },
      "execution_count": 28,
      "outputs": []
    }
  ]
}