{
  "nbformat": 4,
  "nbformat_minor": 0,
  "metadata": {
    "colab": {
      "provenance": []
    },
    "kernelspec": {
      "name": "python3",
      "display_name": "Python 3"
    },
    "language_info": {
      "name": "python"
    }
  },
  "cells": [
    {
      "cell_type": "code",
      "execution_count": 75,
      "metadata": {
        "id": "D2vz2nplL-c2"
      },
      "outputs": [],
      "source": [
        "import pandas as pd\n",
        "import numpy as np"
      ]
    },
    {
      "cell_type": "code",
      "source": [
        "df = pd.read_csv('Mortalidade_Geral_2020.csv', sep=';')"
      ],
      "metadata": {
        "colab": {
          "base_uri": "https://localhost:8080/"
        },
        "id": "VPOYrS5fMDbA",
        "outputId": "10b7bd28-11dc-4cee-b1f8-7a8167860770"
      },
      "execution_count": 76,
      "outputs": [
        {
          "output_type": "stream",
          "name": "stderr",
          "text": [
            "/tmp/ipython-input-3694082878.py:1: DtypeWarning: Columns (66,79) have mixed types. Specify dtype option on import or set low_memory=False.\n",
            "  df = pd.read_csv('Mortalidade_Geral_2020.csv', sep=';')\n"
          ]
        }
      ]
    },
    {
      "cell_type": "markdown",
      "source": [
        "# Tratando Datas"
      ],
      "metadata": {
        "id": "LVKdlIO2-Ozh"
      }
    },
    {
      "cell_type": "code",
      "source": [
        "# Transformar em string\n",
        "df['DTOBITO'] = df['DTOBITO'].astype(str)\n",
        "\n",
        "# Completar com zeros à esquerda até ter 8 dígitos\n",
        "df['DTOBITO'] = df['DTOBITO'].str.zfill(8)\n",
        "\n",
        "# Converter para datetime\n",
        "df['DTOBITO'] = pd.to_datetime(df['DTOBITO'], format='%d%m%Y', errors='coerce')\n",
        "\n",
        "# Conferir\n",
        "print(df[['DTOBITO']].head())\n",
        "print(df['DTOBITO'].dtypes)"
      ],
      "metadata": {
        "colab": {
          "base_uri": "https://localhost:8080/"
        },
        "id": "pcRPLHSHNidi",
        "outputId": "06248b08-3aa9-449b-8c4e-554bc59692f4"
      },
      "execution_count": 77,
      "outputs": [
        {
          "output_type": "stream",
          "name": "stdout",
          "text": [
            "     DTOBITO\n",
            "0 2020-05-18\n",
            "1 2020-05-20\n",
            "2 2020-05-21\n",
            "3 2020-05-21\n",
            "4 2020-05-22\n",
            "datetime64[ns]\n"
          ]
        }
      ]
    },
    {
      "cell_type": "code",
      "source": [
        "# Transformar em string\n",
        "df['DTRECORIGA'] = df['DTRECORIGA'].astype(str)\n",
        "\n",
        "# Completar com zeros à esquerda até ter 8 dígitos\n",
        "df['DTRECORIGA'] = df['DTRECORIGA'].str.zfill(8)\n",
        "\n",
        "# Converter para datetime\n",
        "df['DTRECORIGA'] = pd.to_datetime(df['DTRECORIGA'], format='%d%m%Y', errors='coerce')\n",
        "\n",
        "# Conferir\n",
        "print(df[['DTRECORIGA']].head())\n",
        "print(df['DTRECORIGA'].dtypes)"
      ],
      "metadata": {
        "colab": {
          "base_uri": "https://localhost:8080/"
        },
        "id": "4GD3rmunNkPC",
        "outputId": "44da5c9d-e99a-4bea-c685-133f7ad9aaca"
      },
      "execution_count": 78,
      "outputs": [
        {
          "output_type": "stream",
          "name": "stdout",
          "text": [
            "  DTRECORIGA\n",
            "0 2020-05-29\n",
            "1 2020-05-29\n",
            "2 2020-05-29\n",
            "3 2020-05-29\n",
            "4 2020-05-29\n",
            "datetime64[ns]\n"
          ]
        }
      ]
    },
    {
      "cell_type": "code",
      "source": [
        "# Substituir valores nulos por 22000101\n",
        "df['DTNASC'] = df['DTNASC'].fillna(1012200)\n",
        "\n",
        "# Se quiser converter para inteiro (opcional)\n",
        "df['DTNASC'] = df['DTNASC'].astype(int)\n",
        "\n",
        "# Se quiser como string (opcional)\n",
        "df['DTNASC'] = df['DTNASC'].astype(str)\n",
        "\n",
        "# Completar com zeros à esquerda até ter 8 dígitos\n",
        "df['DTNASC'] = df['DTNASC'].str.zfill(8)\n",
        "\n",
        "# Converter para datetime\n",
        "df['DTNASC'] = pd.to_datetime(df['DTNASC'], format='%d%m%Y', errors='coerce')\n",
        "\n",
        "# Conferir\n",
        "print(df[['DTNASC']].head())\n",
        "print(df['DTNASC'].dtypes)"
      ],
      "metadata": {
        "colab": {
          "base_uri": "https://localhost:8080/"
        },
        "id": "SLGCIrVMNlXw",
        "outputId": "4a2ca506-4a60-4017-cd49-d7e31fccf983"
      },
      "execution_count": 79,
      "outputs": [
        {
          "output_type": "stream",
          "name": "stdout",
          "text": [
            "      DTNASC\n",
            "0 1932-06-07\n",
            "1 1952-03-16\n",
            "2 1961-02-17\n",
            "3 1942-08-10\n",
            "4 1936-04-13\n",
            "datetime64[ns]\n"
          ]
        }
      ]
    },
    {
      "cell_type": "code",
      "source": [
        "# Substituir valores nulos por 22000101\n",
        "df['DTATESTADO'] = df['DTATESTADO'].fillna(1012200)\n",
        "\n",
        "# Se quiser converter para inteiro (opcional)\n",
        "df['DTATESTADO'] = df['DTATESTADO'].astype(int)\n",
        "\n",
        "# Se quiser como string (opcional)\n",
        "df['DTATESTADO'] = df['DTATESTADO'].astype(str)\n",
        "\n",
        "# Completar com zeros à esquerda até ter 8 dígitos\n",
        "df['DTATESTADO'] = df['DTATESTADO'].str.zfill(8)\n",
        "\n",
        "# Converter para datetime\n",
        "df['DTATESTADO'] = pd.to_datetime(df['DTATESTADO'], format='%d%m%Y', errors='coerce')\n",
        "\n",
        "# Conferir\n",
        "print(df[['DTATESTADO']].head())\n",
        "print(df['DTATESTADO'].dtypes)"
      ],
      "metadata": {
        "colab": {
          "base_uri": "https://localhost:8080/"
        },
        "id": "YJLFvMTlNm7k",
        "outputId": "c27f7c34-046f-4f00-b808-c216bd7a6864"
      },
      "execution_count": 80,
      "outputs": [
        {
          "output_type": "stream",
          "name": "stdout",
          "text": [
            "  DTATESTADO\n",
            "0 2020-05-18\n",
            "1 2020-05-20\n",
            "2 2020-05-21\n",
            "3 2020-05-21\n",
            "4 2020-05-22\n",
            "datetime64[ns]\n"
          ]
        }
      ]
    },
    {
      "cell_type": "code",
      "source": [
        "# Substituir valores nulos por 22000101\n",
        "df['DTINVESTIG'] = df['DTINVESTIG'].fillna(1012200)\n",
        "\n",
        "# Se quiser converter para inteiro (opcional)\n",
        "df['DTINVESTIG'] = df['DTINVESTIG'].astype(int)\n",
        "\n",
        "# Se quiser como string (opcional)\n",
        "df['DTINVESTIG'] = df['DTINVESTIG'].astype(str)\n",
        "\n",
        "# Completar com zeros à esquerda até ter 8 dígitos\n",
        "df['DTINVESTIG'] = df['DTINVESTIG'].str.zfill(8)\n",
        "\n",
        "# Converter para datetime\n",
        "df['DTINVESTIG'] = pd.to_datetime(df['DTINVESTIG'], format='%d%m%Y', errors='coerce')\n",
        "\n",
        "# Conferir\n",
        "print(df[['DTINVESTIG']].head())\n",
        "print(df['DTINVESTIG'].dtypes)"
      ],
      "metadata": {
        "colab": {
          "base_uri": "https://localhost:8080/"
        },
        "id": "BPVZxZv8NpLv",
        "outputId": "8221a5f0-a658-4c83-8d2f-c62464d38fc4"
      },
      "execution_count": 81,
      "outputs": [
        {
          "output_type": "stream",
          "name": "stdout",
          "text": [
            "  DTINVESTIG\n",
            "0 2200-01-01\n",
            "1 2020-06-04\n",
            "2 2200-01-01\n",
            "3 2200-01-01\n",
            "4 2200-01-01\n",
            "datetime64[ns]\n"
          ]
        }
      ]
    },
    {
      "cell_type": "code",
      "source": [
        "var =  'DTCADASTRO'\n",
        " # Substituir valores nulos por 22000101\n",
        "df[var] = df[var].fillna(1012200)\n",
        "\n",
        "# Se quiser converter para inteiro (opcional)\n",
        "df[var] = df[var].astype(int)\n",
        "\n",
        "# Se quiser como string (opcional)\n",
        "df[var] = df[var].astype(str)\n",
        "\n",
        "# Completar com zeros à esquerda até ter 8 dígitos\n",
        "df[var] = df[var].str.zfill(8)\n",
        "\n",
        "# Converter para datetime\n",
        "df[var] = pd.to_datetime(df[var], format='%d%m%Y', errors='coerce')\n",
        "\n",
        "# Conferir\n",
        "print(df[[var]].head())\n",
        "print(df[var].dtypes)"
      ],
      "metadata": {
        "colab": {
          "base_uri": "https://localhost:8080/"
        },
        "id": "pY7jZe_aNq7A",
        "outputId": "85f838a9-ccb8-465d-e4cd-320deeca7457"
      },
      "execution_count": 82,
      "outputs": [
        {
          "output_type": "stream",
          "name": "stdout",
          "text": [
            "  DTCADASTRO\n",
            "0 2020-05-22\n",
            "1 2020-05-28\n",
            "2 2020-05-28\n",
            "3 2020-05-29\n",
            "4 2020-05-29\n",
            "datetime64[ns]\n"
          ]
        }
      ]
    },
    {
      "cell_type": "code",
      "source": [
        "var =  'DTRECEBIM'\n",
        " # Substituir valores nulos por 22000101\n",
        "df[var] = df[var].fillna(1012200)\n",
        "\n",
        "# Se quiser converter para inteiro (opcional)\n",
        "df[var] = df[var].astype(int)\n",
        "\n",
        "# Se quiser como string (opcional)\n",
        "df[var] = df[var].astype(str)\n",
        "\n",
        "# Completar com zeros à esquerda até ter 8 dígitos\n",
        "df[var] = df[var].str.zfill(8)\n",
        "\n",
        "# Converter para datetime\n",
        "df[var] = pd.to_datetime(df[var], format='%d%m%Y', errors='coerce')\n",
        "\n",
        "# Conferir\n",
        "print(df[[var]].head())\n",
        "print(df[var].dtypes)"
      ],
      "metadata": {
        "colab": {
          "base_uri": "https://localhost:8080/"
        },
        "id": "Sm6atRYHNsLM",
        "outputId": "a7e09a91-db08-433c-c764-1e85da26e704"
      },
      "execution_count": 83,
      "outputs": [
        {
          "output_type": "stream",
          "name": "stdout",
          "text": [
            "   DTRECEBIM\n",
            "0 2020-05-29\n",
            "1 2020-06-18\n",
            "2 2020-05-29\n",
            "3 2020-05-29\n",
            "4 2020-05-29\n",
            "datetime64[ns]\n"
          ]
        }
      ]
    },
    {
      "cell_type": "code",
      "source": [
        "var =  'DTCADINV'\n",
        " # Substituir valores nulos por 22000101\n",
        "df[var] = df[var].fillna(1012200)\n",
        "\n",
        "# Se quiser converter para inteiro (opcional)\n",
        "df[var] = df[var].astype(int)\n",
        "\n",
        "# Se quiser como string (opcional)\n",
        "df[var] = df[var].astype(str)\n",
        "\n",
        "# Completar com zeros à esquerda até ter 8 dígitos\n",
        "df[var] = df[var].str.zfill(8)\n",
        "\n",
        "# Converter para datetime\n",
        "df[var] = pd.to_datetime(df[var], format='%d%m%Y', errors='coerce')\n",
        "\n",
        "# Conferir\n",
        "print(df[[var]].head())\n",
        "print(df[var].dtypes)"
      ],
      "metadata": {
        "colab": {
          "base_uri": "https://localhost:8080/"
        },
        "id": "iX9Ks27DNtV6",
        "outputId": "0965f361-6c52-4ed8-a79b-958191f3adcb"
      },
      "execution_count": 84,
      "outputs": [
        {
          "output_type": "stream",
          "name": "stdout",
          "text": [
            "    DTCADINV\n",
            "0 2200-01-01\n",
            "1 2200-01-01\n",
            "2 2200-01-01\n",
            "3 2200-01-01\n",
            "4 2200-01-01\n",
            "datetime64[ns]\n"
          ]
        }
      ]
    },
    {
      "cell_type": "code",
      "source": [
        "var =  'DTCONINV'\n",
        " # Substituir valores nulos por 22000101\n",
        "df[var] = df[var].fillna(1012200)\n",
        "\n",
        "# Se quiser converter para inteiro (opcional)\n",
        "df[var] = df[var].astype(int)\n",
        "\n",
        "# Se quiser como string (opcional)\n",
        "df[var] = df[var].astype(str)\n",
        "\n",
        "# Completar com zeros à esquerda até ter 8 dígitos\n",
        "df[var] = df[var].str.zfill(8)\n",
        "\n",
        "# Converter para datetime\n",
        "df[var] = pd.to_datetime(df[var], format='%d%m%Y', errors='coerce')\n",
        "\n",
        "# Conferir\n",
        "print(df[[var]].head())\n",
        "print(df[var].dtypes)"
      ],
      "metadata": {
        "colab": {
          "base_uri": "https://localhost:8080/"
        },
        "id": "jigl0SUZNuhK",
        "outputId": "72a2f8c4-a26a-4e1a-c901-eb74879a68da"
      },
      "execution_count": 85,
      "outputs": [
        {
          "output_type": "stream",
          "name": "stdout",
          "text": [
            "    DTCONINV\n",
            "0 2200-01-01\n",
            "1 2200-01-01\n",
            "2 2200-01-01\n",
            "3 2200-01-01\n",
            "4 2200-01-01\n",
            "datetime64[ns]\n"
          ]
        }
      ]
    },
    {
      "cell_type": "code",
      "source": [
        "var =  'DTCADINF'\n",
        " # Substituir valores nulos por 22000101\n",
        "df[var] = df[var].fillna(1012200)\n",
        "\n",
        "# Se quiser converter para inteiro (opcional)\n",
        "df[var] = df[var].astype(int)\n",
        "\n",
        "# Se quiser como string (opcional)\n",
        "df[var] = df[var].astype(str)\n",
        "\n",
        "# Completar com zeros à esquerda até ter 8 dígitos\n",
        "df[var] = df[var].str.zfill(8)\n",
        "\n",
        "# Converter para datetime\n",
        "df[var] = pd.to_datetime(df[var], format='%d%m%Y', errors='coerce')\n",
        "\n",
        "# Conferir\n",
        "print(df[[var]].head())\n",
        "print(df[var].dtypes)"
      ],
      "metadata": {
        "colab": {
          "base_uri": "https://localhost:8080/"
        },
        "id": "zeQXGW4CNvx8",
        "outputId": "56451759-43fa-4a7d-c1ba-3973ae72286c"
      },
      "execution_count": 86,
      "outputs": [
        {
          "output_type": "stream",
          "name": "stdout",
          "text": [
            "    DTCADINF\n",
            "0 2200-01-01\n",
            "1 2200-01-01\n",
            "2 2200-01-01\n",
            "3 2200-01-01\n",
            "4 2200-01-01\n",
            "datetime64[ns]\n"
          ]
        }
      ]
    },
    {
      "cell_type": "code",
      "source": [
        "var =  'DTCONCASO'\n",
        " # Substituir valores nulos por 22000101\n",
        "df[var] = df[var].fillna(1012200)\n",
        "\n",
        "# Se quiser converter para inteiro (opcional)\n",
        "df[var] = df[var].astype(int)\n",
        "\n",
        "# Se quiser como string (opcional)\n",
        "df[var] = df[var].astype(str)\n",
        "\n",
        "# Completar com zeros à esquerda até ter 8 dígitos\n",
        "df[var] = df[var].str.zfill(8)\n",
        "\n",
        "# Converter para datetime\n",
        "df[var] = pd.to_datetime(df[var], format='%d%m%Y', errors='coerce')\n",
        "\n",
        "# Conferir\n",
        "print(df[[var]].head())\n",
        "print(df[var].dtypes)"
      ],
      "metadata": {
        "colab": {
          "base_uri": "https://localhost:8080/"
        },
        "id": "SS3jsgvWNxIY",
        "outputId": "7eea206f-57a8-49a8-b460-36dc849c4be7"
      },
      "execution_count": 87,
      "outputs": [
        {
          "output_type": "stream",
          "name": "stdout",
          "text": [
            "   DTCONCASO\n",
            "0 2200-01-01\n",
            "1 2200-01-01\n",
            "2 2200-01-01\n",
            "3 2200-01-01\n",
            "4 2200-01-01\n",
            "datetime64[ns]\n"
          ]
        }
      ]
    },
    {
      "cell_type": "code",
      "source": [
        "# Preencher valores nulos em todas as colunas restantes com -1\n",
        "df = df.fillna(-1)"
      ],
      "metadata": {
        "id": "Jt1fRVN3NyUd"
      },
      "execution_count": 88,
      "outputs": []
    },
    {
      "cell_type": "markdown",
      "source": [
        "# Ajustes de Idade e Ocupação"
      ],
      "metadata": {
        "id": "a_bswIylDLSQ"
      }
    },
    {
      "cell_type": "code",
      "source": [
        "df['TIPOIDADE'] = np.where(df['IDADE'] < 100, 0, df['IDADE'].astype(str).str[0].astype(int))"
      ],
      "metadata": {
        "id": "VeWt6Da5EgkH"
      },
      "execution_count": 89,
      "outputs": []
    },
    {
      "cell_type": "code",
      "source": [
        "df['NR_IDADE'] = np.where(df['IDADE'] < 100, df['IDADE'],\n",
        "                                 df['IDADE'].astype(str).str[1:].apply(lambda x: int(x) if x else 0))"
      ],
      "metadata": {
        "id": "2-N--ubbEh_N"
      },
      "execution_count": 90,
      "outputs": []
    },
    {
      "cell_type": "code",
      "source": [
        "df['OCUP'] = np.where(df['OCUP'] > 999990, 999999, df['OCUP'])"
      ],
      "metadata": {
        "id": "RvXrA7mcEkDU"
      },
      "execution_count": 91,
      "outputs": []
    },
    {
      "cell_type": "markdown",
      "source": [
        "# Criando Coluna Chave Primária"
      ],
      "metadata": {
        "id": "mx5Ngrqc-nwo"
      }
    },
    {
      "cell_type": "code",
      "source": [
        "# Garantir que DTOBITO está no formato datetime\n",
        "df[\"DTOBITO\"] = pd.to_datetime(df[\"DTOBITO\"], errors=\"coerce\")\n",
        "\n",
        "# Pega o ano e concatena com o CONTADOR\n",
        "df[\"CD_OBITO\"] = (df[\"CONTADOR\"].astype(str) + df[\"DTOBITO\"].dt.year.astype(str)).astype(int)\n",
        "\n",
        "# Conferir\n",
        "print(df[[\"CONTADOR\", \"DTOBITO\", \"CD_OBITO\"]].head())"
      ],
      "metadata": {
        "colab": {
          "base_uri": "https://localhost:8080/"
        },
        "id": "3dplZqBR-rq4",
        "outputId": "5bb60313-a790-4c04-fa92-6225e7ecf61b"
      },
      "execution_count": 92,
      "outputs": [
        {
          "output_type": "stream",
          "name": "stdout",
          "text": [
            "   CONTADOR    DTOBITO  CD_OBITO\n",
            "0       603 2020-05-18   6032020\n",
            "1       604 2020-05-20   6042020\n",
            "2       605 2020-05-21   6052020\n",
            "3       606 2020-05-21   6062020\n",
            "4       607 2020-05-22   6072020\n"
          ]
        }
      ]
    },
    {
      "cell_type": "markdown",
      "source": [
        "# Tratando CID"
      ],
      "metadata": {
        "id": "Z3_N63YC-tuB"
      }
    },
    {
      "cell_type": "code",
      "source": [
        "# 🔹 Função auxiliar: normalizar string de CID\n",
        "def normalize_series(series):\n",
        "    return (\n",
        "        series.fillna(\"-1\")\n",
        "        .astype(str)\n",
        "        .str.upper()\n",
        "        .str.replace(\"*\", \"\", regex=False)\n",
        "        .replace({\"\": \"-1\"})\n",
        "    )\n",
        "\n",
        "# === TERMINAL (LINHAA) ===\n",
        "terminal = (\n",
        "    df[\"LINHAA\"]\n",
        "    .fillna(\"-1\")\n",
        "    .astype(str)\n",
        "    .str.upper()\n",
        "    .str.replace(\"*\", \" \", regex=False)\n",
        "    .str.split()\n",
        ")\n",
        "\n",
        "df[\"TERMINAL_1\"] = terminal.str[0].fillna(\"-1\")\n",
        "df[\"TERMINAL_2\"] = terminal.str[1].fillna(\"-1\")\n",
        "\n",
        "# === ANTECEDENTES (LINHAB e LINHAC) ===\n",
        "ante_b = (\n",
        "    df[\"LINHAB\"]\n",
        "    .fillna(\"-1\")\n",
        "    .astype(str)\n",
        "    .str.upper()\n",
        "    .str.replace(\"*\", \" \", regex=False)\n",
        "    .str.split()\n",
        ")\n",
        "\n",
        "df[\"ANTECEDENTE_1\"] = ante_b.str[0].fillna(\"-1\")\n",
        "df[\"ANTECEDENTE_2\"] = ante_b.str[1].fillna(\"-1\")\n",
        "\n",
        "ante_c = (\n",
        "    df[\"LINHAC\"]\n",
        "    .fillna(\"-1\")\n",
        "    .astype(str)\n",
        "    .str.upper()\n",
        "    .str.replace(\"*\", \" \", regex=False)\n",
        "    .str.split()\n",
        ")\n",
        "\n",
        "df[\"ANTECEDENTE_3\"] = ante_c.str[0].fillna(\"-1\")\n",
        "df[\"ANTECEDENTE_4\"] = ante_c.str[1].fillna(\"-1\")\n",
        "\n",
        "# === CAUSAS BÁSICAS ===\n",
        "df[\"BASICA_1\"] = normalize_series(df[\"CAUSABAS\"])\n",
        "df[\"BASICA_2\"] = normalize_series(df[\"CAUSABAS_O\"])"
      ],
      "metadata": {
        "id": "Ac9LEBfk-x25"
      },
      "execution_count": 93,
      "outputs": []
    },
    {
      "cell_type": "code",
      "source": [
        "colunas_excluir = [\n",
        "    \"CB_PRE\", \"CAUSAMAT\", \"EXAME\", \"CIRURGIA\", \"SERIESCFAL\", \"SERIESCMAE\",\n",
        "    \"ESCMAEAGR1\", \"TPRESGINFO\", \"TP_ALTERA\", \"CB_ALT\", \"MORTEPARTO\",\n",
        "    \"ALTCAUSA\", \"FONTES\", \"DTCADINF\", \"DTCONCASO\", \"VERSAOSIST\", \"VERSAOSCB\",\n",
        "    \"OPOR_DO\", \"STCODIFICA\", \"CODIFICADO\", \"TPMORTEOCO\", \"COMUNSVOIM\", \"OBITOGRAV\",\n",
        "    \"OBITOPUERP\", \"FONTEINV\", \"DTINVESTIG\", \"NUDIASOBCO\", \"DTCADINV\", \"TPNIVELINV\",\n",
        "    \"IDADEMAE\", \"ESCMAE\", \"ESCMAE2010\", \"SERIESCMAE\", \"OCUPMAE\",\n",
        "    \"QTDFILVIVO\", \"QTDFILMORT\", \"GRAVIDEZ\", \"SEMAGESTAC\", \"GESTACAO\",\n",
        "    \"PARTO\", \"OBITOPARTO\", \"PESO\", \"CB_PRE\", \"CAUSAMAT\", \"ESCMAEAGR1\",\n",
        "    \"MORTEPARTO\", \"contador\", \"ORIGEM\", \"ESC\", \"FONTES\", \"NECROPSIA\", \"ACIDTRAB\",\n",
        "    \"FONTE\", \"NUMEROLOTE\", \"DTCADASTRO\", \"ATESTANTE\", \"DTRECEBIM\", \"DTRECORIGA\",\n",
        "    \"STDONOVA\", \"DIFDATA\",\"TPOBITOCOR\", \"DTCONINV\", \"ESC2010\", \"TIPOBITO\",\n",
        "    \"ESTABDESCR\", \"NUDIASOBIN\",\"NUDIASINF\", \"FONTESINF\", \"CODMUNNATU\",\n",
        "    \"ATESTADO\", \"NATURAL\", \"DTATESTADO\", \"CONTADOR\", \"LINHAA\", \"LINHAB\",\n",
        "    \"LINHAC\", \"LINHAD\", \"LINHAII\", \"CAUSABAS\", \"CAUSABAS_O\"\n",
        "\n",
        "\n",
        "]\n",
        "\n",
        "df = df.drop(columns=colunas_excluir, errors=\"ignore\")"
      ],
      "metadata": {
        "id": "ClmUTQi9QF6i"
      },
      "execution_count": 94,
      "outputs": []
    },
    {
      "cell_type": "code",
      "source": [
        "df.tail().T"
      ],
      "metadata": {
        "colab": {
          "base_uri": "https://localhost:8080/",
          "height": 927
        },
        "id": "oEyS42kB-3Tf",
        "outputId": "f2f96441-75a4-482a-b4a6-1962e054f1a0"
      },
      "execution_count": 95,
      "outputs": [
        {
          "output_type": "execute_result",
          "data": {
            "text/plain": [
              "                           1556819              1556820              1556821  \\\n",
              "DTOBITO        2020-12-31 00:00:00  2020-12-31 00:00:00  2020-12-31 00:00:00   \n",
              "HORAOBITO                   2020.0               1220.0                 -1.0   \n",
              "DTNASC         1929-07-18 00:00:00  2020-12-07 00:00:00  1955-10-30 00:00:00   \n",
              "IDADE                          491                  224                  465   \n",
              "SEXO                             2                    1                    1   \n",
              "RACACOR                        4.0                  1.0                  2.0   \n",
              "ESTCIV                         4.0                 -1.0                  9.0   \n",
              "OCUP                      999999.0                 -1.0             621005.0   \n",
              "CODMUNRES                   172100               171650               171420   \n",
              "LOCOCOR                          1                    1                    3   \n",
              "CODESTAB                 2786117.0            2755157.0                 -1.0   \n",
              "CODMUNOCOR                  172100               172100               171420   \n",
              "ASSISTMED                     -1.0                  1.0                 -1.0   \n",
              "CIRCOBITO                     -1.0                 -1.0                 -1.0   \n",
              "TPPOS                           -1                   -1                   -1   \n",
              "ESCFALAGR1                    10.0                 -1.0                  9.0   \n",
              "STDOEPIDEM                     0.0                  0.0                  0.0   \n",
              "TIPOIDADE                        4                    2                    4   \n",
              "NR_IDADE                        91                   24                   65   \n",
              "CD_OBITO               15534932020          15535222020          15535332020   \n",
              "TERMINAL_1                    A419                 P293                 R99X   \n",
              "TERMINAL_2                      -1                   -1                   -1   \n",
              "ANTECEDENTE_1                 J159                 B49X                   -1   \n",
              "ANTECEDENTE_2                   -1                   -1                   -1   \n",
              "ANTECEDENTE_3                 I64X                 P071                   -1   \n",
              "ANTECEDENTE_4                   -1                   -1                   -1   \n",
              "BASICA_1                       I64                 P293                  R99   \n",
              "BASICA_2                       I64                 P293                  R99   \n",
              "\n",
              "                           1556822              1556823  \n",
              "DTOBITO        2020-12-31 00:00:00  2020-12-31 00:00:00  \n",
              "HORAOBITO                   2100.0               1632.0  \n",
              "DTNASC         1982-12-16 00:00:00  1971-09-01 00:00:00  \n",
              "IDADE                          438                  449  \n",
              "SEXO                             1                    1  \n",
              "RACACOR                        4.0                  4.0  \n",
              "ESTCIV                         5.0                  1.0  \n",
              "OCUP                          -1.0             513405.0  \n",
              "CODMUNRES                   172100               170210  \n",
              "LOCOCOR                          3                    3  \n",
              "CODESTAB                      -1.0                 -1.0  \n",
              "CODMUNOCOR                  172100               170210  \n",
              "ASSISTMED                      2.0                  2.0  \n",
              "CIRCOBITO                      3.0                 -1.0  \n",
              "TPPOS                           -1                   -1  \n",
              "ESCFALAGR1                    12.0                  0.0  \n",
              "STDOEPIDEM                     0.0                  0.0  \n",
              "TIPOIDADE                        4                    4  \n",
              "NR_IDADE                        38                   49  \n",
              "CD_OBITO               15535342020          15538372020  \n",
              "TERMINAL_1                    T794                 R99X  \n",
              "TERMINAL_2                      -1                   -1  \n",
              "ANTECEDENTE_1                 T792                   -1  \n",
              "ANTECEDENTE_2                   -1                   -1  \n",
              "ANTECEDENTE_3                 S279                   -1  \n",
              "ANTECEDENTE_4                 S369                   -1  \n",
              "BASICA_1                      X994                  R99  \n",
              "BASICA_2                      X994                  R99  "
            ],
            "text/html": [
              "\n",
              "  <div id=\"df-c2e7a47c-a891-48b9-965c-4ee379510429\" class=\"colab-df-container\">\n",
              "    <div>\n",
              "<style scoped>\n",
              "    .dataframe tbody tr th:only-of-type {\n",
              "        vertical-align: middle;\n",
              "    }\n",
              "\n",
              "    .dataframe tbody tr th {\n",
              "        vertical-align: top;\n",
              "    }\n",
              "\n",
              "    .dataframe thead th {\n",
              "        text-align: right;\n",
              "    }\n",
              "</style>\n",
              "<table border=\"1\" class=\"dataframe\">\n",
              "  <thead>\n",
              "    <tr style=\"text-align: right;\">\n",
              "      <th></th>\n",
              "      <th>1556819</th>\n",
              "      <th>1556820</th>\n",
              "      <th>1556821</th>\n",
              "      <th>1556822</th>\n",
              "      <th>1556823</th>\n",
              "    </tr>\n",
              "  </thead>\n",
              "  <tbody>\n",
              "    <tr>\n",
              "      <th>DTOBITO</th>\n",
              "      <td>2020-12-31 00:00:00</td>\n",
              "      <td>2020-12-31 00:00:00</td>\n",
              "      <td>2020-12-31 00:00:00</td>\n",
              "      <td>2020-12-31 00:00:00</td>\n",
              "      <td>2020-12-31 00:00:00</td>\n",
              "    </tr>\n",
              "    <tr>\n",
              "      <th>HORAOBITO</th>\n",
              "      <td>2020.0</td>\n",
              "      <td>1220.0</td>\n",
              "      <td>-1.0</td>\n",
              "      <td>2100.0</td>\n",
              "      <td>1632.0</td>\n",
              "    </tr>\n",
              "    <tr>\n",
              "      <th>DTNASC</th>\n",
              "      <td>1929-07-18 00:00:00</td>\n",
              "      <td>2020-12-07 00:00:00</td>\n",
              "      <td>1955-10-30 00:00:00</td>\n",
              "      <td>1982-12-16 00:00:00</td>\n",
              "      <td>1971-09-01 00:00:00</td>\n",
              "    </tr>\n",
              "    <tr>\n",
              "      <th>IDADE</th>\n",
              "      <td>491</td>\n",
              "      <td>224</td>\n",
              "      <td>465</td>\n",
              "      <td>438</td>\n",
              "      <td>449</td>\n",
              "    </tr>\n",
              "    <tr>\n",
              "      <th>SEXO</th>\n",
              "      <td>2</td>\n",
              "      <td>1</td>\n",
              "      <td>1</td>\n",
              "      <td>1</td>\n",
              "      <td>1</td>\n",
              "    </tr>\n",
              "    <tr>\n",
              "      <th>RACACOR</th>\n",
              "      <td>4.0</td>\n",
              "      <td>1.0</td>\n",
              "      <td>2.0</td>\n",
              "      <td>4.0</td>\n",
              "      <td>4.0</td>\n",
              "    </tr>\n",
              "    <tr>\n",
              "      <th>ESTCIV</th>\n",
              "      <td>4.0</td>\n",
              "      <td>-1.0</td>\n",
              "      <td>9.0</td>\n",
              "      <td>5.0</td>\n",
              "      <td>1.0</td>\n",
              "    </tr>\n",
              "    <tr>\n",
              "      <th>OCUP</th>\n",
              "      <td>999999.0</td>\n",
              "      <td>-1.0</td>\n",
              "      <td>621005.0</td>\n",
              "      <td>-1.0</td>\n",
              "      <td>513405.0</td>\n",
              "    </tr>\n",
              "    <tr>\n",
              "      <th>CODMUNRES</th>\n",
              "      <td>172100</td>\n",
              "      <td>171650</td>\n",
              "      <td>171420</td>\n",
              "      <td>172100</td>\n",
              "      <td>170210</td>\n",
              "    </tr>\n",
              "    <tr>\n",
              "      <th>LOCOCOR</th>\n",
              "      <td>1</td>\n",
              "      <td>1</td>\n",
              "      <td>3</td>\n",
              "      <td>3</td>\n",
              "      <td>3</td>\n",
              "    </tr>\n",
              "    <tr>\n",
              "      <th>CODESTAB</th>\n",
              "      <td>2786117.0</td>\n",
              "      <td>2755157.0</td>\n",
              "      <td>-1.0</td>\n",
              "      <td>-1.0</td>\n",
              "      <td>-1.0</td>\n",
              "    </tr>\n",
              "    <tr>\n",
              "      <th>CODMUNOCOR</th>\n",
              "      <td>172100</td>\n",
              "      <td>172100</td>\n",
              "      <td>171420</td>\n",
              "      <td>172100</td>\n",
              "      <td>170210</td>\n",
              "    </tr>\n",
              "    <tr>\n",
              "      <th>ASSISTMED</th>\n",
              "      <td>-1.0</td>\n",
              "      <td>1.0</td>\n",
              "      <td>-1.0</td>\n",
              "      <td>2.0</td>\n",
              "      <td>2.0</td>\n",
              "    </tr>\n",
              "    <tr>\n",
              "      <th>CIRCOBITO</th>\n",
              "      <td>-1.0</td>\n",
              "      <td>-1.0</td>\n",
              "      <td>-1.0</td>\n",
              "      <td>3.0</td>\n",
              "      <td>-1.0</td>\n",
              "    </tr>\n",
              "    <tr>\n",
              "      <th>TPPOS</th>\n",
              "      <td>-1</td>\n",
              "      <td>-1</td>\n",
              "      <td>-1</td>\n",
              "      <td>-1</td>\n",
              "      <td>-1</td>\n",
              "    </tr>\n",
              "    <tr>\n",
              "      <th>ESCFALAGR1</th>\n",
              "      <td>10.0</td>\n",
              "      <td>-1.0</td>\n",
              "      <td>9.0</td>\n",
              "      <td>12.0</td>\n",
              "      <td>0.0</td>\n",
              "    </tr>\n",
              "    <tr>\n",
              "      <th>STDOEPIDEM</th>\n",
              "      <td>0.0</td>\n",
              "      <td>0.0</td>\n",
              "      <td>0.0</td>\n",
              "      <td>0.0</td>\n",
              "      <td>0.0</td>\n",
              "    </tr>\n",
              "    <tr>\n",
              "      <th>TIPOIDADE</th>\n",
              "      <td>4</td>\n",
              "      <td>2</td>\n",
              "      <td>4</td>\n",
              "      <td>4</td>\n",
              "      <td>4</td>\n",
              "    </tr>\n",
              "    <tr>\n",
              "      <th>NR_IDADE</th>\n",
              "      <td>91</td>\n",
              "      <td>24</td>\n",
              "      <td>65</td>\n",
              "      <td>38</td>\n",
              "      <td>49</td>\n",
              "    </tr>\n",
              "    <tr>\n",
              "      <th>CD_OBITO</th>\n",
              "      <td>15534932020</td>\n",
              "      <td>15535222020</td>\n",
              "      <td>15535332020</td>\n",
              "      <td>15535342020</td>\n",
              "      <td>15538372020</td>\n",
              "    </tr>\n",
              "    <tr>\n",
              "      <th>TERMINAL_1</th>\n",
              "      <td>A419</td>\n",
              "      <td>P293</td>\n",
              "      <td>R99X</td>\n",
              "      <td>T794</td>\n",
              "      <td>R99X</td>\n",
              "    </tr>\n",
              "    <tr>\n",
              "      <th>TERMINAL_2</th>\n",
              "      <td>-1</td>\n",
              "      <td>-1</td>\n",
              "      <td>-1</td>\n",
              "      <td>-1</td>\n",
              "      <td>-1</td>\n",
              "    </tr>\n",
              "    <tr>\n",
              "      <th>ANTECEDENTE_1</th>\n",
              "      <td>J159</td>\n",
              "      <td>B49X</td>\n",
              "      <td>-1</td>\n",
              "      <td>T792</td>\n",
              "      <td>-1</td>\n",
              "    </tr>\n",
              "    <tr>\n",
              "      <th>ANTECEDENTE_2</th>\n",
              "      <td>-1</td>\n",
              "      <td>-1</td>\n",
              "      <td>-1</td>\n",
              "      <td>-1</td>\n",
              "      <td>-1</td>\n",
              "    </tr>\n",
              "    <tr>\n",
              "      <th>ANTECEDENTE_3</th>\n",
              "      <td>I64X</td>\n",
              "      <td>P071</td>\n",
              "      <td>-1</td>\n",
              "      <td>S279</td>\n",
              "      <td>-1</td>\n",
              "    </tr>\n",
              "    <tr>\n",
              "      <th>ANTECEDENTE_4</th>\n",
              "      <td>-1</td>\n",
              "      <td>-1</td>\n",
              "      <td>-1</td>\n",
              "      <td>S369</td>\n",
              "      <td>-1</td>\n",
              "    </tr>\n",
              "    <tr>\n",
              "      <th>BASICA_1</th>\n",
              "      <td>I64</td>\n",
              "      <td>P293</td>\n",
              "      <td>R99</td>\n",
              "      <td>X994</td>\n",
              "      <td>R99</td>\n",
              "    </tr>\n",
              "    <tr>\n",
              "      <th>BASICA_2</th>\n",
              "      <td>I64</td>\n",
              "      <td>P293</td>\n",
              "      <td>R99</td>\n",
              "      <td>X994</td>\n",
              "      <td>R99</td>\n",
              "    </tr>\n",
              "  </tbody>\n",
              "</table>\n",
              "</div>\n",
              "    <div class=\"colab-df-buttons\">\n",
              "\n",
              "  <div class=\"colab-df-container\">\n",
              "    <button class=\"colab-df-convert\" onclick=\"convertToInteractive('df-c2e7a47c-a891-48b9-965c-4ee379510429')\"\n",
              "            title=\"Convert this dataframe to an interactive table.\"\n",
              "            style=\"display:none;\">\n",
              "\n",
              "  <svg xmlns=\"http://www.w3.org/2000/svg\" height=\"24px\" viewBox=\"0 -960 960 960\">\n",
              "    <path d=\"M120-120v-720h720v720H120Zm60-500h600v-160H180v160Zm220 220h160v-160H400v160Zm0 220h160v-160H400v160ZM180-400h160v-160H180v160Zm440 0h160v-160H620v160ZM180-180h160v-160H180v160Zm440 0h160v-160H620v160Z\"/>\n",
              "  </svg>\n",
              "    </button>\n",
              "\n",
              "  <style>\n",
              "    .colab-df-container {\n",
              "      display:flex;\n",
              "      gap: 12px;\n",
              "    }\n",
              "\n",
              "    .colab-df-convert {\n",
              "      background-color: #E8F0FE;\n",
              "      border: none;\n",
              "      border-radius: 50%;\n",
              "      cursor: pointer;\n",
              "      display: none;\n",
              "      fill: #1967D2;\n",
              "      height: 32px;\n",
              "      padding: 0 0 0 0;\n",
              "      width: 32px;\n",
              "    }\n",
              "\n",
              "    .colab-df-convert:hover {\n",
              "      background-color: #E2EBFA;\n",
              "      box-shadow: 0px 1px 2px rgba(60, 64, 67, 0.3), 0px 1px 3px 1px rgba(60, 64, 67, 0.15);\n",
              "      fill: #174EA6;\n",
              "    }\n",
              "\n",
              "    .colab-df-buttons div {\n",
              "      margin-bottom: 4px;\n",
              "    }\n",
              "\n",
              "    [theme=dark] .colab-df-convert {\n",
              "      background-color: #3B4455;\n",
              "      fill: #D2E3FC;\n",
              "    }\n",
              "\n",
              "    [theme=dark] .colab-df-convert:hover {\n",
              "      background-color: #434B5C;\n",
              "      box-shadow: 0px 1px 3px 1px rgba(0, 0, 0, 0.15);\n",
              "      filter: drop-shadow(0px 1px 2px rgba(0, 0, 0, 0.3));\n",
              "      fill: #FFFFFF;\n",
              "    }\n",
              "  </style>\n",
              "\n",
              "    <script>\n",
              "      const buttonEl =\n",
              "        document.querySelector('#df-c2e7a47c-a891-48b9-965c-4ee379510429 button.colab-df-convert');\n",
              "      buttonEl.style.display =\n",
              "        google.colab.kernel.accessAllowed ? 'block' : 'none';\n",
              "\n",
              "      async function convertToInteractive(key) {\n",
              "        const element = document.querySelector('#df-c2e7a47c-a891-48b9-965c-4ee379510429');\n",
              "        const dataTable =\n",
              "          await google.colab.kernel.invokeFunction('convertToInteractive',\n",
              "                                                    [key], {});\n",
              "        if (!dataTable) return;\n",
              "\n",
              "        const docLinkHtml = 'Like what you see? Visit the ' +\n",
              "          '<a target=\"_blank\" href=https://colab.research.google.com/notebooks/data_table.ipynb>data table notebook</a>'\n",
              "          + ' to learn more about interactive tables.';\n",
              "        element.innerHTML = '';\n",
              "        dataTable['output_type'] = 'display_data';\n",
              "        await google.colab.output.renderOutput(dataTable, element);\n",
              "        const docLink = document.createElement('div');\n",
              "        docLink.innerHTML = docLinkHtml;\n",
              "        element.appendChild(docLink);\n",
              "      }\n",
              "    </script>\n",
              "  </div>\n",
              "\n",
              "\n",
              "    <div id=\"df-7c50d58a-8720-4f3c-b676-00f1244b0ed6\">\n",
              "      <button class=\"colab-df-quickchart\" onclick=\"quickchart('df-7c50d58a-8720-4f3c-b676-00f1244b0ed6')\"\n",
              "                title=\"Suggest charts\"\n",
              "                style=\"display:none;\">\n",
              "\n",
              "<svg xmlns=\"http://www.w3.org/2000/svg\" height=\"24px\"viewBox=\"0 0 24 24\"\n",
              "     width=\"24px\">\n",
              "    <g>\n",
              "        <path d=\"M19 3H5c-1.1 0-2 .9-2 2v14c0 1.1.9 2 2 2h14c1.1 0 2-.9 2-2V5c0-1.1-.9-2-2-2zM9 17H7v-7h2v7zm4 0h-2V7h2v10zm4 0h-2v-4h2v4z\"/>\n",
              "    </g>\n",
              "</svg>\n",
              "      </button>\n",
              "\n",
              "<style>\n",
              "  .colab-df-quickchart {\n",
              "      --bg-color: #E8F0FE;\n",
              "      --fill-color: #1967D2;\n",
              "      --hover-bg-color: #E2EBFA;\n",
              "      --hover-fill-color: #174EA6;\n",
              "      --disabled-fill-color: #AAA;\n",
              "      --disabled-bg-color: #DDD;\n",
              "  }\n",
              "\n",
              "  [theme=dark] .colab-df-quickchart {\n",
              "      --bg-color: #3B4455;\n",
              "      --fill-color: #D2E3FC;\n",
              "      --hover-bg-color: #434B5C;\n",
              "      --hover-fill-color: #FFFFFF;\n",
              "      --disabled-bg-color: #3B4455;\n",
              "      --disabled-fill-color: #666;\n",
              "  }\n",
              "\n",
              "  .colab-df-quickchart {\n",
              "    background-color: var(--bg-color);\n",
              "    border: none;\n",
              "    border-radius: 50%;\n",
              "    cursor: pointer;\n",
              "    display: none;\n",
              "    fill: var(--fill-color);\n",
              "    height: 32px;\n",
              "    padding: 0;\n",
              "    width: 32px;\n",
              "  }\n",
              "\n",
              "  .colab-df-quickchart:hover {\n",
              "    background-color: var(--hover-bg-color);\n",
              "    box-shadow: 0 1px 2px rgba(60, 64, 67, 0.3), 0 1px 3px 1px rgba(60, 64, 67, 0.15);\n",
              "    fill: var(--button-hover-fill-color);\n",
              "  }\n",
              "\n",
              "  .colab-df-quickchart-complete:disabled,\n",
              "  .colab-df-quickchart-complete:disabled:hover {\n",
              "    background-color: var(--disabled-bg-color);\n",
              "    fill: var(--disabled-fill-color);\n",
              "    box-shadow: none;\n",
              "  }\n",
              "\n",
              "  .colab-df-spinner {\n",
              "    border: 2px solid var(--fill-color);\n",
              "    border-color: transparent;\n",
              "    border-bottom-color: var(--fill-color);\n",
              "    animation:\n",
              "      spin 1s steps(1) infinite;\n",
              "  }\n",
              "\n",
              "  @keyframes spin {\n",
              "    0% {\n",
              "      border-color: transparent;\n",
              "      border-bottom-color: var(--fill-color);\n",
              "      border-left-color: var(--fill-color);\n",
              "    }\n",
              "    20% {\n",
              "      border-color: transparent;\n",
              "      border-left-color: var(--fill-color);\n",
              "      border-top-color: var(--fill-color);\n",
              "    }\n",
              "    30% {\n",
              "      border-color: transparent;\n",
              "      border-left-color: var(--fill-color);\n",
              "      border-top-color: var(--fill-color);\n",
              "      border-right-color: var(--fill-color);\n",
              "    }\n",
              "    40% {\n",
              "      border-color: transparent;\n",
              "      border-right-color: var(--fill-color);\n",
              "      border-top-color: var(--fill-color);\n",
              "    }\n",
              "    60% {\n",
              "      border-color: transparent;\n",
              "      border-right-color: var(--fill-color);\n",
              "    }\n",
              "    80% {\n",
              "      border-color: transparent;\n",
              "      border-right-color: var(--fill-color);\n",
              "      border-bottom-color: var(--fill-color);\n",
              "    }\n",
              "    90% {\n",
              "      border-color: transparent;\n",
              "      border-bottom-color: var(--fill-color);\n",
              "    }\n",
              "  }\n",
              "</style>\n",
              "\n",
              "      <script>\n",
              "        async function quickchart(key) {\n",
              "          const quickchartButtonEl =\n",
              "            document.querySelector('#' + key + ' button');\n",
              "          quickchartButtonEl.disabled = true;  // To prevent multiple clicks.\n",
              "          quickchartButtonEl.classList.add('colab-df-spinner');\n",
              "          try {\n",
              "            const charts = await google.colab.kernel.invokeFunction(\n",
              "                'suggestCharts', [key], {});\n",
              "          } catch (error) {\n",
              "            console.error('Error during call to suggestCharts:', error);\n",
              "          }\n",
              "          quickchartButtonEl.classList.remove('colab-df-spinner');\n",
              "          quickchartButtonEl.classList.add('colab-df-quickchart-complete');\n",
              "        }\n",
              "        (() => {\n",
              "          let quickchartButtonEl =\n",
              "            document.querySelector('#df-7c50d58a-8720-4f3c-b676-00f1244b0ed6 button');\n",
              "          quickchartButtonEl.style.display =\n",
              "            google.colab.kernel.accessAllowed ? 'block' : 'none';\n",
              "        })();\n",
              "      </script>\n",
              "    </div>\n",
              "\n",
              "    </div>\n",
              "  </div>\n"
            ],
            "application/vnd.google.colaboratory.intrinsic+json": {
              "type": "dataframe",
              "summary": "{\n  \"name\": \"df\",\n  \"rows\": 28,\n  \"fields\": [\n    {\n      \"column\": 1556819,\n      \"properties\": {\n        \"dtype\": \"string\",\n        \"num_unique_values\": 20,\n        \"samples\": [\n          \"2020-12-31 00:00:00\",\n          \"J159\",\n          \"A419\"\n        ],\n        \"semantic_type\": \"\",\n        \"description\": \"\"\n      }\n    },\n    {\n      \"column\": 1556820,\n      \"properties\": {\n        \"dtype\": \"string\",\n        \"num_unique_values\": 17,\n        \"samples\": [\n          \"2020-12-31 00:00:00\",\n          1220.0,\n          -1.0\n        ],\n        \"semantic_type\": \"\",\n        \"description\": \"\"\n      }\n    },\n    {\n      \"column\": 1556821,\n      \"properties\": {\n        \"dtype\": \"string\",\n        \"num_unique_values\": 17,\n        \"samples\": [\n          \"2020-12-31 00:00:00\",\n          -1.0,\n          2.0\n        ],\n        \"semantic_type\": \"\",\n        \"description\": \"\"\n      }\n    },\n    {\n      \"column\": 1556822,\n      \"properties\": {\n        \"dtype\": \"string\",\n        \"num_unique_values\": 21,\n        \"samples\": [\n          \"2020-12-31 00:00:00\",\n          \"T792\",\n          \"T794\"\n        ],\n        \"semantic_type\": \"\",\n        \"description\": \"\"\n      }\n    },\n    {\n      \"column\": 1556823,\n      \"properties\": {\n        \"dtype\": \"string\",\n        \"num_unique_values\": 17,\n        \"samples\": [\n          \"2020-12-31 00:00:00\",\n          1632.0,\n          4.0\n        ],\n        \"semantic_type\": \"\",\n        \"description\": \"\"\n      }\n    }\n  ]\n}"
            }
          },
          "metadata": {},
          "execution_count": 95
        }
      ]
    },
    {
      "cell_type": "code",
      "source": [
        "df.info()"
      ],
      "metadata": {
        "colab": {
          "base_uri": "https://localhost:8080/"
        },
        "id": "faW1k15q-8OW",
        "outputId": "b1096365-53a0-4020-babe-fc5983a2d66b"
      },
      "execution_count": 96,
      "outputs": [
        {
          "output_type": "stream",
          "name": "stdout",
          "text": [
            "<class 'pandas.core.frame.DataFrame'>\n",
            "RangeIndex: 1556824 entries, 0 to 1556823\n",
            "Data columns (total 28 columns):\n",
            " #   Column         Non-Null Count    Dtype         \n",
            "---  ------         --------------    -----         \n",
            " 0   DTOBITO        1556824 non-null  datetime64[ns]\n",
            " 1   HORAOBITO      1556824 non-null  float64       \n",
            " 2   DTNASC         1556824 non-null  object        \n",
            " 3   IDADE          1556824 non-null  int64         \n",
            " 4   SEXO           1556824 non-null  int64         \n",
            " 5   RACACOR        1556824 non-null  float64       \n",
            " 6   ESTCIV         1556824 non-null  float64       \n",
            " 7   OCUP           1556824 non-null  float64       \n",
            " 8   CODMUNRES      1556824 non-null  int64         \n",
            " 9   LOCOCOR        1556824 non-null  int64         \n",
            " 10  CODESTAB       1556824 non-null  float64       \n",
            " 11  CODMUNOCOR     1556824 non-null  int64         \n",
            " 12  ASSISTMED      1556824 non-null  float64       \n",
            " 13  CIRCOBITO      1556824 non-null  float64       \n",
            " 14  TPPOS          1556824 non-null  object        \n",
            " 15  ESCFALAGR1     1556824 non-null  float64       \n",
            " 16  STDOEPIDEM     1556824 non-null  float64       \n",
            " 17  TIPOIDADE      1556824 non-null  int64         \n",
            " 18  NR_IDADE       1556824 non-null  int64         \n",
            " 19  CD_OBITO       1556824 non-null  int64         \n",
            " 20  TERMINAL_1     1556824 non-null  object        \n",
            " 21  TERMINAL_2     1556824 non-null  object        \n",
            " 22  ANTECEDENTE_1  1556824 non-null  object        \n",
            " 23  ANTECEDENTE_2  1556824 non-null  object        \n",
            " 24  ANTECEDENTE_3  1556824 non-null  object        \n",
            " 25  ANTECEDENTE_4  1556824 non-null  object        \n",
            " 26  BASICA_1       1556824 non-null  object        \n",
            " 27  BASICA_2       1556824 non-null  object        \n",
            "dtypes: datetime64[ns](1), float64(9), int64(8), object(10)\n",
            "memory usage: 332.6+ MB\n"
          ]
        }
      ]
    },
    {
      "cell_type": "code",
      "source": [
        "df.to_csv('DO_20.csv', index=False)"
      ],
      "metadata": {
        "id": "AVVFmQ8AQOQH"
      },
      "execution_count": 97,
      "outputs": []
    }
  ]
}