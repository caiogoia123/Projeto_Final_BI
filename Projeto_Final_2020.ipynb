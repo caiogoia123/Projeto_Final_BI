{
  "nbformat": 4,
  "nbformat_minor": 0,
  "metadata": {
    "colab": {
      "provenance": []
    },
    "kernelspec": {
      "name": "python3",
      "display_name": "Python 3"
    },
    "language_info": {
      "name": "python"
    }
  },
  "cells": [
    {
      "cell_type": "code",
      "execution_count": 2,
      "metadata": {
        "id": "D2vz2nplL-c2"
      },
      "outputs": [],
      "source": [
        "import pandas as pd\n",
        "import numpy as np"
      ]
    },
    {
      "cell_type": "code",
      "source": [
        "df = pd.read_csv('Mortalidade_Geral_2020.csv', sep=';')"
      ],
      "metadata": {
        "colab": {
          "base_uri": "https://localhost:8080/"
        },
        "id": "VPOYrS5fMDbA",
        "outputId": "a9815473-e83b-4612-a4ab-c2161efd6842"
      },
      "execution_count": null,
      "outputs": [
        {
          "output_type": "stream",
          "name": "stderr",
          "text": [
            "/tmp/ipython-input-3694082878.py:1: DtypeWarning: Columns (66,79) have mixed types. Specify dtype option on import or set low_memory=False.\n",
            "  df = pd.read_csv('Mortalidade_Geral_2020.csv', sep=';')\n"
          ]
        }
      ]
    },
    {
      "cell_type": "code",
      "source": [
        "df.head(10).T"
      ],
      "metadata": {
        "colab": {
          "base_uri": "https://localhost:8080/",
          "height": 423
        },
        "id": "2LgAoFm3NDjF",
        "outputId": "70828757-4436-4b1f-edf3-fbca1e2b4ea4"
      },
      "execution_count": null,
      "outputs": [
        {
          "output_type": "execute_result",
          "data": {
            "text/plain": [
              "                   0         1         2         3         4         5  \\\n",
              "ORIGEM             1         1         1         1         1         1   \n",
              "TIPOBITO           2         2         2         2         2         2   \n",
              "DTOBITO     18052020  20052020  21052020  21052020  22052020  22052020   \n",
              "HORAOBITO     1452.0    2115.0    1200.0    1233.0     730.0    1250.0   \n",
              "NATURAL        812.0     812.0     812.0     812.0     812.0     812.0   \n",
              "...              ...       ...       ...       ...       ...       ...   \n",
              "MORTEPARTO       NaN       NaN       NaN       NaN       NaN       NaN   \n",
              "DTCONCASO        NaN       NaN       NaN       NaN       NaN       NaN   \n",
              "FONTESINF        NaN       NaN       NaN       NaN       NaN       NaN   \n",
              "ALTCAUSA         NaN       NaN       NaN       NaN       NaN       NaN   \n",
              "CONTADOR         603       604       605       606       607       608   \n",
              "\n",
              "                   6         7         8         9  \n",
              "ORIGEM             1         1         1         1  \n",
              "TIPOBITO           2         2         2         2  \n",
              "DTOBITO     25052020  25052020  27052020  27052020  \n",
              "HORAOBITO      136.0     240.0     200.0     311.0  \n",
              "NATURAL        812.0     812.0     812.0     812.0  \n",
              "...              ...       ...       ...       ...  \n",
              "MORTEPARTO       NaN       NaN       NaN       NaN  \n",
              "DTCONCASO        NaN       NaN       NaN       NaN  \n",
              "FONTESINF        NaN       NaN       NaN       NaN  \n",
              "ALTCAUSA         NaN       NaN       NaN       NaN  \n",
              "CONTADOR         609       610       611       612  \n",
              "\n",
              "[87 rows x 10 columns]"
            ],
            "text/html": [
              "\n",
              "  <div id=\"df-1c05b176-f3ec-408a-b84f-114069fb3fc3\" class=\"colab-df-container\">\n",
              "    <div>\n",
              "<style scoped>\n",
              "    .dataframe tbody tr th:only-of-type {\n",
              "        vertical-align: middle;\n",
              "    }\n",
              "\n",
              "    .dataframe tbody tr th {\n",
              "        vertical-align: top;\n",
              "    }\n",
              "\n",
              "    .dataframe thead th {\n",
              "        text-align: right;\n",
              "    }\n",
              "</style>\n",
              "<table border=\"1\" class=\"dataframe\">\n",
              "  <thead>\n",
              "    <tr style=\"text-align: right;\">\n",
              "      <th></th>\n",
              "      <th>0</th>\n",
              "      <th>1</th>\n",
              "      <th>2</th>\n",
              "      <th>3</th>\n",
              "      <th>4</th>\n",
              "      <th>5</th>\n",
              "      <th>6</th>\n",
              "      <th>7</th>\n",
              "      <th>8</th>\n",
              "      <th>9</th>\n",
              "    </tr>\n",
              "  </thead>\n",
              "  <tbody>\n",
              "    <tr>\n",
              "      <th>ORIGEM</th>\n",
              "      <td>1</td>\n",
              "      <td>1</td>\n",
              "      <td>1</td>\n",
              "      <td>1</td>\n",
              "      <td>1</td>\n",
              "      <td>1</td>\n",
              "      <td>1</td>\n",
              "      <td>1</td>\n",
              "      <td>1</td>\n",
              "      <td>1</td>\n",
              "    </tr>\n",
              "    <tr>\n",
              "      <th>TIPOBITO</th>\n",
              "      <td>2</td>\n",
              "      <td>2</td>\n",
              "      <td>2</td>\n",
              "      <td>2</td>\n",
              "      <td>2</td>\n",
              "      <td>2</td>\n",
              "      <td>2</td>\n",
              "      <td>2</td>\n",
              "      <td>2</td>\n",
              "      <td>2</td>\n",
              "    </tr>\n",
              "    <tr>\n",
              "      <th>DTOBITO</th>\n",
              "      <td>18052020</td>\n",
              "      <td>20052020</td>\n",
              "      <td>21052020</td>\n",
              "      <td>21052020</td>\n",
              "      <td>22052020</td>\n",
              "      <td>22052020</td>\n",
              "      <td>25052020</td>\n",
              "      <td>25052020</td>\n",
              "      <td>27052020</td>\n",
              "      <td>27052020</td>\n",
              "    </tr>\n",
              "    <tr>\n",
              "      <th>HORAOBITO</th>\n",
              "      <td>1452.0</td>\n",
              "      <td>2115.0</td>\n",
              "      <td>1200.0</td>\n",
              "      <td>1233.0</td>\n",
              "      <td>730.0</td>\n",
              "      <td>1250.0</td>\n",
              "      <td>136.0</td>\n",
              "      <td>240.0</td>\n",
              "      <td>200.0</td>\n",
              "      <td>311.0</td>\n",
              "    </tr>\n",
              "    <tr>\n",
              "      <th>NATURAL</th>\n",
              "      <td>812.0</td>\n",
              "      <td>812.0</td>\n",
              "      <td>812.0</td>\n",
              "      <td>812.0</td>\n",
              "      <td>812.0</td>\n",
              "      <td>812.0</td>\n",
              "      <td>812.0</td>\n",
              "      <td>812.0</td>\n",
              "      <td>812.0</td>\n",
              "      <td>812.0</td>\n",
              "    </tr>\n",
              "    <tr>\n",
              "      <th>...</th>\n",
              "      <td>...</td>\n",
              "      <td>...</td>\n",
              "      <td>...</td>\n",
              "      <td>...</td>\n",
              "      <td>...</td>\n",
              "      <td>...</td>\n",
              "      <td>...</td>\n",
              "      <td>...</td>\n",
              "      <td>...</td>\n",
              "      <td>...</td>\n",
              "    </tr>\n",
              "    <tr>\n",
              "      <th>MORTEPARTO</th>\n",
              "      <td>NaN</td>\n",
              "      <td>NaN</td>\n",
              "      <td>NaN</td>\n",
              "      <td>NaN</td>\n",
              "      <td>NaN</td>\n",
              "      <td>NaN</td>\n",
              "      <td>NaN</td>\n",
              "      <td>NaN</td>\n",
              "      <td>NaN</td>\n",
              "      <td>NaN</td>\n",
              "    </tr>\n",
              "    <tr>\n",
              "      <th>DTCONCASO</th>\n",
              "      <td>NaN</td>\n",
              "      <td>NaN</td>\n",
              "      <td>NaN</td>\n",
              "      <td>NaN</td>\n",
              "      <td>NaN</td>\n",
              "      <td>NaN</td>\n",
              "      <td>NaN</td>\n",
              "      <td>NaN</td>\n",
              "      <td>NaN</td>\n",
              "      <td>NaN</td>\n",
              "    </tr>\n",
              "    <tr>\n",
              "      <th>FONTESINF</th>\n",
              "      <td>NaN</td>\n",
              "      <td>NaN</td>\n",
              "      <td>NaN</td>\n",
              "      <td>NaN</td>\n",
              "      <td>NaN</td>\n",
              "      <td>NaN</td>\n",
              "      <td>NaN</td>\n",
              "      <td>NaN</td>\n",
              "      <td>NaN</td>\n",
              "      <td>NaN</td>\n",
              "    </tr>\n",
              "    <tr>\n",
              "      <th>ALTCAUSA</th>\n",
              "      <td>NaN</td>\n",
              "      <td>NaN</td>\n",
              "      <td>NaN</td>\n",
              "      <td>NaN</td>\n",
              "      <td>NaN</td>\n",
              "      <td>NaN</td>\n",
              "      <td>NaN</td>\n",
              "      <td>NaN</td>\n",
              "      <td>NaN</td>\n",
              "      <td>NaN</td>\n",
              "    </tr>\n",
              "    <tr>\n",
              "      <th>CONTADOR</th>\n",
              "      <td>603</td>\n",
              "      <td>604</td>\n",
              "      <td>605</td>\n",
              "      <td>606</td>\n",
              "      <td>607</td>\n",
              "      <td>608</td>\n",
              "      <td>609</td>\n",
              "      <td>610</td>\n",
              "      <td>611</td>\n",
              "      <td>612</td>\n",
              "    </tr>\n",
              "  </tbody>\n",
              "</table>\n",
              "<p>87 rows × 10 columns</p>\n",
              "</div>\n",
              "    <div class=\"colab-df-buttons\">\n",
              "\n",
              "  <div class=\"colab-df-container\">\n",
              "    <button class=\"colab-df-convert\" onclick=\"convertToInteractive('df-1c05b176-f3ec-408a-b84f-114069fb3fc3')\"\n",
              "            title=\"Convert this dataframe to an interactive table.\"\n",
              "            style=\"display:none;\">\n",
              "\n",
              "  <svg xmlns=\"http://www.w3.org/2000/svg\" height=\"24px\" viewBox=\"0 -960 960 960\">\n",
              "    <path d=\"M120-120v-720h720v720H120Zm60-500h600v-160H180v160Zm220 220h160v-160H400v160Zm0 220h160v-160H400v160ZM180-400h160v-160H180v160Zm440 0h160v-160H620v160ZM180-180h160v-160H180v160Zm440 0h160v-160H620v160Z\"/>\n",
              "  </svg>\n",
              "    </button>\n",
              "\n",
              "  <style>\n",
              "    .colab-df-container {\n",
              "      display:flex;\n",
              "      gap: 12px;\n",
              "    }\n",
              "\n",
              "    .colab-df-convert {\n",
              "      background-color: #E8F0FE;\n",
              "      border: none;\n",
              "      border-radius: 50%;\n",
              "      cursor: pointer;\n",
              "      display: none;\n",
              "      fill: #1967D2;\n",
              "      height: 32px;\n",
              "      padding: 0 0 0 0;\n",
              "      width: 32px;\n",
              "    }\n",
              "\n",
              "    .colab-df-convert:hover {\n",
              "      background-color: #E2EBFA;\n",
              "      box-shadow: 0px 1px 2px rgba(60, 64, 67, 0.3), 0px 1px 3px 1px rgba(60, 64, 67, 0.15);\n",
              "      fill: #174EA6;\n",
              "    }\n",
              "\n",
              "    .colab-df-buttons div {\n",
              "      margin-bottom: 4px;\n",
              "    }\n",
              "\n",
              "    [theme=dark] .colab-df-convert {\n",
              "      background-color: #3B4455;\n",
              "      fill: #D2E3FC;\n",
              "    }\n",
              "\n",
              "    [theme=dark] .colab-df-convert:hover {\n",
              "      background-color: #434B5C;\n",
              "      box-shadow: 0px 1px 3px 1px rgba(0, 0, 0, 0.15);\n",
              "      filter: drop-shadow(0px 1px 2px rgba(0, 0, 0, 0.3));\n",
              "      fill: #FFFFFF;\n",
              "    }\n",
              "  </style>\n",
              "\n",
              "    <script>\n",
              "      const buttonEl =\n",
              "        document.querySelector('#df-1c05b176-f3ec-408a-b84f-114069fb3fc3 button.colab-df-convert');\n",
              "      buttonEl.style.display =\n",
              "        google.colab.kernel.accessAllowed ? 'block' : 'none';\n",
              "\n",
              "      async function convertToInteractive(key) {\n",
              "        const element = document.querySelector('#df-1c05b176-f3ec-408a-b84f-114069fb3fc3');\n",
              "        const dataTable =\n",
              "          await google.colab.kernel.invokeFunction('convertToInteractive',\n",
              "                                                    [key], {});\n",
              "        if (!dataTable) return;\n",
              "\n",
              "        const docLinkHtml = 'Like what you see? Visit the ' +\n",
              "          '<a target=\"_blank\" href=https://colab.research.google.com/notebooks/data_table.ipynb>data table notebook</a>'\n",
              "          + ' to learn more about interactive tables.';\n",
              "        element.innerHTML = '';\n",
              "        dataTable['output_type'] = 'display_data';\n",
              "        await google.colab.output.renderOutput(dataTable, element);\n",
              "        const docLink = document.createElement('div');\n",
              "        docLink.innerHTML = docLinkHtml;\n",
              "        element.appendChild(docLink);\n",
              "      }\n",
              "    </script>\n",
              "  </div>\n",
              "\n",
              "\n",
              "    <div id=\"df-b9bc2c20-0b06-4593-ba22-cd633f975eb6\">\n",
              "      <button class=\"colab-df-quickchart\" onclick=\"quickchart('df-b9bc2c20-0b06-4593-ba22-cd633f975eb6')\"\n",
              "                title=\"Suggest charts\"\n",
              "                style=\"display:none;\">\n",
              "\n",
              "<svg xmlns=\"http://www.w3.org/2000/svg\" height=\"24px\"viewBox=\"0 0 24 24\"\n",
              "     width=\"24px\">\n",
              "    <g>\n",
              "        <path d=\"M19 3H5c-1.1 0-2 .9-2 2v14c0 1.1.9 2 2 2h14c1.1 0 2-.9 2-2V5c0-1.1-.9-2-2-2zM9 17H7v-7h2v7zm4 0h-2V7h2v10zm4 0h-2v-4h2v4z\"/>\n",
              "    </g>\n",
              "</svg>\n",
              "      </button>\n",
              "\n",
              "<style>\n",
              "  .colab-df-quickchart {\n",
              "      --bg-color: #E8F0FE;\n",
              "      --fill-color: #1967D2;\n",
              "      --hover-bg-color: #E2EBFA;\n",
              "      --hover-fill-color: #174EA6;\n",
              "      --disabled-fill-color: #AAA;\n",
              "      --disabled-bg-color: #DDD;\n",
              "  }\n",
              "\n",
              "  [theme=dark] .colab-df-quickchart {\n",
              "      --bg-color: #3B4455;\n",
              "      --fill-color: #D2E3FC;\n",
              "      --hover-bg-color: #434B5C;\n",
              "      --hover-fill-color: #FFFFFF;\n",
              "      --disabled-bg-color: #3B4455;\n",
              "      --disabled-fill-color: #666;\n",
              "  }\n",
              "\n",
              "  .colab-df-quickchart {\n",
              "    background-color: var(--bg-color);\n",
              "    border: none;\n",
              "    border-radius: 50%;\n",
              "    cursor: pointer;\n",
              "    display: none;\n",
              "    fill: var(--fill-color);\n",
              "    height: 32px;\n",
              "    padding: 0;\n",
              "    width: 32px;\n",
              "  }\n",
              "\n",
              "  .colab-df-quickchart:hover {\n",
              "    background-color: var(--hover-bg-color);\n",
              "    box-shadow: 0 1px 2px rgba(60, 64, 67, 0.3), 0 1px 3px 1px rgba(60, 64, 67, 0.15);\n",
              "    fill: var(--button-hover-fill-color);\n",
              "  }\n",
              "\n",
              "  .colab-df-quickchart-complete:disabled,\n",
              "  .colab-df-quickchart-complete:disabled:hover {\n",
              "    background-color: var(--disabled-bg-color);\n",
              "    fill: var(--disabled-fill-color);\n",
              "    box-shadow: none;\n",
              "  }\n",
              "\n",
              "  .colab-df-spinner {\n",
              "    border: 2px solid var(--fill-color);\n",
              "    border-color: transparent;\n",
              "    border-bottom-color: var(--fill-color);\n",
              "    animation:\n",
              "      spin 1s steps(1) infinite;\n",
              "  }\n",
              "\n",
              "  @keyframes spin {\n",
              "    0% {\n",
              "      border-color: transparent;\n",
              "      border-bottom-color: var(--fill-color);\n",
              "      border-left-color: var(--fill-color);\n",
              "    }\n",
              "    20% {\n",
              "      border-color: transparent;\n",
              "      border-left-color: var(--fill-color);\n",
              "      border-top-color: var(--fill-color);\n",
              "    }\n",
              "    30% {\n",
              "      border-color: transparent;\n",
              "      border-left-color: var(--fill-color);\n",
              "      border-top-color: var(--fill-color);\n",
              "      border-right-color: var(--fill-color);\n",
              "    }\n",
              "    40% {\n",
              "      border-color: transparent;\n",
              "      border-right-color: var(--fill-color);\n",
              "      border-top-color: var(--fill-color);\n",
              "    }\n",
              "    60% {\n",
              "      border-color: transparent;\n",
              "      border-right-color: var(--fill-color);\n",
              "    }\n",
              "    80% {\n",
              "      border-color: transparent;\n",
              "      border-right-color: var(--fill-color);\n",
              "      border-bottom-color: var(--fill-color);\n",
              "    }\n",
              "    90% {\n",
              "      border-color: transparent;\n",
              "      border-bottom-color: var(--fill-color);\n",
              "    }\n",
              "  }\n",
              "</style>\n",
              "\n",
              "      <script>\n",
              "        async function quickchart(key) {\n",
              "          const quickchartButtonEl =\n",
              "            document.querySelector('#' + key + ' button');\n",
              "          quickchartButtonEl.disabled = true;  // To prevent multiple clicks.\n",
              "          quickchartButtonEl.classList.add('colab-df-spinner');\n",
              "          try {\n",
              "            const charts = await google.colab.kernel.invokeFunction(\n",
              "                'suggestCharts', [key], {});\n",
              "          } catch (error) {\n",
              "            console.error('Error during call to suggestCharts:', error);\n",
              "          }\n",
              "          quickchartButtonEl.classList.remove('colab-df-spinner');\n",
              "          quickchartButtonEl.classList.add('colab-df-quickchart-complete');\n",
              "        }\n",
              "        (() => {\n",
              "          let quickchartButtonEl =\n",
              "            document.querySelector('#df-b9bc2c20-0b06-4593-ba22-cd633f975eb6 button');\n",
              "          quickchartButtonEl.style.display =\n",
              "            google.colab.kernel.accessAllowed ? 'block' : 'none';\n",
              "        })();\n",
              "      </script>\n",
              "    </div>\n",
              "\n",
              "    </div>\n",
              "  </div>\n"
            ],
            "application/vnd.google.colaboratory.intrinsic+json": {
              "type": "dataframe",
              "variable_name": "df"
            }
          },
          "metadata": {},
          "execution_count": 6
        }
      ]
    },
    {
      "cell_type": "code",
      "source": [
        "df.info()"
      ],
      "metadata": {
        "colab": {
          "base_uri": "https://localhost:8080/"
        },
        "id": "BkLxLTOMNF3d",
        "outputId": "6cddbe82-288d-4450-fb75-35de5fef92fd"
      },
      "execution_count": null,
      "outputs": [
        {
          "output_type": "stream",
          "name": "stdout",
          "text": [
            "<class 'pandas.core.frame.DataFrame'>\n",
            "RangeIndex: 1556824 entries, 0 to 1556823\n",
            "Data columns (total 87 columns):\n",
            " #   Column      Non-Null Count    Dtype  \n",
            "---  ------      --------------    -----  \n",
            " 0   ORIGEM      1556824 non-null  int64  \n",
            " 1   TIPOBITO    1556824 non-null  int64  \n",
            " 2   DTOBITO     1556824 non-null  int64  \n",
            " 3   HORAOBITO   1497806 non-null  float64\n",
            " 4   NATURAL     1469096 non-null  float64\n",
            " 5   CODMUNNATU  1446983 non-null  float64\n",
            " 6   DTNASC      1553080 non-null  float64\n",
            " 7   IDADE       1556824 non-null  int64  \n",
            " 8   SEXO        1556824 non-null  int64  \n",
            " 9   RACACOR     1516188 non-null  float64\n",
            " 10  ESTCIV      1475822 non-null  float64\n",
            " 11  ESC         1442466 non-null  float64\n",
            " 12  ESC2010     1437863 non-null  float64\n",
            " 13  SERIESCFAL  361095 non-null   float64\n",
            " 14  OCUP        1306818 non-null  float64\n",
            " 15  CODMUNRES   1556824 non-null  int64  \n",
            " 16  LOCOCOR     1556824 non-null  int64  \n",
            " 17  CODESTAB    1131930 non-null  float64\n",
            " 18  ESTABDESCR  0 non-null        float64\n",
            " 19  CODMUNOCOR  1556824 non-null  int64  \n",
            " 20  IDADEMAE    28468 non-null    float64\n",
            " 21  ESCMAE      28068 non-null    float64\n",
            " 22  ESCMAE2010  27984 non-null    float64\n",
            " 23  SERIESCMAE  11215 non-null    float64\n",
            " 24  OCUPMAE     25079 non-null    float64\n",
            " 25  QTDFILVIVO  28199 non-null    float64\n",
            " 26  QTDFILMORT  27228 non-null    float64\n",
            " 27  GRAVIDEZ    29269 non-null    float64\n",
            " 28  SEMAGESTAC  27697 non-null    float64\n",
            " 29  GESTACAO    27742 non-null    float64\n",
            " 30  PARTO       29135 non-null    float64\n",
            " 31  OBITOPARTO  28885 non-null    float64\n",
            " 32  PESO        28245 non-null    float64\n",
            " 33  TPMORTEOCO  94512 non-null    float64\n",
            " 34  OBITOGRAV   94725 non-null    float64\n",
            " 35  OBITOPUERP  94715 non-null    float64\n",
            " 36  ASSISTMED   1069542 non-null  float64\n",
            " 37  EXAME       2126 non-null     float64\n",
            " 38  CIRURGIA    2079 non-null     float64\n",
            " 39  NECROPSIA   1085068 non-null  float64\n",
            " 40  LINHAA      1493586 non-null  object \n",
            " 41  LINHAB      1152797 non-null  object \n",
            " 42  LINHAC      695526 non-null   object \n",
            " 43  LINHAD      290291 non-null   object \n",
            " 44  LINHAII     654232 non-null   object \n",
            " 45  CAUSABAS    1556824 non-null  object \n",
            " 46  CB_PRE      0 non-null        float64\n",
            " 47  COMUNSVOIM  221808 non-null   float64\n",
            " 48  DTATESTADO  1546827 non-null  float64\n",
            " 49  CIRCOBITO   145681 non-null   float64\n",
            " 50  ACIDTRAB    45067 non-null    float64\n",
            " 51  FONTE       116989 non-null   float64\n",
            " 52  NUMEROLOTE  1556674 non-null  float64\n",
            " 53  TPPOS       1020367 non-null  object \n",
            " 54  DTINVESTIG  308310 non-null   float64\n",
            " 55  CAUSABAS_O  1554322 non-null  object \n",
            " 56  DTCADASTRO  1554374 non-null  float64\n",
            " 57  ATESTANTE   1417055 non-null  float64\n",
            " 58  STCODIFICA  1556488 non-null  object \n",
            " 59  CODIFICADO  1556822 non-null  object \n",
            " 60  VERSAOSIST  1556822 non-null  object \n",
            " 61  VERSAOSCB   1491964 non-null  float64\n",
            " 62  FONTEINV    313704 non-null   float64\n",
            " 63  DTRECEBIM   1450364 non-null  float64\n",
            " 64  ATESTADO    1556824 non-null  object \n",
            " 65  DTRECORIGA  1556824 non-null  int64  \n",
            " 66  CAUSAMAT    44 non-null       object \n",
            " 67  ESCMAEAGR1  27984 non-null    float64\n",
            " 68  ESCFALAGR1  1437863 non-null  float64\n",
            " 69  STDOEPIDEM  1556822 non-null  float64\n",
            " 70  STDONOVA    1556824 non-null  int64  \n",
            " 71  DIFDATA     1556824 non-null  int64  \n",
            " 72  NUDIASOBCO  61865 non-null    float64\n",
            " 73  NUDIASOBIN  0 non-null        float64\n",
            " 74  DTCADINV    62271 non-null    float64\n",
            " 75  TPOBITOCOR  62271 non-null    float64\n",
            " 76  DTCONINV    61804 non-null    float64\n",
            " 77  FONTES      26423 non-null    object \n",
            " 78  TPRESGINFO  3753 non-null     float64\n",
            " 79  TPNIVELINV  62332 non-null    object \n",
            " 80  NUDIASINF   0 non-null        float64\n",
            " 81  DTCADINF    26423 non-null    float64\n",
            " 82  MORTEPARTO  26423 non-null    float64\n",
            " 83  DTCONCASO   24269 non-null    float64\n",
            " 84  FONTESINF   0 non-null        float64\n",
            " 85  ALTCAUSA    25449 non-null    float64\n",
            " 86  CONTADOR    1556824 non-null  int64  \n",
            "dtypes: float64(60), int64(12), object(15)\n",
            "memory usage: 1.0+ GB\n"
          ]
        }
      ]
    },
    {
      "cell_type": "code",
      "source": [
        "# Transformar em string\n",
        "df['DTOBITO'] = df['DTOBITO'].astype(str)\n",
        "\n",
        "# Completar com zeros à esquerda até ter 8 dígitos\n",
        "df['DTOBITO'] = df['DTOBITO'].str.zfill(8)\n",
        "\n",
        "# Converter para datetime\n",
        "df['DTOBITO'] = pd.to_datetime(df['DTOBITO'], format='%d%m%Y', errors='coerce')\n",
        "\n",
        "# Conferir\n",
        "print(df[['DTOBITO']].head())\n",
        "print(df['DTOBITO'].dtypes)"
      ],
      "metadata": {
        "colab": {
          "base_uri": "https://localhost:8080/"
        },
        "id": "pcRPLHSHNidi",
        "outputId": "3d70d886-7fa9-456b-fe76-a15a6bb1db91"
      },
      "execution_count": null,
      "outputs": [
        {
          "output_type": "stream",
          "name": "stdout",
          "text": [
            "     DTOBITO\n",
            "0 2020-05-18\n",
            "1 2020-05-20\n",
            "2 2020-05-21\n",
            "3 2020-05-21\n",
            "4 2020-05-22\n",
            "datetime64[ns]\n"
          ]
        }
      ]
    },
    {
      "cell_type": "code",
      "source": [
        "# Transformar em string\n",
        "df['DTRECORIGA'] = df['DTRECORIGA'].astype(str)\n",
        "\n",
        "# Completar com zeros à esquerda até ter 8 dígitos\n",
        "df['DTRECORIGA'] = df['DTRECORIGA'].str.zfill(8)\n",
        "\n",
        "# Converter para datetime\n",
        "df['DTRECORIGA'] = pd.to_datetime(df['DTRECORIGA'], format='%d%m%Y', errors='coerce')\n",
        "\n",
        "# Conferir\n",
        "print(df[['DTRECORIGA']].head())\n",
        "print(df['DTRECORIGA'].dtypes)"
      ],
      "metadata": {
        "colab": {
          "base_uri": "https://localhost:8080/"
        },
        "id": "4GD3rmunNkPC",
        "outputId": "c9e17572-b143-4cc7-a0f2-f14f7f181eb2"
      },
      "execution_count": null,
      "outputs": [
        {
          "output_type": "stream",
          "name": "stdout",
          "text": [
            "  DTRECORIGA\n",
            "0 2020-05-29\n",
            "1 2020-05-29\n",
            "2 2020-05-29\n",
            "3 2020-05-29\n",
            "4 2020-05-29\n",
            "datetime64[ns]\n"
          ]
        }
      ]
    },
    {
      "cell_type": "code",
      "source": [
        "# Substituir valores nulos por 22000101\n",
        "df['DTNASC'] = df['DTNASC'].fillna(1012200)\n",
        "\n",
        "# Se quiser converter para inteiro (opcional)\n",
        "df['DTNASC'] = df['DTNASC'].astype(int)\n",
        "\n",
        "# Se quiser como string (opcional)\n",
        "df['DTNASC'] = df['DTNASC'].astype(str)\n",
        "\n",
        "# Completar com zeros à esquerda até ter 8 dígitos\n",
        "df['DTNASC'] = df['DTNASC'].str.zfill(8)\n",
        "\n",
        "# Converter para datetime\n",
        "df['DTNASC'] = pd.to_datetime(df['DTNASC'], format='%d%m%Y', errors='coerce')\n",
        "\n",
        "# Conferir\n",
        "print(df[['DTNASC']].head())\n",
        "print(df['DTNASC'].dtypes)"
      ],
      "metadata": {
        "colab": {
          "base_uri": "https://localhost:8080/"
        },
        "id": "SLGCIrVMNlXw",
        "outputId": "900789b4-7145-42eb-efeb-fad23d74a646"
      },
      "execution_count": null,
      "outputs": [
        {
          "output_type": "stream",
          "name": "stdout",
          "text": [
            "      DTNASC\n",
            "0 1932-06-07\n",
            "1 1952-03-16\n",
            "2 1961-02-17\n",
            "3 1942-08-10\n",
            "4 1936-04-13\n",
            "datetime64[ns]\n"
          ]
        }
      ]
    },
    {
      "cell_type": "code",
      "source": [
        "# Substituir valores nulos por 22000101\n",
        "df['DTATESTADO'] = df['DTATESTADO'].fillna(1012200)\n",
        "\n",
        "# Se quiser converter para inteiro (opcional)\n",
        "df['DTATESTADO'] = df['DTATESTADO'].astype(int)\n",
        "\n",
        "# Se quiser como string (opcional)\n",
        "df['DTATESTADO'] = df['DTATESTADO'].astype(str)\n",
        "\n",
        "# Completar com zeros à esquerda até ter 8 dígitos\n",
        "df['DTATESTADO'] = df['DTATESTADO'].str.zfill(8)\n",
        "\n",
        "# Converter para datetime\n",
        "df['DTATESTADO'] = pd.to_datetime(df['DTATESTADO'], format='%d%m%Y', errors='coerce')\n",
        "\n",
        "# Conferir\n",
        "print(df[['DTATESTADO']].head())\n",
        "print(df['DTATESTADO'].dtypes)"
      ],
      "metadata": {
        "colab": {
          "base_uri": "https://localhost:8080/"
        },
        "id": "YJLFvMTlNm7k",
        "outputId": "516111a5-70f2-440e-f085-e8385fa89731"
      },
      "execution_count": null,
      "outputs": [
        {
          "output_type": "stream",
          "name": "stdout",
          "text": [
            "  DTATESTADO\n",
            "0 2020-05-18\n",
            "1 2020-05-20\n",
            "2 2020-05-21\n",
            "3 2020-05-21\n",
            "4 2020-05-22\n",
            "datetime64[ns]\n"
          ]
        }
      ]
    },
    {
      "cell_type": "code",
      "source": [
        "# Substituir valores nulos por 22000101\n",
        "df['DTINVESTIG'] = df['DTINVESTIG'].fillna(1012200)\n",
        "\n",
        "# Se quiser converter para inteiro (opcional)\n",
        "df['DTINVESTIG'] = df['DTINVESTIG'].astype(int)\n",
        "\n",
        "# Se quiser como string (opcional)\n",
        "df['DTINVESTIG'] = df['DTINVESTIG'].astype(str)\n",
        "\n",
        "# Completar com zeros à esquerda até ter 8 dígitos\n",
        "df['DTINVESTIG'] = df['DTINVESTIG'].str.zfill(8)\n",
        "\n",
        "# Converter para datetime\n",
        "df['DTINVESTIG'] = pd.to_datetime(df['DTINVESTIG'], format='%d%m%Y', errors='coerce')\n",
        "\n",
        "# Conferir\n",
        "print(df[['DTINVESTIG']].head())\n",
        "print(df['DTINVESTIG'].dtypes)"
      ],
      "metadata": {
        "colab": {
          "base_uri": "https://localhost:8080/"
        },
        "id": "BPVZxZv8NpLv",
        "outputId": "2d1ce1bc-d5a3-4a3a-8774-021af73b39c3"
      },
      "execution_count": null,
      "outputs": [
        {
          "output_type": "stream",
          "name": "stdout",
          "text": [
            "  DTINVESTIG\n",
            "0 2200-01-01\n",
            "1 2020-06-04\n",
            "2 2200-01-01\n",
            "3 2200-01-01\n",
            "4 2200-01-01\n",
            "datetime64[ns]\n"
          ]
        }
      ]
    },
    {
      "cell_type": "code",
      "source": [
        "var =  'DTCADASTRO'\n",
        " # Substituir valores nulos por 22000101\n",
        "df[var] = df[var].fillna(1012200)\n",
        "\n",
        "# Se quiser converter para inteiro (opcional)\n",
        "df[var] = df[var].astype(int)\n",
        "\n",
        "# Se quiser como string (opcional)\n",
        "df[var] = df[var].astype(str)\n",
        "\n",
        "# Completar com zeros à esquerda até ter 8 dígitos\n",
        "df[var] = df[var].str.zfill(8)\n",
        "\n",
        "# Converter para datetime\n",
        "df[var] = pd.to_datetime(df[var], format='%d%m%Y', errors='coerce')\n",
        "\n",
        "# Conferir\n",
        "print(df[[var]].head())\n",
        "print(df[var].dtypes)"
      ],
      "metadata": {
        "colab": {
          "base_uri": "https://localhost:8080/"
        },
        "id": "pY7jZe_aNq7A",
        "outputId": "cc9d642e-497a-431f-ba96-5256b9415957"
      },
      "execution_count": null,
      "outputs": [
        {
          "output_type": "stream",
          "name": "stdout",
          "text": [
            "  DTCADASTRO\n",
            "0 2020-05-22\n",
            "1 2020-05-28\n",
            "2 2020-05-28\n",
            "3 2020-05-29\n",
            "4 2020-05-29\n",
            "datetime64[ns]\n"
          ]
        }
      ]
    },
    {
      "cell_type": "code",
      "source": [
        "var =  'DTRECEBIM'\n",
        " # Substituir valores nulos por 22000101\n",
        "df[var] = df[var].fillna(1012200)\n",
        "\n",
        "# Se quiser converter para inteiro (opcional)\n",
        "df[var] = df[var].astype(int)\n",
        "\n",
        "# Se quiser como string (opcional)\n",
        "df[var] = df[var].astype(str)\n",
        "\n",
        "# Completar com zeros à esquerda até ter 8 dígitos\n",
        "df[var] = df[var].str.zfill(8)\n",
        "\n",
        "# Converter para datetime\n",
        "df[var] = pd.to_datetime(df[var], format='%d%m%Y', errors='coerce')\n",
        "\n",
        "# Conferir\n",
        "print(df[[var]].head())\n",
        "print(df[var].dtypes)"
      ],
      "metadata": {
        "colab": {
          "base_uri": "https://localhost:8080/"
        },
        "id": "Sm6atRYHNsLM",
        "outputId": "77367be1-f944-4e55-f9b3-56b8783a507b"
      },
      "execution_count": null,
      "outputs": [
        {
          "output_type": "stream",
          "name": "stdout",
          "text": [
            "   DTRECEBIM\n",
            "0 2020-05-29\n",
            "1 2020-06-18\n",
            "2 2020-05-29\n",
            "3 2020-05-29\n",
            "4 2020-05-29\n",
            "datetime64[ns]\n"
          ]
        }
      ]
    },
    {
      "cell_type": "code",
      "source": [
        "var =  'DTCADINV'\n",
        " # Substituir valores nulos por 22000101\n",
        "df[var] = df[var].fillna(1012200)\n",
        "\n",
        "# Se quiser converter para inteiro (opcional)\n",
        "df[var] = df[var].astype(int)\n",
        "\n",
        "# Se quiser como string (opcional)\n",
        "df[var] = df[var].astype(str)\n",
        "\n",
        "# Completar com zeros à esquerda até ter 8 dígitos\n",
        "df[var] = df[var].str.zfill(8)\n",
        "\n",
        "# Converter para datetime\n",
        "df[var] = pd.to_datetime(df[var], format='%d%m%Y', errors='coerce')\n",
        "\n",
        "# Conferir\n",
        "print(df[[var]].head())\n",
        "print(df[var].dtypes)"
      ],
      "metadata": {
        "colab": {
          "base_uri": "https://localhost:8080/"
        },
        "id": "iX9Ks27DNtV6",
        "outputId": "90c25fc9-bd38-4aa3-fced-528125475d0d"
      },
      "execution_count": null,
      "outputs": [
        {
          "output_type": "stream",
          "name": "stdout",
          "text": [
            "    DTCADINV\n",
            "0 2200-01-01\n",
            "1 2200-01-01\n",
            "2 2200-01-01\n",
            "3 2200-01-01\n",
            "4 2200-01-01\n",
            "datetime64[ns]\n"
          ]
        }
      ]
    },
    {
      "cell_type": "code",
      "source": [
        "var =  'DTCONINV'\n",
        " # Substituir valores nulos por 22000101\n",
        "df[var] = df[var].fillna(1012200)\n",
        "\n",
        "# Se quiser converter para inteiro (opcional)\n",
        "df[var] = df[var].astype(int)\n",
        "\n",
        "# Se quiser como string (opcional)\n",
        "df[var] = df[var].astype(str)\n",
        "\n",
        "# Completar com zeros à esquerda até ter 8 dígitos\n",
        "df[var] = df[var].str.zfill(8)\n",
        "\n",
        "# Converter para datetime\n",
        "df[var] = pd.to_datetime(df[var], format='%d%m%Y', errors='coerce')\n",
        "\n",
        "# Conferir\n",
        "print(df[[var]].head())\n",
        "print(df[var].dtypes)"
      ],
      "metadata": {
        "colab": {
          "base_uri": "https://localhost:8080/"
        },
        "id": "jigl0SUZNuhK",
        "outputId": "54ce7905-81c3-45e6-a6ef-7829b757cd8b"
      },
      "execution_count": null,
      "outputs": [
        {
          "output_type": "stream",
          "name": "stdout",
          "text": [
            "    DTCONINV\n",
            "0 2200-01-01\n",
            "1 2200-01-01\n",
            "2 2200-01-01\n",
            "3 2200-01-01\n",
            "4 2200-01-01\n",
            "datetime64[ns]\n"
          ]
        }
      ]
    },
    {
      "cell_type": "code",
      "source": [
        "var =  'DTCADINF'\n",
        " # Substituir valores nulos por 22000101\n",
        "df[var] = df[var].fillna(1012200)\n",
        "\n",
        "# Se quiser converter para inteiro (opcional)\n",
        "df[var] = df[var].astype(int)\n",
        "\n",
        "# Se quiser como string (opcional)\n",
        "df[var] = df[var].astype(str)\n",
        "\n",
        "# Completar com zeros à esquerda até ter 8 dígitos\n",
        "df[var] = df[var].str.zfill(8)\n",
        "\n",
        "# Converter para datetime\n",
        "df[var] = pd.to_datetime(df[var], format='%d%m%Y', errors='coerce')\n",
        "\n",
        "# Conferir\n",
        "print(df[[var]].head())\n",
        "print(df[var].dtypes)"
      ],
      "metadata": {
        "colab": {
          "base_uri": "https://localhost:8080/"
        },
        "id": "zeQXGW4CNvx8",
        "outputId": "cd4544c9-a493-427b-95ae-72e6aa9414c7"
      },
      "execution_count": null,
      "outputs": [
        {
          "output_type": "stream",
          "name": "stdout",
          "text": [
            "    DTCADINF\n",
            "0 2200-01-01\n",
            "1 2200-01-01\n",
            "2 2200-01-01\n",
            "3 2200-01-01\n",
            "4 2200-01-01\n",
            "datetime64[ns]\n"
          ]
        }
      ]
    },
    {
      "cell_type": "code",
      "source": [
        "var =  'DTCONCASO'\n",
        " # Substituir valores nulos por 22000101\n",
        "df[var] = df[var].fillna(1012200)\n",
        "\n",
        "# Se quiser converter para inteiro (opcional)\n",
        "df[var] = df[var].astype(int)\n",
        "\n",
        "# Se quiser como string (opcional)\n",
        "df[var] = df[var].astype(str)\n",
        "\n",
        "# Completar com zeros à esquerda até ter 8 dígitos\n",
        "df[var] = df[var].str.zfill(8)\n",
        "\n",
        "# Converter para datetime\n",
        "df[var] = pd.to_datetime(df[var], format='%d%m%Y', errors='coerce')\n",
        "\n",
        "# Conferir\n",
        "print(df[[var]].head())\n",
        "print(df[var].dtypes)"
      ],
      "metadata": {
        "colab": {
          "base_uri": "https://localhost:8080/"
        },
        "id": "SS3jsgvWNxIY",
        "outputId": "547f1fca-bef0-42d5-f7b3-5b875f079fa2"
      },
      "execution_count": null,
      "outputs": [
        {
          "output_type": "stream",
          "name": "stdout",
          "text": [
            "   DTCONCASO\n",
            "0 2200-01-01\n",
            "1 2200-01-01\n",
            "2 2200-01-01\n",
            "3 2200-01-01\n",
            "4 2200-01-01\n",
            "datetime64[ns]\n"
          ]
        }
      ]
    },
    {
      "cell_type": "code",
      "source": [
        "# Preencher valores nulos em todas as colunas restantes com -1\n",
        "df = df.fillna(-1)"
      ],
      "metadata": {
        "id": "Jt1fRVN3NyUd"
      },
      "execution_count": null,
      "outputs": []
    },
    {
      "cell_type": "code",
      "source": [
        "df.info()\n",
        "#Valores Nulos -> 01/01/2200\n",
        "#DTOBITO   1316719 non-null  int64\n",
        "#DTRECORIGA  1316719 non-null  int64\n",
        "#DTNASC      1312650 non-null  float64\n",
        "#DTATESTADO  1306593 non-null  float64\n",
        "#DTINVESTIG  211899 non-null   float64\n",
        "#DTCADASTRO  1312600 non-null  float64\n",
        "#DTRECEBIM   1316445 non-null  float64\n",
        "#DTCADINV    57903 non-null    float64\n",
        "#DTCONINV    57438 non-null    float64\n",
        "#DTCADINF    32303 non-null    float64\n",
        "#DTCONCASO   29807 non-null    float64"
      ],
      "metadata": {
        "colab": {
          "base_uri": "https://localhost:8080/"
        },
        "id": "Ve37OwF2N0DX",
        "outputId": "975905e5-d0fd-4697-de14-bb888a4be6fe"
      },
      "execution_count": null,
      "outputs": [
        {
          "output_type": "stream",
          "name": "stdout",
          "text": [
            "<class 'pandas.core.frame.DataFrame'>\n",
            "RangeIndex: 1556824 entries, 0 to 1556823\n",
            "Data columns (total 87 columns):\n",
            " #   Column      Non-Null Count    Dtype         \n",
            "---  ------      --------------    -----         \n",
            " 0   ORIGEM      1556824 non-null  int64         \n",
            " 1   TIPOBITO    1556824 non-null  int64         \n",
            " 2   DTOBITO     1556824 non-null  datetime64[ns]\n",
            " 3   HORAOBITO   1556824 non-null  float64       \n",
            " 4   NATURAL     1556824 non-null  float64       \n",
            " 5   CODMUNNATU  1556824 non-null  float64       \n",
            " 6   DTNASC      1556824 non-null  object        \n",
            " 7   IDADE       1556824 non-null  int64         \n",
            " 8   SEXO        1556824 non-null  int64         \n",
            " 9   RACACOR     1556824 non-null  float64       \n",
            " 10  ESTCIV      1556824 non-null  float64       \n",
            " 11  ESC         1556824 non-null  float64       \n",
            " 12  ESC2010     1556824 non-null  float64       \n",
            " 13  SERIESCFAL  1556824 non-null  float64       \n",
            " 14  OCUP        1556824 non-null  float64       \n",
            " 15  CODMUNRES   1556824 non-null  int64         \n",
            " 16  LOCOCOR     1556824 non-null  int64         \n",
            " 17  CODESTAB    1556824 non-null  float64       \n",
            " 18  ESTABDESCR  1556824 non-null  float64       \n",
            " 19  CODMUNOCOR  1556824 non-null  int64         \n",
            " 20  IDADEMAE    1556824 non-null  float64       \n",
            " 21  ESCMAE      1556824 non-null  float64       \n",
            " 22  ESCMAE2010  1556824 non-null  float64       \n",
            " 23  SERIESCMAE  1556824 non-null  float64       \n",
            " 24  OCUPMAE     1556824 non-null  float64       \n",
            " 25  QTDFILVIVO  1556824 non-null  float64       \n",
            " 26  QTDFILMORT  1556824 non-null  float64       \n",
            " 27  GRAVIDEZ    1556824 non-null  float64       \n",
            " 28  SEMAGESTAC  1556824 non-null  float64       \n",
            " 29  GESTACAO    1556824 non-null  float64       \n",
            " 30  PARTO       1556824 non-null  float64       \n",
            " 31  OBITOPARTO  1556824 non-null  float64       \n",
            " 32  PESO        1556824 non-null  float64       \n",
            " 33  TPMORTEOCO  1556824 non-null  float64       \n",
            " 34  OBITOGRAV   1556824 non-null  float64       \n",
            " 35  OBITOPUERP  1556824 non-null  float64       \n",
            " 36  ASSISTMED   1556824 non-null  float64       \n",
            " 37  EXAME       1556824 non-null  float64       \n",
            " 38  CIRURGIA    1556824 non-null  float64       \n",
            " 39  NECROPSIA   1556824 non-null  float64       \n",
            " 40  LINHAA      1556824 non-null  object        \n",
            " 41  LINHAB      1556824 non-null  object        \n",
            " 42  LINHAC      1556824 non-null  object        \n",
            " 43  LINHAD      1556824 non-null  object        \n",
            " 44  LINHAII     1556824 non-null  object        \n",
            " 45  CAUSABAS    1556824 non-null  object        \n",
            " 46  CB_PRE      1556824 non-null  float64       \n",
            " 47  COMUNSVOIM  1556824 non-null  float64       \n",
            " 48  DTATESTADO  1556824 non-null  object        \n",
            " 49  CIRCOBITO   1556824 non-null  float64       \n",
            " 50  ACIDTRAB    1556824 non-null  float64       \n",
            " 51  FONTE       1556824 non-null  float64       \n",
            " 52  NUMEROLOTE  1556824 non-null  float64       \n",
            " 53  TPPOS       1556824 non-null  object        \n",
            " 54  DTINVESTIG  1556824 non-null  datetime64[ns]\n",
            " 55  CAUSABAS_O  1556824 non-null  object        \n",
            " 56  DTCADASTRO  1556824 non-null  datetime64[ns]\n",
            " 57  ATESTANTE   1556824 non-null  float64       \n",
            " 58  STCODIFICA  1556824 non-null  object        \n",
            " 59  CODIFICADO  1556824 non-null  object        \n",
            " 60  VERSAOSIST  1556824 non-null  object        \n",
            " 61  VERSAOSCB   1556824 non-null  float64       \n",
            " 62  FONTEINV    1556824 non-null  float64       \n",
            " 63  DTRECEBIM   1556824 non-null  datetime64[ns]\n",
            " 64  ATESTADO    1556824 non-null  object        \n",
            " 65  DTRECORIGA  1556824 non-null  datetime64[ns]\n",
            " 66  CAUSAMAT    1556824 non-null  object        \n",
            " 67  ESCMAEAGR1  1556824 non-null  float64       \n",
            " 68  ESCFALAGR1  1556824 non-null  float64       \n",
            " 69  STDOEPIDEM  1556824 non-null  float64       \n",
            " 70  STDONOVA    1556824 non-null  int64         \n",
            " 71  DIFDATA     1556824 non-null  int64         \n",
            " 72  NUDIASOBCO  1556824 non-null  float64       \n",
            " 73  NUDIASOBIN  1556824 non-null  float64       \n",
            " 74  DTCADINV    1556824 non-null  datetime64[ns]\n",
            " 75  TPOBITOCOR  1556824 non-null  float64       \n",
            " 76  DTCONINV    1556824 non-null  datetime64[ns]\n",
            " 77  FONTES      1556824 non-null  object        \n",
            " 78  TPRESGINFO  1556824 non-null  float64       \n",
            " 79  TPNIVELINV  1556824 non-null  object        \n",
            " 80  NUDIASINF   1556824 non-null  float64       \n",
            " 81  DTCADINF    1556824 non-null  datetime64[ns]\n",
            " 82  MORTEPARTO  1556824 non-null  float64       \n",
            " 83  DTCONCASO   1556824 non-null  datetime64[ns]\n",
            " 84  FONTESINF   1556824 non-null  float64       \n",
            " 85  ALTCAUSA    1556824 non-null  float64       \n",
            " 86  CONTADOR    1556824 non-null  int64         \n",
            "dtypes: datetime64[ns](9), float64(51), int64(10), object(17)\n",
            "memory usage: 1.0+ GB\n"
          ]
        }
      ]
    },
    {
      "cell_type": "code",
      "source": [
        "colunas_excluir = [\n",
        "    \"CB_PRE\", \"CAUSAMAT\", \"EXAME\", \"CIRURGIA\", \"SERIESCFAL\", \"SERIESCMAE\",\n",
        "    \"ESCMAEAGR1\", \"TPRESGINFO\", \"TP_ALTERA\", \"CB_ALT\", \"MORTEPARTO\",\n",
        "    \"ALTCAUSA\", \"FONTES\", \"DTCADINF\", \"DTCONCASO\", \"VERSAOSIST\", \"VERSAOSCB\",\n",
        "    \"OPOR_DO\", \"STCODIFICA\", \"CODIFICADO\", \"TPMORTEOCO\", \"COMUNSVOIM\", \"OBITOGRAV\",\n",
        "    \"OBITOPUERP\", \"FONTEINV\", \"DTINVESTIG\", \"NUDIASOBCO\", \"DTCADINV\", \"TPNIVELINV\",\n",
        "    \"IDADEMAE\", \"ESCMAE\", \"ESCMAE2010\", \"SERIESCMAE\", \"OCUPMAE\",\n",
        "    \"QTDFILVIVO\", \"QTDFILMORT\", \"GRAVIDEZ\", \"SEMAGESTAC\", \"GESTACAO\",\n",
        "    \"PARTO\", \"OBITOPARTO\", \"PESO\", \"CB_PRE\", \"CAUSAMAT\", \"ESCMAEAGR1\",\n",
        "    \"MORTEPARTO\", \"contador\", \"ORIGEM\", \"ESC\", \"FONTES\", \"NECROPSIA\", \"ACIDTRAB\",\n",
        "    \"FONTE\", \"NUMEROLOTE\", \"DTCADASTRO\", \"ATESTANTE\", \"DTRECEBIM\", \"DTRECORIGA\",\n",
        "    \"STDONOVA\", \"DIFDATA\",\"TPOBITOCOR\", \"DTCONINV\",\"CONTADOR\", \"ESTABDESCR\",\n",
        "    \"NUDIASOBIN\",\"NUDIASINF\", \"FONTESINF\", \"ESC2010\", \"TIPOBITO\"\n",
        "\n",
        "]\n",
        "\n",
        "df = df.drop(columns=colunas_excluir, errors=\"ignore\")\n"
      ],
      "metadata": {
        "id": "ClmUTQi9QF6i"
      },
      "execution_count": null,
      "outputs": []
    },
    {
      "cell_type": "code",
      "source": [
        "df.info()"
      ],
      "metadata": {
        "colab": {
          "base_uri": "https://localhost:8080/"
        },
        "id": "1o1onxZ1QNjM",
        "outputId": "9e7a705e-bf73-4347-898f-92b7e4cb224f"
      },
      "execution_count": null,
      "outputs": [
        {
          "output_type": "stream",
          "name": "stdout",
          "text": [
            "<class 'pandas.core.frame.DataFrame'>\n",
            "RangeIndex: 1556824 entries, 0 to 1556823\n",
            "Data columns (total 28 columns):\n",
            " #   Column      Non-Null Count    Dtype         \n",
            "---  ------      --------------    -----         \n",
            " 0   DTOBITO     1556824 non-null  datetime64[ns]\n",
            " 1   HORAOBITO   1556824 non-null  float64       \n",
            " 2   NATURAL     1556824 non-null  float64       \n",
            " 3   CODMUNNATU  1556824 non-null  float64       \n",
            " 4   DTNASC      1556824 non-null  object        \n",
            " 5   IDADE       1556824 non-null  int64         \n",
            " 6   SEXO        1556824 non-null  int64         \n",
            " 7   RACACOR     1556824 non-null  float64       \n",
            " 8   ESTCIV      1556824 non-null  float64       \n",
            " 9   OCUP        1556824 non-null  float64       \n",
            " 10  CODMUNRES   1556824 non-null  int64         \n",
            " 11  LOCOCOR     1556824 non-null  int64         \n",
            " 12  CODESTAB    1556824 non-null  float64       \n",
            " 13  CODMUNOCOR  1556824 non-null  int64         \n",
            " 14  ASSISTMED   1556824 non-null  float64       \n",
            " 15  LINHAA      1556824 non-null  object        \n",
            " 16  LINHAB      1556824 non-null  object        \n",
            " 17  LINHAC      1556824 non-null  object        \n",
            " 18  LINHAD      1556824 non-null  object        \n",
            " 19  LINHAII     1556824 non-null  object        \n",
            " 20  CAUSABAS    1556824 non-null  object        \n",
            " 21  DTATESTADO  1556824 non-null  object        \n",
            " 22  CIRCOBITO   1556824 non-null  float64       \n",
            " 23  TPPOS       1556824 non-null  object        \n",
            " 24  CAUSABAS_O  1556824 non-null  object        \n",
            " 25  ATESTADO    1556824 non-null  object        \n",
            " 26  ESCFALAGR1  1556824 non-null  float64       \n",
            " 27  STDOEPIDEM  1556824 non-null  float64       \n",
            "dtypes: datetime64[ns](1), float64(11), int64(5), object(11)\n",
            "memory usage: 332.6+ MB\n"
          ]
        }
      ]
    },
    {
      "cell_type": "code",
      "source": [
        "df.to_csv('DO_20.csv', index=False)"
      ],
      "metadata": {
        "id": "AVVFmQ8AQOQH"
      },
      "execution_count": null,
      "outputs": []
    },
    {
      "cell_type": "markdown",
      "source": [
        "# Ajustes de Idade e Ocupação"
      ],
      "metadata": {
        "id": "a_bswIylDLSQ"
      }
    },
    {
      "cell_type": "code",
      "source": [
        "df_2020 = pd.read_csv('DO_20.csv')"
      ],
      "metadata": {
        "id": "LujA8MKiEeD2"
      },
      "execution_count": 3,
      "outputs": []
    },
    {
      "cell_type": "code",
      "source": [
        "df_2020['TIPOIDADE'] = np.where(df_2020['IDADE'] < 100, 0, df_2020['IDADE'].astype(str).str[0].astype(int))"
      ],
      "metadata": {
        "id": "VeWt6Da5EgkH"
      },
      "execution_count": 4,
      "outputs": []
    },
    {
      "cell_type": "code",
      "source": [
        "df_2020['NR_IDADE'] = np.where(df_2020['IDADE'] < 100, df_2020['IDADE'],\n",
        "                                 df_2020['IDADE'].astype(str).str[1:].apply(lambda x: int(x) if x else 0))"
      ],
      "metadata": {
        "id": "2-N--ubbEh_N"
      },
      "execution_count": 5,
      "outputs": []
    },
    {
      "cell_type": "code",
      "source": [
        "df_2020['OCUP'] = np.where(df_2020['OCUP'] > 999990, 999999, df_2020['OCUP'])"
      ],
      "metadata": {
        "id": "RvXrA7mcEkDU"
      },
      "execution_count": 6,
      "outputs": []
    },
    {
      "cell_type": "code",
      "source": [
        "df_2020.to_csv('DO_20.csv', index=False)"
      ],
      "metadata": {
        "id": "Jt96c78mEldI"
      },
      "execution_count": 8,
      "outputs": []
    }
  ]
}